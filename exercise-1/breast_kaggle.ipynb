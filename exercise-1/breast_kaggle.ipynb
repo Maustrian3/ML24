{
 "cells": [
  {
   "cell_type": "code",
   "execution_count": 112,
   "id": "initial_id",
   "metadata": {
    "collapsed": true,
    "ExecuteTime": {
     "end_time": "2024-04-04T15:43:38.811053Z",
     "start_time": "2024-04-04T15:43:38.806865Z"
    }
   },
   "outputs": [],
   "source": [
    "import pandas as pd\n",
    "import matplotlib.pyplot as plt"
   ]
  },
  {
   "cell_type": "code",
   "outputs": [],
   "source": [
    "# Read the training data, test data, and solution CSV files\n",
    "train_data = pd.read_csv(\"./datasets_kaggle/breast-cancer/breast-cancer-diagnostic.shuf.lrn.csv\")\n",
    "test_data = pd.read_csv(\"./datasets_kaggle/breast-cancer/breast-cancer-diagnostic.shuf.tes.csv\")\n",
    "solution = pd.read_csv(\"./datasets_kaggle/breast-cancer/breast-cancer-diagnostic.shuf.sol.ex.csv\")"
   ],
   "metadata": {
    "collapsed": false,
    "ExecuteTime": {
     "end_time": "2024-04-04T15:43:38.894757Z",
     "start_time": "2024-04-04T15:43:38.883283Z"
    }
   },
   "id": "5aa458cfab10357",
   "execution_count": 113
  },
  {
   "cell_type": "markdown",
   "source": [
    "# Notes\n",
    "* learn decision tree with and without normalization and look for differences"
   ],
   "metadata": {
    "collapsed": false
   },
   "id": "40aad662c2994f74"
  },
  {
   "cell_type": "markdown",
   "source": [
    "## Training data set"
   ],
   "metadata": {
    "collapsed": false
   },
   "id": "4dff5b78baccff17"
  },
  {
   "cell_type": "code",
   "outputs": [
    {
     "name": "stdout",
     "output_type": "stream",
     "text": [
      "Samples: 285\n",
      "Features: 32\n"
     ]
    }
   ],
   "source": [
    "print(\"Samples: \" + str(train_data.shape[0]))\n",
    "print(\"Features: \" + str(train_data.shape[1]))\n",
    "\n",
    "# Iterate over all columns\n",
    "for column in train_data.columns:\n",
    "    # Convert bytes to string for each column if necessary\n",
    "    if train_data[column].dtype == 'object':  # Check if column dtype is object (usually indicates strings)\n",
    "        train_data[column] = train_data[column].apply(lambda x: x.decode() if isinstance(x, bytes) else x)\n"
   ],
   "metadata": {
    "collapsed": false,
    "ExecuteTime": {
     "end_time": "2024-04-04T15:43:38.902732Z",
     "start_time": "2024-04-04T15:43:38.896768Z"
    }
   },
   "id": "3370bc00bc96bc26",
   "execution_count": 114
  },
  {
   "cell_type": "code",
   "outputs": [
    {
     "data": {
      "text/plain": "           ID  class  radiusMean   textureMean   perimeterMean   areaMean  \\\n0      886452   True       13.96         17.05           91.43      602.4   \n1    84348301   True       11.42         20.38           77.58      386.1   \n2     9012795   True       21.37         15.10          141.30     1386.0   \n3      894326   True       18.22         18.87          118.70     1027.0   \n4      867387  False       15.71         13.93          102.00      761.7   \n..        ...    ...         ...           ...             ...        ...   \n280    911150  False       14.53         19.34           94.25      659.7   \n281    857156  False       13.49         22.30           86.91      561.0   \n282   8910251  False       10.60         18.95           69.28      346.4   \n283   8910499  False       13.59         21.84           87.16      561.0   \n284    877501  False       12.23         19.56           78.54      461.0   \n\n      smoothnessMean   compactnessMean   concavityMean   concavePointsMean  \\\n0            0.10960           0.12790         0.09789             0.05246   \n1            0.14250           0.28390         0.24140             0.10520   \n2            0.10010           0.15150         0.19320             0.12550   \n3            0.09746           0.11170         0.11300             0.07950   \n4            0.09462           0.09462         0.07135             0.05933   \n..               ...               ...             ...                 ...   \n280          0.08388           0.07800         0.08817             0.02925   \n281          0.08752           0.07698         0.04751             0.03384   \n282          0.09688           0.11470         0.06387             0.02642   \n283          0.07956           0.08259         0.04072             0.02142   \n284          0.09586           0.08087         0.04187             0.04107   \n\n     ...   radiusWorst   textureWorst   perimeterWorst   areaWorst  \\\n0    ...         16.39          22.07           108.10       826.0   \n1    ...         14.91          26.50            98.87       567.7   \n2    ...         22.69          21.84           152.10      1535.0   \n3    ...         21.84          25.00           140.90      1485.0   \n4    ...         17.50          19.25           114.30       922.8   \n..   ...           ...            ...              ...         ...   \n280  ...         16.30          28.39           108.10       830.5   \n281  ...         15.15          31.82            99.00       698.8   \n282  ...         11.88          22.94            78.28       424.8   \n283  ...         14.80          30.04            97.66       661.5   \n284  ...         14.44          28.36            92.15       638.4   \n\n      smoothnessWorst   compactnessWorst   concavityWorst  \\\n0              0.1512             0.3262           0.3209   \n1              0.2098             0.8663           0.6869   \n2              0.1192             0.2840           0.4024   \n3              0.1434             0.2763           0.3853   \n4              0.1223             0.1949           0.1709   \n..                ...                ...              ...   \n280            0.1089             0.2649           0.3779   \n281            0.1162             0.1711           0.2282   \n282            0.1213             0.2515           0.1916   \n283            0.1005             0.1730           0.1453   \n284            0.1429             0.2042           0.1377   \n\n      concavePointsWorst   symmetryWorst   fractalDimensionWorst  \n0                0.13740          0.3068                 0.07957  \n1                0.25750          0.6638                 0.17300  \n2                0.19660          0.2730                 0.08666  \n3                0.17760          0.2812                 0.08198  \n4                0.13740          0.2723                 0.07071  \n..                   ...             ...                     ...  \n280              0.09594          0.2471                 0.07463  \n281              0.12820          0.2871                 0.06917  \n282              0.07926          0.2940                 0.07587  \n283              0.06189          0.2446                 0.07024  \n284              0.10800          0.2668                 0.08174  \n\n[285 rows x 32 columns]",
      "text/html": "<div>\n<style scoped>\n    .dataframe tbody tr th:only-of-type {\n        vertical-align: middle;\n    }\n\n    .dataframe tbody tr th {\n        vertical-align: top;\n    }\n\n    .dataframe thead th {\n        text-align: right;\n    }\n</style>\n<table border=\"1\" class=\"dataframe\">\n  <thead>\n    <tr style=\"text-align: right;\">\n      <th></th>\n      <th>ID</th>\n      <th>class</th>\n      <th>radiusMean</th>\n      <th>textureMean</th>\n      <th>perimeterMean</th>\n      <th>areaMean</th>\n      <th>smoothnessMean</th>\n      <th>compactnessMean</th>\n      <th>concavityMean</th>\n      <th>concavePointsMean</th>\n      <th>...</th>\n      <th>radiusWorst</th>\n      <th>textureWorst</th>\n      <th>perimeterWorst</th>\n      <th>areaWorst</th>\n      <th>smoothnessWorst</th>\n      <th>compactnessWorst</th>\n      <th>concavityWorst</th>\n      <th>concavePointsWorst</th>\n      <th>symmetryWorst</th>\n      <th>fractalDimensionWorst</th>\n    </tr>\n  </thead>\n  <tbody>\n    <tr>\n      <th>0</th>\n      <td>886452</td>\n      <td>True</td>\n      <td>13.96</td>\n      <td>17.05</td>\n      <td>91.43</td>\n      <td>602.4</td>\n      <td>0.10960</td>\n      <td>0.12790</td>\n      <td>0.09789</td>\n      <td>0.05246</td>\n      <td>...</td>\n      <td>16.39</td>\n      <td>22.07</td>\n      <td>108.10</td>\n      <td>826.0</td>\n      <td>0.1512</td>\n      <td>0.3262</td>\n      <td>0.3209</td>\n      <td>0.13740</td>\n      <td>0.3068</td>\n      <td>0.07957</td>\n    </tr>\n    <tr>\n      <th>1</th>\n      <td>84348301</td>\n      <td>True</td>\n      <td>11.42</td>\n      <td>20.38</td>\n      <td>77.58</td>\n      <td>386.1</td>\n      <td>0.14250</td>\n      <td>0.28390</td>\n      <td>0.24140</td>\n      <td>0.10520</td>\n      <td>...</td>\n      <td>14.91</td>\n      <td>26.50</td>\n      <td>98.87</td>\n      <td>567.7</td>\n      <td>0.2098</td>\n      <td>0.8663</td>\n      <td>0.6869</td>\n      <td>0.25750</td>\n      <td>0.6638</td>\n      <td>0.17300</td>\n    </tr>\n    <tr>\n      <th>2</th>\n      <td>9012795</td>\n      <td>True</td>\n      <td>21.37</td>\n      <td>15.10</td>\n      <td>141.30</td>\n      <td>1386.0</td>\n      <td>0.10010</td>\n      <td>0.15150</td>\n      <td>0.19320</td>\n      <td>0.12550</td>\n      <td>...</td>\n      <td>22.69</td>\n      <td>21.84</td>\n      <td>152.10</td>\n      <td>1535.0</td>\n      <td>0.1192</td>\n      <td>0.2840</td>\n      <td>0.4024</td>\n      <td>0.19660</td>\n      <td>0.2730</td>\n      <td>0.08666</td>\n    </tr>\n    <tr>\n      <th>3</th>\n      <td>894326</td>\n      <td>True</td>\n      <td>18.22</td>\n      <td>18.87</td>\n      <td>118.70</td>\n      <td>1027.0</td>\n      <td>0.09746</td>\n      <td>0.11170</td>\n      <td>0.11300</td>\n      <td>0.07950</td>\n      <td>...</td>\n      <td>21.84</td>\n      <td>25.00</td>\n      <td>140.90</td>\n      <td>1485.0</td>\n      <td>0.1434</td>\n      <td>0.2763</td>\n      <td>0.3853</td>\n      <td>0.17760</td>\n      <td>0.2812</td>\n      <td>0.08198</td>\n    </tr>\n    <tr>\n      <th>4</th>\n      <td>867387</td>\n      <td>False</td>\n      <td>15.71</td>\n      <td>13.93</td>\n      <td>102.00</td>\n      <td>761.7</td>\n      <td>0.09462</td>\n      <td>0.09462</td>\n      <td>0.07135</td>\n      <td>0.05933</td>\n      <td>...</td>\n      <td>17.50</td>\n      <td>19.25</td>\n      <td>114.30</td>\n      <td>922.8</td>\n      <td>0.1223</td>\n      <td>0.1949</td>\n      <td>0.1709</td>\n      <td>0.13740</td>\n      <td>0.2723</td>\n      <td>0.07071</td>\n    </tr>\n    <tr>\n      <th>...</th>\n      <td>...</td>\n      <td>...</td>\n      <td>...</td>\n      <td>...</td>\n      <td>...</td>\n      <td>...</td>\n      <td>...</td>\n      <td>...</td>\n      <td>...</td>\n      <td>...</td>\n      <td>...</td>\n      <td>...</td>\n      <td>...</td>\n      <td>...</td>\n      <td>...</td>\n      <td>...</td>\n      <td>...</td>\n      <td>...</td>\n      <td>...</td>\n      <td>...</td>\n      <td>...</td>\n    </tr>\n    <tr>\n      <th>280</th>\n      <td>911150</td>\n      <td>False</td>\n      <td>14.53</td>\n      <td>19.34</td>\n      <td>94.25</td>\n      <td>659.7</td>\n      <td>0.08388</td>\n      <td>0.07800</td>\n      <td>0.08817</td>\n      <td>0.02925</td>\n      <td>...</td>\n      <td>16.30</td>\n      <td>28.39</td>\n      <td>108.10</td>\n      <td>830.5</td>\n      <td>0.1089</td>\n      <td>0.2649</td>\n      <td>0.3779</td>\n      <td>0.09594</td>\n      <td>0.2471</td>\n      <td>0.07463</td>\n    </tr>\n    <tr>\n      <th>281</th>\n      <td>857156</td>\n      <td>False</td>\n      <td>13.49</td>\n      <td>22.30</td>\n      <td>86.91</td>\n      <td>561.0</td>\n      <td>0.08752</td>\n      <td>0.07698</td>\n      <td>0.04751</td>\n      <td>0.03384</td>\n      <td>...</td>\n      <td>15.15</td>\n      <td>31.82</td>\n      <td>99.00</td>\n      <td>698.8</td>\n      <td>0.1162</td>\n      <td>0.1711</td>\n      <td>0.2282</td>\n      <td>0.12820</td>\n      <td>0.2871</td>\n      <td>0.06917</td>\n    </tr>\n    <tr>\n      <th>282</th>\n      <td>8910251</td>\n      <td>False</td>\n      <td>10.60</td>\n      <td>18.95</td>\n      <td>69.28</td>\n      <td>346.4</td>\n      <td>0.09688</td>\n      <td>0.11470</td>\n      <td>0.06387</td>\n      <td>0.02642</td>\n      <td>...</td>\n      <td>11.88</td>\n      <td>22.94</td>\n      <td>78.28</td>\n      <td>424.8</td>\n      <td>0.1213</td>\n      <td>0.2515</td>\n      <td>0.1916</td>\n      <td>0.07926</td>\n      <td>0.2940</td>\n      <td>0.07587</td>\n    </tr>\n    <tr>\n      <th>283</th>\n      <td>8910499</td>\n      <td>False</td>\n      <td>13.59</td>\n      <td>21.84</td>\n      <td>87.16</td>\n      <td>561.0</td>\n      <td>0.07956</td>\n      <td>0.08259</td>\n      <td>0.04072</td>\n      <td>0.02142</td>\n      <td>...</td>\n      <td>14.80</td>\n      <td>30.04</td>\n      <td>97.66</td>\n      <td>661.5</td>\n      <td>0.1005</td>\n      <td>0.1730</td>\n      <td>0.1453</td>\n      <td>0.06189</td>\n      <td>0.2446</td>\n      <td>0.07024</td>\n    </tr>\n    <tr>\n      <th>284</th>\n      <td>877501</td>\n      <td>False</td>\n      <td>12.23</td>\n      <td>19.56</td>\n      <td>78.54</td>\n      <td>461.0</td>\n      <td>0.09586</td>\n      <td>0.08087</td>\n      <td>0.04187</td>\n      <td>0.04107</td>\n      <td>...</td>\n      <td>14.44</td>\n      <td>28.36</td>\n      <td>92.15</td>\n      <td>638.4</td>\n      <td>0.1429</td>\n      <td>0.2042</td>\n      <td>0.1377</td>\n      <td>0.10800</td>\n      <td>0.2668</td>\n      <td>0.08174</td>\n    </tr>\n  </tbody>\n</table>\n<p>285 rows × 32 columns</p>\n</div>"
     },
     "execution_count": 115,
     "metadata": {},
     "output_type": "execute_result"
    }
   ],
   "source": [
    "train_data"
   ],
   "metadata": {
    "collapsed": false,
    "ExecuteTime": {
     "end_time": "2024-04-04T15:43:38.951466Z",
     "start_time": "2024-04-04T15:43:38.927316Z"
    }
   },
   "id": "3208c5f0fb150950",
   "execution_count": 115
  },
  {
   "cell_type": "markdown",
   "source": [
    "### Feature information"
   ],
   "metadata": {
    "collapsed": false
   },
   "id": "6407d1674530fa4"
  },
  {
   "cell_type": "code",
   "outputs": [
    {
     "name": "stdout",
     "output_type": "stream",
     "text": [
      "Column                         Min             Max        Max/Min   \n",
      "=================================================================\n",
      "radiusMean                    7.691          25.73     3.3454687296840464\n",
      " textureMean                  9.71           39.28     4.045314109165808\n",
      " perimeterMean                47.98          174.2     3.6306794497707378\n",
      " areaMean                     170.4          2010.0    11.795774647887324\n",
      " smoothnessMean               0.06251        0.1634    2.613981762917933\n",
      " compactnessMean              0.01938        0.3454    17.82249742002064\n",
      " concavityMean                0.0            0.4264    inf       \n",
      " concavePointsMean            0.0            0.1913    inf       \n",
      " symmetryMean                 0.106          0.304     2.8679245283018866\n",
      " fractalDimensionMean         0.04996        0.09744   1.9503602882305846\n",
      " radiusStdErr                 0.1115         1.37      12.286995515695068\n",
      " textureStdErr                0.3871         3.896     10.064582795143373\n",
      " perimeterStdErr              0.873          11.07     12.680412371134022\n",
      " areaStdErr                   6.802          176.5     25.948250514554545\n",
      " smoothnessStdErr             0.002838       0.02177   7.670894996476393\n",
      " compactnessStdErr            0.002252       0.1354    60.12433392539964\n",
      " concavityStdErr              0.0            0.1535    inf       \n",
      " concavePointsStdErr          0.0            0.0409    inf       \n",
      " symmetryStdErr               0.01055        0.07895   7.483412322274882\n",
      " fractalDimensionStdErr       0.0008948      0.01792   20.026821636119802\n",
      " radiusWorst                  8.678          33.13     3.817699930859645\n",
      " textureWorst                 12.02          44.87     3.732945091514143\n",
      " perimeterWorst               54.49          229.3     4.208111580106442\n",
      " areaWorst                    223.6          3234.0    14.463327370304114\n",
      " smoothnessWorst              0.08125        0.2226    2.7396923076923074\n",
      " compactnessWorst             0.03432        1.058     30.827505827505828\n",
      " concavityWorst               0.0            1.17      inf       \n",
      " concavePointsWorst           0.0            0.291     inf       \n",
      " symmetryWorst                0.1566         0.6638    4.238825031928481\n",
      " fractalDimensionWorst        0.05521        0.2075    3.758377105596812\n"
     ]
    }
   ],
   "source": [
    "print(\"Column\".ljust(30), \"Min\".ljust(15), \"Max\".ljust(10), \"Max/Min\".ljust(10))\n",
    "print(\"=\" * 65)\n",
    "data_normalize_values: {str, (float, float)} = {}\n",
    "for column in train_data.columns:\n",
    "    if column not in ['ID', 'class']:\n",
    "        min_val = train_data[column].min()\n",
    "        max_val = train_data[column].max()\n",
    "        quot = 'inf'\n",
    "        if min_val != 0:\n",
    "            quot = max_val / min_val\n",
    "        data_normalize_values[column] = (min_val, max_val)\n",
    "        print(f\"{column.ljust(30)}{str(min_val).ljust(15)}{str(max_val).ljust(10)}{str(quot).ljust(10)}\")"
   ],
   "metadata": {
    "collapsed": false,
    "ExecuteTime": {
     "end_time": "2024-04-04T15:43:38.992186Z",
     "start_time": "2024-04-04T15:43:38.984019Z"
    }
   },
   "id": "cf456e0aa9775c87",
   "execution_count": 116
  },
  {
   "cell_type": "markdown",
   "source": [
    "### Normalize Values"
   ],
   "metadata": {
    "collapsed": false
   },
   "id": "861f3c3b25a83142"
  },
  {
   "cell_type": "code",
   "outputs": [
    {
     "data": {
      "text/plain": "           ID  class  radiusMean   textureMean   perimeterMean   areaMean  \\\n0      886452   True    0.347525      0.248225        0.344240   0.234834   \n1    84348301   True    0.206719      0.360839        0.234511   0.117254   \n2     9012795   True    0.758301      0.182279        0.739344   0.660796   \n3      894326   True    0.583680      0.309773        0.560292   0.465645   \n4      867387  False    0.444537      0.142712        0.427983   0.321429   \n..        ...    ...         ...           ...             ...        ...   \n280    911150  False    0.379123      0.325668        0.366582   0.265982   \n281    857156  False    0.321470      0.425769        0.308430   0.212329   \n282   8910251  False    0.161262      0.312479        0.168753   0.095673   \n283   8910499  False    0.327014      0.410213        0.310410   0.212329   \n284    877501  False    0.251621      0.333108        0.242117   0.157969   \n\n      smoothnessMean   compactnessMean   concavityMean   concavePointsMean  \\\n0           0.466746          0.332863        0.229573            0.274229   \n1           0.792844          0.811361        0.566135            0.549922   \n2           0.372584          0.405251        0.453096            0.656038   \n3           0.346417          0.283173        0.265009            0.415578   \n4           0.318267          0.230783        0.167331            0.310141   \n..               ...               ...             ...                 ...   \n280         0.211815          0.179805        0.206778            0.152901   \n281         0.247894          0.176676        0.111421            0.176895   \n282         0.340668          0.292375        0.149789            0.138108   \n283         0.168996          0.193884        0.095497            0.111971   \n284         0.330558          0.188608        0.098194            0.214689   \n\n     ...   radiusWorst   textureWorst   perimeterWorst   areaWorst  \\\n0    ...      0.315393       0.305936         0.306676    0.200106   \n1    ...      0.254867       0.440791         0.253876    0.114304   \n2    ...      0.573041       0.298935         0.558378    0.435623   \n3    ...      0.538279       0.395129         0.494308    0.419014   \n4    ...      0.360788       0.220091         0.342143    0.232261   \n..   ...           ...            ...              ...         ...   \n280  ...      0.311713       0.498326         0.306676    0.201601   \n281  ...      0.264682       0.602740         0.254619    0.157853   \n282  ...      0.130950       0.332420         0.136091    0.066835   \n283  ...      0.250368       0.548554         0.246954    0.145462   \n284  ...      0.235645       0.497412         0.215434    0.137789   \n\n      smoothnessWorst   compactnessWorst   concavityWorst  \\\n0            0.494871           0.285128         0.274274   \n1            0.909445           0.812734         0.587094   \n2            0.268482           0.243904         0.343932   \n3            0.439689           0.236382         0.329316   \n4            0.290414           0.156865         0.146068   \n..                ...                ...              ...   \n280          0.195614           0.225246         0.322991   \n281          0.247259           0.133616         0.195043   \n282          0.283339           0.212156         0.163761   \n283          0.136187           0.135472         0.124188   \n284          0.436151           0.165950         0.117692   \n\n      concavePointsWorst   symmetryWorst   fractalDimensionWorst  \n0               0.472165        0.296136                0.159958  \n1               0.884880        1.000000                0.773459  \n2               0.675601        0.229495                0.206514  \n3               0.610309        0.245662                0.175783  \n4               0.472165        0.228115                0.101779  \n..                   ...             ...                     ...  \n280             0.329691        0.178431                0.127520  \n281             0.440550        0.257295                0.091667  \n282             0.272371        0.270899                0.135662  \n283             0.212680        0.173502                0.098693  \n284             0.371134        0.217271                0.174207  \n\n[285 rows x 32 columns]",
      "text/html": "<div>\n<style scoped>\n    .dataframe tbody tr th:only-of-type {\n        vertical-align: middle;\n    }\n\n    .dataframe tbody tr th {\n        vertical-align: top;\n    }\n\n    .dataframe thead th {\n        text-align: right;\n    }\n</style>\n<table border=\"1\" class=\"dataframe\">\n  <thead>\n    <tr style=\"text-align: right;\">\n      <th></th>\n      <th>ID</th>\n      <th>class</th>\n      <th>radiusMean</th>\n      <th>textureMean</th>\n      <th>perimeterMean</th>\n      <th>areaMean</th>\n      <th>smoothnessMean</th>\n      <th>compactnessMean</th>\n      <th>concavityMean</th>\n      <th>concavePointsMean</th>\n      <th>...</th>\n      <th>radiusWorst</th>\n      <th>textureWorst</th>\n      <th>perimeterWorst</th>\n      <th>areaWorst</th>\n      <th>smoothnessWorst</th>\n      <th>compactnessWorst</th>\n      <th>concavityWorst</th>\n      <th>concavePointsWorst</th>\n      <th>symmetryWorst</th>\n      <th>fractalDimensionWorst</th>\n    </tr>\n  </thead>\n  <tbody>\n    <tr>\n      <th>0</th>\n      <td>886452</td>\n      <td>True</td>\n      <td>0.347525</td>\n      <td>0.248225</td>\n      <td>0.344240</td>\n      <td>0.234834</td>\n      <td>0.466746</td>\n      <td>0.332863</td>\n      <td>0.229573</td>\n      <td>0.274229</td>\n      <td>...</td>\n      <td>0.315393</td>\n      <td>0.305936</td>\n      <td>0.306676</td>\n      <td>0.200106</td>\n      <td>0.494871</td>\n      <td>0.285128</td>\n      <td>0.274274</td>\n      <td>0.472165</td>\n      <td>0.296136</td>\n      <td>0.159958</td>\n    </tr>\n    <tr>\n      <th>1</th>\n      <td>84348301</td>\n      <td>True</td>\n      <td>0.206719</td>\n      <td>0.360839</td>\n      <td>0.234511</td>\n      <td>0.117254</td>\n      <td>0.792844</td>\n      <td>0.811361</td>\n      <td>0.566135</td>\n      <td>0.549922</td>\n      <td>...</td>\n      <td>0.254867</td>\n      <td>0.440791</td>\n      <td>0.253876</td>\n      <td>0.114304</td>\n      <td>0.909445</td>\n      <td>0.812734</td>\n      <td>0.587094</td>\n      <td>0.884880</td>\n      <td>1.000000</td>\n      <td>0.773459</td>\n    </tr>\n    <tr>\n      <th>2</th>\n      <td>9012795</td>\n      <td>True</td>\n      <td>0.758301</td>\n      <td>0.182279</td>\n      <td>0.739344</td>\n      <td>0.660796</td>\n      <td>0.372584</td>\n      <td>0.405251</td>\n      <td>0.453096</td>\n      <td>0.656038</td>\n      <td>...</td>\n      <td>0.573041</td>\n      <td>0.298935</td>\n      <td>0.558378</td>\n      <td>0.435623</td>\n      <td>0.268482</td>\n      <td>0.243904</td>\n      <td>0.343932</td>\n      <td>0.675601</td>\n      <td>0.229495</td>\n      <td>0.206514</td>\n    </tr>\n    <tr>\n      <th>3</th>\n      <td>894326</td>\n      <td>True</td>\n      <td>0.583680</td>\n      <td>0.309773</td>\n      <td>0.560292</td>\n      <td>0.465645</td>\n      <td>0.346417</td>\n      <td>0.283173</td>\n      <td>0.265009</td>\n      <td>0.415578</td>\n      <td>...</td>\n      <td>0.538279</td>\n      <td>0.395129</td>\n      <td>0.494308</td>\n      <td>0.419014</td>\n      <td>0.439689</td>\n      <td>0.236382</td>\n      <td>0.329316</td>\n      <td>0.610309</td>\n      <td>0.245662</td>\n      <td>0.175783</td>\n    </tr>\n    <tr>\n      <th>4</th>\n      <td>867387</td>\n      <td>False</td>\n      <td>0.444537</td>\n      <td>0.142712</td>\n      <td>0.427983</td>\n      <td>0.321429</td>\n      <td>0.318267</td>\n      <td>0.230783</td>\n      <td>0.167331</td>\n      <td>0.310141</td>\n      <td>...</td>\n      <td>0.360788</td>\n      <td>0.220091</td>\n      <td>0.342143</td>\n      <td>0.232261</td>\n      <td>0.290414</td>\n      <td>0.156865</td>\n      <td>0.146068</td>\n      <td>0.472165</td>\n      <td>0.228115</td>\n      <td>0.101779</td>\n    </tr>\n    <tr>\n      <th>...</th>\n      <td>...</td>\n      <td>...</td>\n      <td>...</td>\n      <td>...</td>\n      <td>...</td>\n      <td>...</td>\n      <td>...</td>\n      <td>...</td>\n      <td>...</td>\n      <td>...</td>\n      <td>...</td>\n      <td>...</td>\n      <td>...</td>\n      <td>...</td>\n      <td>...</td>\n      <td>...</td>\n      <td>...</td>\n      <td>...</td>\n      <td>...</td>\n      <td>...</td>\n      <td>...</td>\n    </tr>\n    <tr>\n      <th>280</th>\n      <td>911150</td>\n      <td>False</td>\n      <td>0.379123</td>\n      <td>0.325668</td>\n      <td>0.366582</td>\n      <td>0.265982</td>\n      <td>0.211815</td>\n      <td>0.179805</td>\n      <td>0.206778</td>\n      <td>0.152901</td>\n      <td>...</td>\n      <td>0.311713</td>\n      <td>0.498326</td>\n      <td>0.306676</td>\n      <td>0.201601</td>\n      <td>0.195614</td>\n      <td>0.225246</td>\n      <td>0.322991</td>\n      <td>0.329691</td>\n      <td>0.178431</td>\n      <td>0.127520</td>\n    </tr>\n    <tr>\n      <th>281</th>\n      <td>857156</td>\n      <td>False</td>\n      <td>0.321470</td>\n      <td>0.425769</td>\n      <td>0.308430</td>\n      <td>0.212329</td>\n      <td>0.247894</td>\n      <td>0.176676</td>\n      <td>0.111421</td>\n      <td>0.176895</td>\n      <td>...</td>\n      <td>0.264682</td>\n      <td>0.602740</td>\n      <td>0.254619</td>\n      <td>0.157853</td>\n      <td>0.247259</td>\n      <td>0.133616</td>\n      <td>0.195043</td>\n      <td>0.440550</td>\n      <td>0.257295</td>\n      <td>0.091667</td>\n    </tr>\n    <tr>\n      <th>282</th>\n      <td>8910251</td>\n      <td>False</td>\n      <td>0.161262</td>\n      <td>0.312479</td>\n      <td>0.168753</td>\n      <td>0.095673</td>\n      <td>0.340668</td>\n      <td>0.292375</td>\n      <td>0.149789</td>\n      <td>0.138108</td>\n      <td>...</td>\n      <td>0.130950</td>\n      <td>0.332420</td>\n      <td>0.136091</td>\n      <td>0.066835</td>\n      <td>0.283339</td>\n      <td>0.212156</td>\n      <td>0.163761</td>\n      <td>0.272371</td>\n      <td>0.270899</td>\n      <td>0.135662</td>\n    </tr>\n    <tr>\n      <th>283</th>\n      <td>8910499</td>\n      <td>False</td>\n      <td>0.327014</td>\n      <td>0.410213</td>\n      <td>0.310410</td>\n      <td>0.212329</td>\n      <td>0.168996</td>\n      <td>0.193884</td>\n      <td>0.095497</td>\n      <td>0.111971</td>\n      <td>...</td>\n      <td>0.250368</td>\n      <td>0.548554</td>\n      <td>0.246954</td>\n      <td>0.145462</td>\n      <td>0.136187</td>\n      <td>0.135472</td>\n      <td>0.124188</td>\n      <td>0.212680</td>\n      <td>0.173502</td>\n      <td>0.098693</td>\n    </tr>\n    <tr>\n      <th>284</th>\n      <td>877501</td>\n      <td>False</td>\n      <td>0.251621</td>\n      <td>0.333108</td>\n      <td>0.242117</td>\n      <td>0.157969</td>\n      <td>0.330558</td>\n      <td>0.188608</td>\n      <td>0.098194</td>\n      <td>0.214689</td>\n      <td>...</td>\n      <td>0.235645</td>\n      <td>0.497412</td>\n      <td>0.215434</td>\n      <td>0.137789</td>\n      <td>0.436151</td>\n      <td>0.165950</td>\n      <td>0.117692</td>\n      <td>0.371134</td>\n      <td>0.217271</td>\n      <td>0.174207</td>\n    </tr>\n  </tbody>\n</table>\n<p>285 rows × 32 columns</p>\n</div>"
     },
     "execution_count": 117,
     "metadata": {},
     "output_type": "execute_result"
    }
   ],
   "source": [
    "norm_train_data = train_data.copy()\n",
    "for column in norm_train_data.columns:\n",
    "    if column not in ['ID', 'class']:\n",
    "        min_val = data_normalize_values[column][0]\n",
    "        max_val = data_normalize_values[column][1]\n",
    "        norm_train_data[column] = (norm_train_data[column] - min_val) / (max_val - min_val)\n",
    "norm_train_data"
   ],
   "metadata": {
    "collapsed": false,
    "ExecuteTime": {
     "end_time": "2024-04-04T15:43:39.023524Z",
     "start_time": "2024-04-04T15:43:38.994196Z"
    }
   },
   "id": "ea603ec85f0d1ab4",
   "execution_count": 117
  },
  {
   "cell_type": "markdown",
   "source": [
    "## Test data"
   ],
   "metadata": {
    "collapsed": false
   },
   "id": "9a09c5979e994743"
  },
  {
   "cell_type": "code",
   "outputs": [
    {
     "name": "stdout",
     "output_type": "stream",
     "text": [
      "Samples: 284\n",
      "Features: 31\n"
     ]
    }
   ],
   "source": [
    "print(\"Samples: \" + str(test_data.shape[0]))\n",
    "print(\"Features: \" + str(test_data.shape[1]))\n",
    "\n",
    "# Iterate over all columns\n",
    "for column in train_data.columns:\n",
    "    # Convert bytes to string for each column if necessary\n",
    "    if train_data[column].dtype == 'object':  # Check if column dtype is object (usually indicates strings)\n",
    "        train_data[column] = train_data[column].apply(lambda x: x.decode() if isinstance(x, bytes) else x)"
   ],
   "metadata": {
    "collapsed": false,
    "ExecuteTime": {
     "end_time": "2024-04-04T15:43:39.043783Z",
     "start_time": "2024-04-04T15:43:39.038061Z"
    }
   },
   "id": "8f8e58a865d25e46",
   "execution_count": 118
  },
  {
   "cell_type": "code",
   "outputs": [
    {
     "data": {
      "text/plain": "            ID  radiusMean   textureMean   perimeterMean   areaMean  \\\n0      9012568       15.19         13.21           97.65      711.8   \n1       844981       13.00         21.82           87.50      519.8   \n2      8813129       13.27         17.02           84.55      546.4   \n3    881094802       17.42         25.56          114.50      948.0   \n4     88350402       13.64         15.60           87.38      575.3   \n..         ...         ...           ...             ...        ...   \n279    9010598       12.76         18.84           81.87      496.6   \n280     862485       11.60         12.84           74.34      412.6   \n281    8910506       12.87         16.21           82.38      512.2   \n282    8812877       15.75         20.25          102.60      761.3   \n283     911202       12.62         17.15           80.62      492.9   \n\n      smoothnessMean   compactnessMean   concavityMean   concavePointsMean  \\\n0            0.07963           0.06934         0.03393             0.02657   \n1            0.12730           0.19320         0.18590             0.09353   \n2            0.08445           0.04994         0.03554             0.02456   \n3            0.10060           0.11460         0.16820             0.06597   \n4            0.09423           0.06630         0.04705             0.03731   \n..               ...               ...             ...                 ...   \n279          0.09676           0.07952         0.02688             0.01781   \n280          0.08983           0.07525         0.04196             0.03350   \n281          0.09425           0.06219         0.03900             0.01615   \n282          0.10250           0.12040         0.11470             0.06462   \n283          0.08583           0.05430         0.02966             0.02272   \n\n      symmetryMean  ...   radiusWorst   textureWorst   perimeterWorst  \\\n0           0.1721  ...         16.20          15.73           104.50   \n1           0.2350  ...         15.49          30.73           106.20   \n2           0.1496  ...         15.14          23.60            98.84   \n3           0.1308  ...         18.07          28.07           120.40   \n4           0.1717  ...         14.85          19.05            94.11   \n..             ...  ...           ...            ...              ...   \n279         0.1759  ...         13.75          25.99            87.82   \n280         0.1620  ...         13.06          17.16            82.96   \n281         0.2010  ...         13.90          23.64            89.27   \n282         0.1935  ...         19.56          30.29           125.90   \n283         0.1799  ...         14.34          22.15            91.62   \n\n      areaWorst   smoothnessWorst   compactnessWorst   concavityWorst  \\\n0         819.1            0.1126             0.1737           0.1362   \n1         739.3            0.1703             0.5401           0.5390   \n2         708.8            0.1276             0.1311           0.1786   \n3        1021.0            0.1243             0.1793           0.2803   \n4         683.4            0.1278             0.1291           0.1533   \n..          ...               ...                ...              ...   \n279       579.7            0.1298             0.1839           0.1255   \n280       512.5            0.1431             0.1851           0.1922   \n281       597.5            0.1256             0.1808           0.1992   \n282      1088.0            0.1552             0.4480           0.3976   \n283       633.5            0.1225             0.1517           0.1887   \n\n      concavePointsWorst   symmetryWorst   fractalDimensionWorst  \n0                0.08178          0.2487                 0.06766  \n1                0.20600          0.4378                 0.10720  \n2                0.09678          0.2506                 0.07623  \n3                0.10990          0.1603                 0.06818  \n4                0.09222          0.2530                 0.06510  \n..                   ...             ...                     ...  \n279              0.08312          0.2744                 0.07238  \n280              0.08449          0.2772                 0.08756  \n281              0.05780          0.3604                 0.07062  \n282              0.14790          0.3993                 0.10640  \n283              0.09851          0.3270                 0.07330  \n\n[284 rows x 31 columns]",
      "text/html": "<div>\n<style scoped>\n    .dataframe tbody tr th:only-of-type {\n        vertical-align: middle;\n    }\n\n    .dataframe tbody tr th {\n        vertical-align: top;\n    }\n\n    .dataframe thead th {\n        text-align: right;\n    }\n</style>\n<table border=\"1\" class=\"dataframe\">\n  <thead>\n    <tr style=\"text-align: right;\">\n      <th></th>\n      <th>ID</th>\n      <th>radiusMean</th>\n      <th>textureMean</th>\n      <th>perimeterMean</th>\n      <th>areaMean</th>\n      <th>smoothnessMean</th>\n      <th>compactnessMean</th>\n      <th>concavityMean</th>\n      <th>concavePointsMean</th>\n      <th>symmetryMean</th>\n      <th>...</th>\n      <th>radiusWorst</th>\n      <th>textureWorst</th>\n      <th>perimeterWorst</th>\n      <th>areaWorst</th>\n      <th>smoothnessWorst</th>\n      <th>compactnessWorst</th>\n      <th>concavityWorst</th>\n      <th>concavePointsWorst</th>\n      <th>symmetryWorst</th>\n      <th>fractalDimensionWorst</th>\n    </tr>\n  </thead>\n  <tbody>\n    <tr>\n      <th>0</th>\n      <td>9012568</td>\n      <td>15.19</td>\n      <td>13.21</td>\n      <td>97.65</td>\n      <td>711.8</td>\n      <td>0.07963</td>\n      <td>0.06934</td>\n      <td>0.03393</td>\n      <td>0.02657</td>\n      <td>0.1721</td>\n      <td>...</td>\n      <td>16.20</td>\n      <td>15.73</td>\n      <td>104.50</td>\n      <td>819.1</td>\n      <td>0.1126</td>\n      <td>0.1737</td>\n      <td>0.1362</td>\n      <td>0.08178</td>\n      <td>0.2487</td>\n      <td>0.06766</td>\n    </tr>\n    <tr>\n      <th>1</th>\n      <td>844981</td>\n      <td>13.00</td>\n      <td>21.82</td>\n      <td>87.50</td>\n      <td>519.8</td>\n      <td>0.12730</td>\n      <td>0.19320</td>\n      <td>0.18590</td>\n      <td>0.09353</td>\n      <td>0.2350</td>\n      <td>...</td>\n      <td>15.49</td>\n      <td>30.73</td>\n      <td>106.20</td>\n      <td>739.3</td>\n      <td>0.1703</td>\n      <td>0.5401</td>\n      <td>0.5390</td>\n      <td>0.20600</td>\n      <td>0.4378</td>\n      <td>0.10720</td>\n    </tr>\n    <tr>\n      <th>2</th>\n      <td>8813129</td>\n      <td>13.27</td>\n      <td>17.02</td>\n      <td>84.55</td>\n      <td>546.4</td>\n      <td>0.08445</td>\n      <td>0.04994</td>\n      <td>0.03554</td>\n      <td>0.02456</td>\n      <td>0.1496</td>\n      <td>...</td>\n      <td>15.14</td>\n      <td>23.60</td>\n      <td>98.84</td>\n      <td>708.8</td>\n      <td>0.1276</td>\n      <td>0.1311</td>\n      <td>0.1786</td>\n      <td>0.09678</td>\n      <td>0.2506</td>\n      <td>0.07623</td>\n    </tr>\n    <tr>\n      <th>3</th>\n      <td>881094802</td>\n      <td>17.42</td>\n      <td>25.56</td>\n      <td>114.50</td>\n      <td>948.0</td>\n      <td>0.10060</td>\n      <td>0.11460</td>\n      <td>0.16820</td>\n      <td>0.06597</td>\n      <td>0.1308</td>\n      <td>...</td>\n      <td>18.07</td>\n      <td>28.07</td>\n      <td>120.40</td>\n      <td>1021.0</td>\n      <td>0.1243</td>\n      <td>0.1793</td>\n      <td>0.2803</td>\n      <td>0.10990</td>\n      <td>0.1603</td>\n      <td>0.06818</td>\n    </tr>\n    <tr>\n      <th>4</th>\n      <td>88350402</td>\n      <td>13.64</td>\n      <td>15.60</td>\n      <td>87.38</td>\n      <td>575.3</td>\n      <td>0.09423</td>\n      <td>0.06630</td>\n      <td>0.04705</td>\n      <td>0.03731</td>\n      <td>0.1717</td>\n      <td>...</td>\n      <td>14.85</td>\n      <td>19.05</td>\n      <td>94.11</td>\n      <td>683.4</td>\n      <td>0.1278</td>\n      <td>0.1291</td>\n      <td>0.1533</td>\n      <td>0.09222</td>\n      <td>0.2530</td>\n      <td>0.06510</td>\n    </tr>\n    <tr>\n      <th>...</th>\n      <td>...</td>\n      <td>...</td>\n      <td>...</td>\n      <td>...</td>\n      <td>...</td>\n      <td>...</td>\n      <td>...</td>\n      <td>...</td>\n      <td>...</td>\n      <td>...</td>\n      <td>...</td>\n      <td>...</td>\n      <td>...</td>\n      <td>...</td>\n      <td>...</td>\n      <td>...</td>\n      <td>...</td>\n      <td>...</td>\n      <td>...</td>\n      <td>...</td>\n      <td>...</td>\n    </tr>\n    <tr>\n      <th>279</th>\n      <td>9010598</td>\n      <td>12.76</td>\n      <td>18.84</td>\n      <td>81.87</td>\n      <td>496.6</td>\n      <td>0.09676</td>\n      <td>0.07952</td>\n      <td>0.02688</td>\n      <td>0.01781</td>\n      <td>0.1759</td>\n      <td>...</td>\n      <td>13.75</td>\n      <td>25.99</td>\n      <td>87.82</td>\n      <td>579.7</td>\n      <td>0.1298</td>\n      <td>0.1839</td>\n      <td>0.1255</td>\n      <td>0.08312</td>\n      <td>0.2744</td>\n      <td>0.07238</td>\n    </tr>\n    <tr>\n      <th>280</th>\n      <td>862485</td>\n      <td>11.60</td>\n      <td>12.84</td>\n      <td>74.34</td>\n      <td>412.6</td>\n      <td>0.08983</td>\n      <td>0.07525</td>\n      <td>0.04196</td>\n      <td>0.03350</td>\n      <td>0.1620</td>\n      <td>...</td>\n      <td>13.06</td>\n      <td>17.16</td>\n      <td>82.96</td>\n      <td>512.5</td>\n      <td>0.1431</td>\n      <td>0.1851</td>\n      <td>0.1922</td>\n      <td>0.08449</td>\n      <td>0.2772</td>\n      <td>0.08756</td>\n    </tr>\n    <tr>\n      <th>281</th>\n      <td>8910506</td>\n      <td>12.87</td>\n      <td>16.21</td>\n      <td>82.38</td>\n      <td>512.2</td>\n      <td>0.09425</td>\n      <td>0.06219</td>\n      <td>0.03900</td>\n      <td>0.01615</td>\n      <td>0.2010</td>\n      <td>...</td>\n      <td>13.90</td>\n      <td>23.64</td>\n      <td>89.27</td>\n      <td>597.5</td>\n      <td>0.1256</td>\n      <td>0.1808</td>\n      <td>0.1992</td>\n      <td>0.05780</td>\n      <td>0.3604</td>\n      <td>0.07062</td>\n    </tr>\n    <tr>\n      <th>282</th>\n      <td>8812877</td>\n      <td>15.75</td>\n      <td>20.25</td>\n      <td>102.60</td>\n      <td>761.3</td>\n      <td>0.10250</td>\n      <td>0.12040</td>\n      <td>0.11470</td>\n      <td>0.06462</td>\n      <td>0.1935</td>\n      <td>...</td>\n      <td>19.56</td>\n      <td>30.29</td>\n      <td>125.90</td>\n      <td>1088.0</td>\n      <td>0.1552</td>\n      <td>0.4480</td>\n      <td>0.3976</td>\n      <td>0.14790</td>\n      <td>0.3993</td>\n      <td>0.10640</td>\n    </tr>\n    <tr>\n      <th>283</th>\n      <td>911202</td>\n      <td>12.62</td>\n      <td>17.15</td>\n      <td>80.62</td>\n      <td>492.9</td>\n      <td>0.08583</td>\n      <td>0.05430</td>\n      <td>0.02966</td>\n      <td>0.02272</td>\n      <td>0.1799</td>\n      <td>...</td>\n      <td>14.34</td>\n      <td>22.15</td>\n      <td>91.62</td>\n      <td>633.5</td>\n      <td>0.1225</td>\n      <td>0.1517</td>\n      <td>0.1887</td>\n      <td>0.09851</td>\n      <td>0.3270</td>\n      <td>0.07330</td>\n    </tr>\n  </tbody>\n</table>\n<p>284 rows × 31 columns</p>\n</div>"
     },
     "execution_count": 119,
     "metadata": {},
     "output_type": "execute_result"
    }
   ],
   "source": [
    "test_data"
   ],
   "metadata": {
    "collapsed": false,
    "ExecuteTime": {
     "end_time": "2024-04-04T15:43:39.121177Z",
     "start_time": "2024-04-04T15:43:39.096906Z"
    }
   },
   "id": "8cfad8d342c718a3",
   "execution_count": 119
  },
  {
   "cell_type": "markdown",
   "source": [
    "### Normalize\n",
    "Normalize the test set data by using the same values as in the normalization process of the training data"
   ],
   "metadata": {
    "collapsed": false
   },
   "id": "8e2f2a1fbd56495f"
  },
  {
   "cell_type": "code",
   "outputs": [
    {
     "data": {
      "text/plain": "            ID  radiusMean   textureMean   perimeterMean   areaMean  \\\n0      9012568    0.415710      0.118363        0.393519   0.294303   \n1       844981    0.294307      0.409537        0.313104   0.189933   \n2      8813129    0.309274      0.247210        0.289732   0.204392   \n3    881094802    0.539331      0.536016        0.527016   0.422701   \n4     88350402    0.329785      0.199188        0.312153   0.220102   \n..         ...         ...           ...             ...        ...   \n279    9010598    0.281002      0.308759        0.268499   0.177321   \n280     862485    0.216697      0.105851        0.208842   0.131659   \n281    8910506    0.287100      0.219817        0.272540   0.185801   \n282    8812877    0.446754      0.356442        0.432736   0.321211   \n283     911202    0.273241      0.251606        0.258596   0.175310   \n\n      smoothnessMean   compactnessMean   concavityMean   concavePointsMean  \\\n0           0.169690          0.153242        0.079573            0.138892   \n1           0.642185          0.533157        0.435976            0.488918   \n2           0.217465          0.093737        0.083349            0.128385   \n3           0.377540          0.292068        0.394465            0.344851   \n4           0.314402          0.143918        0.110342            0.195034   \n..               ...               ...             ...                 ...   \n279         0.339479          0.184467        0.063039            0.093100   \n280         0.270790          0.171370        0.098405            0.175118   \n281         0.314600          0.131311        0.091463            0.084422   \n282         0.396372          0.309858        0.268996            0.337794   \n283         0.231143          0.107110        0.069559            0.118766   \n\n      symmetryMean  ...   radiusWorst   textureWorst   perimeterWorst  \\\n0         0.333838  ...      0.307623       0.112938         0.286082   \n1         0.651515  ...      0.278587       0.569559         0.295807   \n2         0.220202  ...      0.264273       0.352511         0.253704   \n3         0.125253  ...      0.384099       0.488584         0.377038   \n4         0.331818  ...      0.252413       0.214003         0.226646   \n..             ...  ...           ...            ...              ...   \n279       0.353030  ...      0.207427       0.425266         0.190664   \n280       0.282828  ...      0.179208       0.156469         0.162863   \n281       0.479798  ...      0.213561       0.353729         0.198959   \n282       0.441919  ...      0.445035       0.556164         0.408501   \n283       0.373232  ...      0.231556       0.308371         0.212402   \n\n      areaWorst   smoothnessWorst   compactnessWorst   concavityWorst  \\\n0      0.197814          0.221790           0.136156         0.116410   \n1      0.171306          0.629996           0.494080         0.460684   \n2      0.161175          0.327909           0.094541         0.152650   \n3      0.264882          0.304563           0.141626         0.239573   \n4      0.152737          0.329324           0.092588         0.131026   \n..          ...               ...                ...              ...   \n279    0.118290          0.343474           0.146120         0.107265   \n280    0.095967          0.437566           0.147292         0.164274   \n281    0.124203          0.313760           0.143092         0.170256   \n282    0.287138          0.523169           0.404111         0.339829   \n283    0.136161          0.291829           0.114665         0.161282   \n\n      concavePointsWorst   symmetryWorst   fractalDimensionWorst  \n0               0.281031        0.181585                0.081752  \n1               0.707904        0.554416                0.341388  \n2               0.332577        0.185331                0.138026  \n3               0.377663        0.007295                0.085166  \n4               0.316907        0.190063                0.064942  \n..                   ...             ...                     ...  \n279             0.285636        0.232256                0.112745  \n280             0.290344        0.237776                0.212424  \n281             0.198625        0.401814                0.101189  \n282             0.508247        0.478509                0.336135  \n283             0.338522        0.335962                0.118787  \n\n[284 rows x 31 columns]",
      "text/html": "<div>\n<style scoped>\n    .dataframe tbody tr th:only-of-type {\n        vertical-align: middle;\n    }\n\n    .dataframe tbody tr th {\n        vertical-align: top;\n    }\n\n    .dataframe thead th {\n        text-align: right;\n    }\n</style>\n<table border=\"1\" class=\"dataframe\">\n  <thead>\n    <tr style=\"text-align: right;\">\n      <th></th>\n      <th>ID</th>\n      <th>radiusMean</th>\n      <th>textureMean</th>\n      <th>perimeterMean</th>\n      <th>areaMean</th>\n      <th>smoothnessMean</th>\n      <th>compactnessMean</th>\n      <th>concavityMean</th>\n      <th>concavePointsMean</th>\n      <th>symmetryMean</th>\n      <th>...</th>\n      <th>radiusWorst</th>\n      <th>textureWorst</th>\n      <th>perimeterWorst</th>\n      <th>areaWorst</th>\n      <th>smoothnessWorst</th>\n      <th>compactnessWorst</th>\n      <th>concavityWorst</th>\n      <th>concavePointsWorst</th>\n      <th>symmetryWorst</th>\n      <th>fractalDimensionWorst</th>\n    </tr>\n  </thead>\n  <tbody>\n    <tr>\n      <th>0</th>\n      <td>9012568</td>\n      <td>0.415710</td>\n      <td>0.118363</td>\n      <td>0.393519</td>\n      <td>0.294303</td>\n      <td>0.169690</td>\n      <td>0.153242</td>\n      <td>0.079573</td>\n      <td>0.138892</td>\n      <td>0.333838</td>\n      <td>...</td>\n      <td>0.307623</td>\n      <td>0.112938</td>\n      <td>0.286082</td>\n      <td>0.197814</td>\n      <td>0.221790</td>\n      <td>0.136156</td>\n      <td>0.116410</td>\n      <td>0.281031</td>\n      <td>0.181585</td>\n      <td>0.081752</td>\n    </tr>\n    <tr>\n      <th>1</th>\n      <td>844981</td>\n      <td>0.294307</td>\n      <td>0.409537</td>\n      <td>0.313104</td>\n      <td>0.189933</td>\n      <td>0.642185</td>\n      <td>0.533157</td>\n      <td>0.435976</td>\n      <td>0.488918</td>\n      <td>0.651515</td>\n      <td>...</td>\n      <td>0.278587</td>\n      <td>0.569559</td>\n      <td>0.295807</td>\n      <td>0.171306</td>\n      <td>0.629996</td>\n      <td>0.494080</td>\n      <td>0.460684</td>\n      <td>0.707904</td>\n      <td>0.554416</td>\n      <td>0.341388</td>\n    </tr>\n    <tr>\n      <th>2</th>\n      <td>8813129</td>\n      <td>0.309274</td>\n      <td>0.247210</td>\n      <td>0.289732</td>\n      <td>0.204392</td>\n      <td>0.217465</td>\n      <td>0.093737</td>\n      <td>0.083349</td>\n      <td>0.128385</td>\n      <td>0.220202</td>\n      <td>...</td>\n      <td>0.264273</td>\n      <td>0.352511</td>\n      <td>0.253704</td>\n      <td>0.161175</td>\n      <td>0.327909</td>\n      <td>0.094541</td>\n      <td>0.152650</td>\n      <td>0.332577</td>\n      <td>0.185331</td>\n      <td>0.138026</td>\n    </tr>\n    <tr>\n      <th>3</th>\n      <td>881094802</td>\n      <td>0.539331</td>\n      <td>0.536016</td>\n      <td>0.527016</td>\n      <td>0.422701</td>\n      <td>0.377540</td>\n      <td>0.292068</td>\n      <td>0.394465</td>\n      <td>0.344851</td>\n      <td>0.125253</td>\n      <td>...</td>\n      <td>0.384099</td>\n      <td>0.488584</td>\n      <td>0.377038</td>\n      <td>0.264882</td>\n      <td>0.304563</td>\n      <td>0.141626</td>\n      <td>0.239573</td>\n      <td>0.377663</td>\n      <td>0.007295</td>\n      <td>0.085166</td>\n    </tr>\n    <tr>\n      <th>4</th>\n      <td>88350402</td>\n      <td>0.329785</td>\n      <td>0.199188</td>\n      <td>0.312153</td>\n      <td>0.220102</td>\n      <td>0.314402</td>\n      <td>0.143918</td>\n      <td>0.110342</td>\n      <td>0.195034</td>\n      <td>0.331818</td>\n      <td>...</td>\n      <td>0.252413</td>\n      <td>0.214003</td>\n      <td>0.226646</td>\n      <td>0.152737</td>\n      <td>0.329324</td>\n      <td>0.092588</td>\n      <td>0.131026</td>\n      <td>0.316907</td>\n      <td>0.190063</td>\n      <td>0.064942</td>\n    </tr>\n    <tr>\n      <th>...</th>\n      <td>...</td>\n      <td>...</td>\n      <td>...</td>\n      <td>...</td>\n      <td>...</td>\n      <td>...</td>\n      <td>...</td>\n      <td>...</td>\n      <td>...</td>\n      <td>...</td>\n      <td>...</td>\n      <td>...</td>\n      <td>...</td>\n      <td>...</td>\n      <td>...</td>\n      <td>...</td>\n      <td>...</td>\n      <td>...</td>\n      <td>...</td>\n      <td>...</td>\n      <td>...</td>\n    </tr>\n    <tr>\n      <th>279</th>\n      <td>9010598</td>\n      <td>0.281002</td>\n      <td>0.308759</td>\n      <td>0.268499</td>\n      <td>0.177321</td>\n      <td>0.339479</td>\n      <td>0.184467</td>\n      <td>0.063039</td>\n      <td>0.093100</td>\n      <td>0.353030</td>\n      <td>...</td>\n      <td>0.207427</td>\n      <td>0.425266</td>\n      <td>0.190664</td>\n      <td>0.118290</td>\n      <td>0.343474</td>\n      <td>0.146120</td>\n      <td>0.107265</td>\n      <td>0.285636</td>\n      <td>0.232256</td>\n      <td>0.112745</td>\n    </tr>\n    <tr>\n      <th>280</th>\n      <td>862485</td>\n      <td>0.216697</td>\n      <td>0.105851</td>\n      <td>0.208842</td>\n      <td>0.131659</td>\n      <td>0.270790</td>\n      <td>0.171370</td>\n      <td>0.098405</td>\n      <td>0.175118</td>\n      <td>0.282828</td>\n      <td>...</td>\n      <td>0.179208</td>\n      <td>0.156469</td>\n      <td>0.162863</td>\n      <td>0.095967</td>\n      <td>0.437566</td>\n      <td>0.147292</td>\n      <td>0.164274</td>\n      <td>0.290344</td>\n      <td>0.237776</td>\n      <td>0.212424</td>\n    </tr>\n    <tr>\n      <th>281</th>\n      <td>8910506</td>\n      <td>0.287100</td>\n      <td>0.219817</td>\n      <td>0.272540</td>\n      <td>0.185801</td>\n      <td>0.314600</td>\n      <td>0.131311</td>\n      <td>0.091463</td>\n      <td>0.084422</td>\n      <td>0.479798</td>\n      <td>...</td>\n      <td>0.213561</td>\n      <td>0.353729</td>\n      <td>0.198959</td>\n      <td>0.124203</td>\n      <td>0.313760</td>\n      <td>0.143092</td>\n      <td>0.170256</td>\n      <td>0.198625</td>\n      <td>0.401814</td>\n      <td>0.101189</td>\n    </tr>\n    <tr>\n      <th>282</th>\n      <td>8812877</td>\n      <td>0.446754</td>\n      <td>0.356442</td>\n      <td>0.432736</td>\n      <td>0.321211</td>\n      <td>0.396372</td>\n      <td>0.309858</td>\n      <td>0.268996</td>\n      <td>0.337794</td>\n      <td>0.441919</td>\n      <td>...</td>\n      <td>0.445035</td>\n      <td>0.556164</td>\n      <td>0.408501</td>\n      <td>0.287138</td>\n      <td>0.523169</td>\n      <td>0.404111</td>\n      <td>0.339829</td>\n      <td>0.508247</td>\n      <td>0.478509</td>\n      <td>0.336135</td>\n    </tr>\n    <tr>\n      <th>283</th>\n      <td>911202</td>\n      <td>0.273241</td>\n      <td>0.251606</td>\n      <td>0.258596</td>\n      <td>0.175310</td>\n      <td>0.231143</td>\n      <td>0.107110</td>\n      <td>0.069559</td>\n      <td>0.118766</td>\n      <td>0.373232</td>\n      <td>...</td>\n      <td>0.231556</td>\n      <td>0.308371</td>\n      <td>0.212402</td>\n      <td>0.136161</td>\n      <td>0.291829</td>\n      <td>0.114665</td>\n      <td>0.161282</td>\n      <td>0.338522</td>\n      <td>0.335962</td>\n      <td>0.118787</td>\n    </tr>\n  </tbody>\n</table>\n<p>284 rows × 31 columns</p>\n</div>"
     },
     "execution_count": 120,
     "metadata": {},
     "output_type": "execute_result"
    }
   ],
   "source": [
    "norm_test_data = test_data.copy()\n",
    "for column in norm_test_data.columns:\n",
    "    if column not in ['ID', 'class']:\n",
    "        min_val = data_normalize_values[column][0]\n",
    "        max_val = data_normalize_values[column][1]\n",
    "        norm_test_data[column] = (norm_test_data[column] - min_val) / (max_val - min_val)\n",
    "norm_test_data"
   ],
   "metadata": {
    "collapsed": false,
    "ExecuteTime": {
     "end_time": "2024-04-04T15:43:39.166755Z",
     "start_time": "2024-04-04T15:43:39.134701Z"
    }
   },
   "id": "51a87cdad3d38a42",
   "execution_count": 120
  },
  {
   "cell_type": "code",
   "outputs": [],
   "source": [],
   "metadata": {
    "collapsed": false,
    "ExecuteTime": {
     "end_time": "2024-04-04T15:43:39.268633Z",
     "start_time": "2024-04-04T15:43:39.266120Z"
    }
   },
   "id": "aaf2c85ec0dfd7a1",
   "execution_count": 120
  }
 ],
 "metadata": {
  "kernelspec": {
   "display_name": "Python 3",
   "language": "python",
   "name": "python3"
  },
  "language_info": {
   "codemirror_mode": {
    "name": "ipython",
    "version": 2
   },
   "file_extension": ".py",
   "mimetype": "text/x-python",
   "name": "python",
   "nbconvert_exporter": "python",
   "pygments_lexer": "ipython2",
   "version": "2.7.6"
  }
 },
 "nbformat": 4,
 "nbformat_minor": 5
}
