{
 "cells": [
  {
   "cell_type": "code",
   "outputs": [],
   "source": [
    "import pickle\n",
    "from importlib import reload\n",
    "\n",
    "from evaluation import evaluator\n",
    "reload(evaluator)"
   ],
   "metadata": {
    "collapsed": false
   },
   "id": "e62078f0ef2eece5"
  },
  {
   "cell_type": "code",
   "outputs": [],
   "source": [
    "with open('breast_results.pkl', 'rb') as f:\n",
    "    combined_results_breast = pickle.load(f)\n",
    "\n",
    "evaluator.draw_diagrams_per_dataset(\n",
    "    {\"Neural Net\": {\n",
    "           'nn_learning_rate': combined_results_breast['nn_learning_rate'],\n",
    "    'nn_hidden_layer': combined_results_breast['nn_hidden_layer'],\n",
    "    'nn_max_iter': combined_results_breast['nn_max_iter'],\n",
    "    'nn_hidden_layer_deep': combined_results_breast['nn_hidden_layer_deep'],\n",
    "    'act_function': combined_results_breast['act_function'],\n",
    "    },\n",
    "        \"Random Forrest\": {\n",
    "        'rf_n_estimators': combined_results_breast['rf_n_estimators'],\n",
    "        'rf_criterion': combined_results_breast['rf_criterion'],\n",
    "        },\n",
    "        \"Naive Bayes\": {\n",
    "        'bayes_results': combined_results_breast['bayes_results'],\n",
    "        },\n",
    "},\n",
    "    title=\"Classifiers for Breast Cancer dataset\"\n",
    ")\n",
    "\n",
    "evaluator.draw_diagrams_per_dataset(\n",
    "    {\"Neural Net\": {\n",
    "           'nn_learning_rate': combined_results_breast['nn_learning_rate'],\n",
    "    'nn_hidden_layer': combined_results_breast['nn_hidden_layer'],\n",
    "    'nn_max_iter': combined_results_breast['nn_max_iter'],\n",
    "    'nn_hidden_layer_deep': combined_results_breast['nn_hidden_layer_deep'],\n",
    "    'act_function': combined_results_breast['act_function'],\n",
    "    },\n",
    "        \"Random Forrest\": {\n",
    "        'rf_n_estimators': combined_results_breast['rf_n_estimators'],\n",
    "        'rf_criterion': combined_results_breast['rf_criterion'],\n",
    "        },\n",
    "        \"Naive Bayes\": {\n",
    "        'bayes_results': combined_results_breast['bayes_results'],\n",
    "        },\n",
    "},\n",
    "    metric=\"time\",\n",
    "    title=\"Classifiers for Breast Cancer dataset\"\n",
    ")"
   ],
   "metadata": {
    "collapsed": false
   },
   "id": "16427543843cfdf"
  },
  {
   "cell_type": "code",
   "outputs": [],
   "source": [
    "with open('creditg_results.pkl', 'rb') as f:\n",
    "    combined_results_creditg = pickle.load(f)\n",
    "    \n",
    "evaluator.draw_diagrams_per_dataset(\n",
    "    {\"Neural Net\": {\n",
    "           'nn_learning_rate': combined_results_creditg['nn_learning_rate'],\n",
    "    'nn_hidden_layer': combined_results_creditg['nn_hidden_layer'],\n",
    "    'nn_max_iter': combined_results_creditg['nn_max_iter'],\n",
    "    'nn_hidden_layer_deep': combined_results_creditg['nn_hidden_layer_deep'],\n",
    "    'act_function': combined_results_creditg['act_function'],\n",
    "    },\n",
    "        \"Random Forrest\": {\n",
    "        'rf_n_estimators': combined_results_creditg['rf_n_estimators'],\n",
    "        'rf_criterion': combined_results_creditg['rf_criterion'],\n",
    "        },\n",
    "        \"Naive Bayes\": {\n",
    "        'bayes_results': combined_results_creditg['bayes_results'],\n",
    "        },\n",
    "},\n",
    "    title=\"Classifiers for Credit-G dataset\"\n",
    ")\n",
    "evaluator.draw_diagrams_per_dataset(\n",
    "    {\"Neural Net\": {\n",
    "           'nn_learning_rate': combined_results_creditg['nn_learning_rate'],\n",
    "    'nn_hidden_layer': combined_results_creditg['nn_hidden_layer'],\n",
    "    'nn_max_iter': combined_results_creditg['nn_max_iter'],\n",
    "    'nn_hidden_layer_deep': combined_results_creditg['nn_hidden_layer_deep'],\n",
    "    'act_function': combined_results_creditg['act_function'],\n",
    "    },\n",
    "        \"Random Forrest\": {\n",
    "        'rf_n_estimators': combined_results_creditg['rf_n_estimators'],\n",
    "        'rf_criterion': combined_results_creditg['rf_criterion'],\n",
    "        },\n",
    "        \"Naive Bayes\": {\n",
    "        'bayes_results': combined_results_creditg['bayes_results'],\n",
    "        },\n",
    "},\n",
    "    metric=\"time\",\n",
    "    title=\"Classifiers for Credit-G dataset\"\n",
    ")"
   ],
   "metadata": {
    "collapsed": false
   },
   "id": "e5934eeaf454ccd8"
  },
  {
   "cell_type": "code",
   "outputs": [],
   "source": [
    "with open('seattle_crime_results.pkl', 'rb') as f:\n",
    "    combined_results_seattle = pickle.load(f)\n",
    "      \n",
    "evaluator.draw_diagrams_per_dataset(\n",
    "    {\"Neural Net\": {\n",
    "           'nn_learning_rate': combined_results_seattle['nn_learning_rate'],\n",
    "    'nn_hidden_layer': combined_results_seattle['nn_hidden_layer'],\n",
    "    #'nn_max_iter': combined_results_seattle['nn_max_iter'],\n",
    "    'nn_hidden_layer_deep': combined_results_seattle['nn_hidden_layer_deep'],\n",
    "    'act_function': combined_results_seattle['act_function'],\n",
    "    },\n",
    "        \"Random Forrest\": {\n",
    "        'rf_n_estimators': combined_results_seattle['rf_n_estimators'],\n",
    "        'rf_criterion': combined_results_seattle['rf_criterion'],\n",
    "        },\n",
    "        \"Naive Bayes\": {\n",
    "        'bayes_results': combined_results_seattle['bayes_results'],\n",
    "        },\n",
    "},\n",
    "    title=\"Classifiers for Seattle Crime dataset\"\n",
    ")\n",
    "evaluator.draw_diagrams_per_dataset(\n",
    "    {\"Neural Net\": {\n",
    "           'nn_learning_rate': combined_results_seattle['nn_learning_rate'],\n",
    "    'nn_hidden_layer': combined_results_seattle['nn_hidden_layer'],\n",
    "    #'nn_max_iter': combined_results_seattle['nn_max_iter'],\n",
    "    'nn_hidden_layer_deep': combined_results_seattle['nn_hidden_layer_deep'],\n",
    "    'act_function': combined_results_seattle['act_function'],\n",
    "    },\n",
    "        \"Random Forrest\": {\n",
    "        'rf_n_estimators': combined_results_seattle['rf_n_estimators'],\n",
    "        'rf_criterion': combined_results_seattle['rf_criterion'],\n",
    "        },\n",
    "        \"Naive Bayes\": {\n",
    "        'bayes_results': combined_results_seattle['bayes_results'],\n",
    "        },\n",
    "},\n",
    "    metric=\"time\",\n",
    "    title=\"Classifiers for Seattle Crime dataset\"\n",
    ")"
   ],
   "metadata": {
    "collapsed": false
   },
   "id": "2b6f1bc5498ea69c"
  },
  {
   "cell_type": "code",
   "outputs": [],
   "source": [
    "with open('loan_results.pkl', 'rb') as f:\n",
    "    combined_results_loan = pickle.load(f)\n",
    "\n",
    "evaluator.draw_diagrams_per_dataset(\n",
    "    {\"Neural Net\": {\n",
    "           'nn_learning_rate': combined_results_loan['nn_learning_rate'],\n",
    "    'nn_hidden_layer': combined_results_loan['nn_hidden_layer'],\n",
    "    #'nn_max_iter': combined_results_loan['nn_max_iter'],\n",
    "    'nn_hidden_layer_deep': combined_results_loan['nn_hidden_layer_deep'],\n",
    "    'act_function': combined_results_loan['act_function'],\n",
    "    },\n",
    "        \"Random Forrest\": {\n",
    "        'rf_n_estimators': combined_results_loan['rf_n_estimators'],\n",
    "        'rf_criterion': combined_results_loan['rf_criterion'],\n",
    "        },\n",
    "        \"Naive Bayes\": {\n",
    "        'bayes_results': combined_results_loan['bayes_results'],\n",
    "        },\n",
    "},\n",
    "    title=\"Classifiers for Loan-10k dataset\"\n",
    ")\n",
    "evaluator.draw_diagrams_per_dataset(\n",
    "    {\"Neural Net\": {\n",
    "           'nn_learning_rate': combined_results_loan['nn_learning_rate'],\n",
    "    'nn_hidden_layer': combined_results_loan['nn_hidden_layer'],\n",
    "    #'nn_max_iter': combined_results_loan['nn_max_iter'],\n",
    "    'nn_hidden_layer_deep': combined_results_loan['nn_hidden_layer_deep'],\n",
    "    'act_function': combined_results_loan['act_function'],\n",
    "    },\n",
    "        \"Random Forrest\": {\n",
    "        'rf_n_estimators': combined_results_loan['rf_n_estimators'],\n",
    "        'rf_criterion': combined_results_loan['rf_criterion'],\n",
    "        },\n",
    "        \"Naive Bayes\": {\n",
    "        'bayes_results': combined_results_loan['bayes_results'],\n",
    "        },\n",
    "},\n",
    "    metric=\"time\",\n",
    "    title=\"Classifiers for Loan-10k dataset\"\n",
    ")"
   ],
   "metadata": {
    "collapsed": false
   },
   "id": "7911ce08e87ecab8"
  },
  {
   "cell_type": "code",
   "outputs": [],
   "source": [
    "import copy\n",
    "reload(evaluator)\n",
    "\n",
    "def normalize_hidden_layer_width(data):\n",
    "    #return data\n",
    "    for key, value in data.items():\n",
    "        if value.get(\"hidden_layer_sizes\") is not None:\n",
    "            layer = value[\"hidden_layer_sizes\"][0]\n",
    "            value[\"hidden_layer_sizes\"] = (layer, )\n",
    "    return data\n",
    "\n",
    "\n",
    "nn_hidden_layer ={\n",
    "    \"breast\": normalize_hidden_layer_width(copy.deepcopy(combined_results_breast[\"nn_hidden_layer\"])),\n",
    "    \"creditg\": normalize_hidden_layer_width(copy.deepcopy(combined_results_creditg[\"nn_hidden_layer\"])),\n",
    "    \"seattle\": normalize_hidden_layer_width(copy.deepcopy(combined_results_seattle[\"nn_hidden_layer\"])),\n",
    "    \"loan\": normalize_hidden_layer_width(copy.deepcopy(combined_results_loan[\"nn_hidden_layer\"]))\n",
    "}\n",
    "evaluator.draw_diagram2_list(nn_hidden_layer, x_axis=\"hidden_layer_sizes\", y_axis=[\"f1\"], title=\"Hidden layers\")\n",
    "evaluator.draw_diagram2_list(nn_hidden_layer, x_axis=\"hidden_layer_sizes\", y_axis=[\"time\"], title=\"Hidden layers\", subplots=True)"
   ],
   "metadata": {
    "collapsed": false
   },
   "id": "ccdff8004488ccd0"
  },
  {
   "cell_type": "code",
   "outputs": [],
   "source": [
    "combined_results_breast[\"nn_hidden_layer\"]"
   ],
   "metadata": {
    "collapsed": false
   },
   "id": "acab0cab9179c3e"
  },
  {
   "cell_type": "code",
   "outputs": [],
   "source": [
    "import copy\n",
    "\n",
    "\n",
    "def normalize_deepness(data):\n",
    "    for key, value in data.items():\n",
    "        if value.get(\"hidden_layer_sizes\") is not None:\n",
    "            length = len(value[\"hidden_layer_sizes\"])\n",
    "            value[\"hidden_layer_sizes\"] = (1, ) * length\n",
    "    return data\n",
    "\n",
    "nn_hidden_layer_deep ={\n",
    "    \"breast\": normalize_deepness(copy.deepcopy(combined_results_breast[\"nn_hidden_layer_deep\"])),\n",
    "    \"creditg\": normalize_deepness(copy.deepcopy(combined_results_creditg[\"nn_hidden_layer_deep\"])),\n",
    "    \"seattle\": normalize_deepness(copy.deepcopy(combined_results_seattle[\"nn_hidden_layer_deep\"])),\n",
    "    \"loan\": normalize_deepness(copy.deepcopy(combined_results_loan[\"nn_hidden_layer_deep\"]))\n",
    "}\n",
    "evaluator.draw_diagram2_list(nn_hidden_layer_deep, x_axis=\"hidden_layer_sizes\", y_axis=[\"f1\"], title=\"Hidden layers deepness\")"
   ],
   "metadata": {
    "collapsed": false
   },
   "id": "b221328761415e1a"
  },
  {
   "cell_type": "code",
   "outputs": [],
   "source": [
    "lr ={\n",
    "    \"breast\": combined_results_breast[\"nn_learning_rate\"],\n",
    "    \"creditg\": combined_results_creditg[\"nn_learning_rate\"],\n",
    "    \"seattle\": combined_results_seattle[\"nn_learning_rate\"],\n",
    "    \"loan\": combined_results_loan[\"nn_learning_rate\"]\n",
    "}\n",
    "evaluator.draw_diagram2_list(lr, x_axis=\"learning_rate_init\", y_axis=[\"f1\",], title=\"Learning Rate\", logaritmic=True)\n",
    "evaluator.draw_diagram2_list(lr, x_axis=\"learning_rate_init\", y_axis=[\"time\",], title=\"Learning Rate\", logaritmic=True, subplots=True)"
   ],
   "metadata": {
    "collapsed": false
   },
   "id": "6af3d657653359c2"
  },
  {
   "cell_type": "code",
   "outputs": [],
   "source": [
    "act ={\n",
    "    \"breast\": combined_results_breast[\"act_function\"],\n",
    "    \"creditg\": combined_results_creditg[\"act_function\"],\n",
    "    \"seattle\": combined_results_seattle[\"act_function\"],\n",
    "    \"loan\": combined_results_loan[\"act_function\"]\n",
    "}\n",
    "evaluator.draw_diagram2_list(act, x_axis=\"activation\", y_axis=[\"f1\"], title=\"Activation Function\", subplots=True, line=False)\n",
    "evaluator.draw_diagram2_list(act, x_axis=\"activation\", y_axis=[\"time\"], title=\"Activation Function\", subplots=True, line=False)"
   ],
   "metadata": {
    "collapsed": false
   },
   "id": "836b265d877c1e14"
  },
  {
   "cell_type": "markdown",
   "source": [
    "# Random Forrest"
   ],
   "metadata": {
    "collapsed": false
   },
   "id": "29a5b32c2c23737f"
  },
  {
   "cell_type": "code",
   "outputs": [],
   "source": [
    "rf_n ={\n",
    "    \"breast\": combined_results_breast[\"rf_n_estimators\"],\n",
    "    \"creditg\": combined_results_creditg[\"rf_n_estimators\"],\n",
    "    \"seattle\": combined_results_seattle[\"rf_n_estimators\"],\n",
    "    \"loan\": combined_results_loan[\"rf_n_estimators\"]\n",
    "}\n",
    "evaluator.draw_diagram2_list(rf_n, x_axis=\"n_estimators\", y_axis=[\"f1\"], title=\"# Estimators\", )\n",
    "evaluator.draw_diagram2_list(rf_n, x_axis=\"n_estimators\", y_axis=[\"time\"], title=\"# Estimators\", subplots=True)"
   ],
   "metadata": {
    "collapsed": false
   },
   "id": "d273e88409730151"
  },
  {
   "cell_type": "code",
   "outputs": [],
   "source": [
    "rf_c ={\n",
    "    \"breast\": combined_results_breast[\"rf_criterion\"],\n",
    "    \"creditg\": combined_results_creditg[\"rf_criterion\"],\n",
    "    \"seattle\": combined_results_seattle[\"rf_criterion\"],\n",
    "    \"loan\": combined_results_loan[\"rf_criterion\"]\n",
    "}\n",
    "evaluator.draw_diagram2_list(rf_c, x_axis=\"criterion\", y_axis=[\"f1\"], title=\"criterion\", subplots=True, line=False)\n",
    "evaluator.draw_diagram2_list(rf_c, x_axis=\"criterion\", y_axis=[\"time\"], title=\"criterion\", subplots=True, line=False)"
   ],
   "metadata": {
    "collapsed": false
   },
   "id": "a021077a94a40170"
  },
  {
   "cell_type": "markdown",
   "source": [
    "# bayes"
   ],
   "metadata": {
    "collapsed": false
   },
   "id": "f3125dacb4f0df54"
  },
  {
   "cell_type": "code",
   "outputs": [],
   "source": [
    "bayes ={\n",
    "    \"breast\": combined_results_breast[\"bayes_results\"],\n",
    "    \"creditg\": combined_results_creditg[\"bayes_results\"],\n",
    "    \"seattle\": combined_results_seattle[\"bayes_results\"],\n",
    "    \"loan\": combined_results_loan[\"bayes_results\"]\n",
    "}\n",
    "evaluator.draw_diagram2_list(bayes, x_axis=\"classifier\", y_axis=[\"f1\"], title=\"Bayes\", subplots=True, line=False)\n",
    "evaluator.draw_diagram2_list(bayes, x_axis=\"classifier\", y_axis=[\"time\"], title=\"Bayes\", subplots=True, line=False)"
   ],
   "metadata": {
    "collapsed": false
   },
   "id": "7be131849d18b07d"
  },
  {
   "cell_type": "markdown",
   "source": [
    "# scaler"
   ],
   "metadata": {
    "collapsed": false
   },
   "id": "ae9473b628ed333f"
  },
  {
   "cell_type": "code",
   "outputs": [],
   "source": [
    "scaler ={\n",
    "    \"breast\": combined_results_breast[\"scaler_result\"],\n",
    "    \"creditg\": combined_results_creditg[\"scaler_result\"],\n",
    "    \"seattle\": combined_results_seattle[\"scaler_result\"],\n",
    "    \"loan\": combined_results_loan[\"scaler_result\"]\n",
    "}\n",
    "evaluator.draw_diagram2_list(scaler, x_axis=\"scaler\", y_axis=[\"f1\"], title=\"Scaler\", subplots=True, line=False)\n",
    "evaluator.draw_diagram2_list(scaler, x_axis=\"scaler\", y_axis=[\"time\"], title=\"Scaler\", subplots=True, line=False)"
   ],
   "metadata": {
    "collapsed": false
   },
   "id": "a307defd186cd44"
  },
  {
   "metadata": {
    "ExecuteTime": {
     "end_time": "2024-04-26T14:44:43.907447Z",
     "start_time": "2024-04-26T14:44:43.905037Z"
    }
   },
   "cell_type": "code",
   "source": [],
   "id": "895d2bacfc8b06bd",
   "outputs": [],
   "execution_count": 113
  }
 ],
 "metadata": {
  "kernelspec": {
   "display_name": "Python 3",
   "language": "python",
   "name": "python3"
  },
  "language_info": {
   "codemirror_mode": {
    "name": "ipython",
    "version": 2
   },
   "file_extension": ".py",
   "mimetype": "text/x-python",
   "name": "python",
   "nbconvert_exporter": "python",
   "pygments_lexer": "ipython2",
   "version": "2.7.6"
  }
 },
 "nbformat": 4,
 "nbformat_minor": 5
}
