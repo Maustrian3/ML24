{
 "cells": [
  {
   "cell_type": "code",
   "id": "initial_id",
   "metadata": {
    "collapsed": true,
    "ExecuteTime": {
     "end_time": "2024-04-11T18:20:32.383078Z",
     "start_time": "2024-04-11T18:20:32.378973Z"
    }
   },
   "source": [
    "from scipy.io import arff\n",
    "import pandas as pd\n",
    "import matplotlib.pyplot as plt\n",
    "import numpy as np\n",
    "from sklearn.compose import ColumnTransformer\n",
    "from sklearn.impute import SimpleImputer\n",
    "from sklearn.model_selection import cross_val_score, train_test_split\n",
    "from sklearn.naive_bayes import GaussianNB, MultinomialNB\n",
    "from sklearn.neural_network import MLPClassifier\n",
    "from sklearn.pipeline import Pipeline\n",
    "\n",
    "from sklearn.preprocessing import LabelEncoder, MinMaxScaler\n",
    "from sklearn.preprocessing import OrdinalEncoder\n",
    "from sklearn.preprocessing import OneHotEncoder\n",
    "from sklearn.preprocessing import StandardScaler\n",
    "from sklearn.metrics import precision_recall_fscore_support\n",
    "from sklearn.metrics import accuracy_score, f1_score, recall_score, precision_score\n",
    "from sklearn.ensemble import RandomForestClassifier\n",
    "from sklearn.metrics import confusion_matrix\n"
   ],
   "outputs": [],
   "execution_count": 176
  },
  {
   "cell_type": "code",
   "source": [
    "# Read the training data, test data, and solution CSV files\n",
    "path = \"./datasets_kaggle/loan-10k/\"\n",
    "train_data = pd.read_csv(\"%sloan-10k.lrn.csv\" % path)\n",
    "competition_data = pd.read_csv(\"%sloan-10k.tes.csv\" % path)\n",
    "#solution = pd.read_csv(\"%sloan-10k.tes.csv\" % path)\n",
    "\n",
    "train_data.replace(['NONE', '?', '', 'None', b''], pd.NA, inplace=True)\n",
    "competition_data.replace(['NONE', '?', '', 'None', b''], pd.NA, inplace=True)"
   ],
   "metadata": {
    "collapsed": false,
    "ExecuteTime": {
     "end_time": "2024-04-11T18:20:32.527300Z",
     "start_time": "2024-04-11T18:20:32.400083Z"
    }
   },
   "id": "71a835420c1bdf30",
   "outputs": [],
   "execution_count": 177
  },
  {
   "metadata": {
    "ExecuteTime": {
     "end_time": "2024-04-11T18:20:32.535867Z",
     "start_time": "2024-04-11T18:20:32.528337Z"
    }
   },
   "cell_type": "code",
   "source": [
    "train_data.drop(columns=['ID',], inplace=True)\n",
    "competition_data.drop(columns=['ID',], inplace=True)"
   ],
   "id": "8149ccffd2956aab",
   "outputs": [],
   "execution_count": 178
  },
  {
   "metadata": {
    "ExecuteTime": {
     "end_time": "2024-04-11T18:20:32.578661Z",
     "start_time": "2024-04-11T18:20:32.536603Z"
    }
   },
   "cell_type": "code",
   "source": [
    "for column in train_data.columns:\n",
    "    # check if column is numeric\n",
    "    if np.issubdtype(train_data[column].dtype, np.number):\n",
    "        min_value = train_data[column].min()\n",
    "        max_value = train_data[column].max()\n",
    "        #print(f\"{column}: min = {min_value}, max = {max_value}\")\n",
    "    else:\n",
    "        # if column is non-numeric, keep it as it is\n",
    "        unique_values = train_data[column].apply(lambda x: x.decode() if isinstance(x, bytes) else x).unique()\n",
    "        print(column + \": \" + str(unique_values))"
   ],
   "id": "283ecf7c11603ed2",
   "outputs": [
    {
     "name": "stdout",
     "output_type": "stream",
     "text": [
      "term: [' 36 months' ' 60 months']\n",
      "emp_length: ['< 1 year' '1 year' '9 years' '10+ years' '3 years' '4 years' '7 years'\n",
      " '2 years' '5 years' '6 years' '8 years']\n",
      "home_ownership: ['MORTGAGE' 'RENT' 'OWN' 'ANY' 'OTHER']\n",
      "verification_status: ['Not Verified' 'Source Verified' 'Verified']\n",
      "loan_status: ['Current' 'Fully Paid' 'Charged Off' 'Late (31-120 days)'\n",
      " 'In Grace Period' 'Late (16-30 days)']\n",
      "pymnt_plan: ['n' 'y']\n",
      "purpose: ['debt_consolidation' 'car' 'credit_card' 'other' 'major_purchase'\n",
      " 'home_improvement' 'small_business' 'medical' 'vacation' 'moving' 'house'\n",
      " 'renewable_energy' 'wedding']\n",
      "addr_state: ['IL' 'OK' 'AZ' 'CA' 'FL' 'TX' 'PA' 'MA' 'NC' 'NV' 'SC' 'GA' 'NY' 'OR'\n",
      " 'AL' 'VT' 'MD' 'KY' 'CO' 'IN' 'LA' 'MN' 'MI' 'WA' 'NJ' 'VA' 'WI' 'OH'\n",
      " 'TN' 'CT' 'DC' 'HI' 'MO' 'DE' 'AR' 'KS' 'ME' 'MS' 'NM' 'AK' 'UT' 'WV'\n",
      " 'MT' 'NH' 'SD' 'ID' 'NE' 'WY' 'ND' 'RI']\n",
      "initial_list_status: ['w' 'f']\n",
      "application_type: ['Individual' 'Joint App']\n",
      "hardship_flag: ['N' 'Y']\n",
      "disbursement_method: ['Cash' 'DirectPay']\n",
      "debt_settlement_flag: ['N' 'Y']\n",
      "grade: ['A' 'E' 'D' 'C' 'B' 'G' 'F']\n"
     ]
    }
   ],
   "execution_count": 179
  },
  {
   "metadata": {
    "ExecuteTime": {
     "end_time": "2024-04-11T18:20:32.586700Z",
     "start_time": "2024-04-11T18:20:32.579639Z"
    }
   },
   "cell_type": "code",
   "source": [
    "y = train_data[('grade')] \n",
    "X = train_data.drop('grade', axis=1)  # Features\n",
    "\n",
    "\n",
    "X_train, X_test, y_train, y_test = train_test_split(X, y, test_size=0.3, random_state=42)\n",
    "# y_comp = competition_data['grade']  # Target variable does not exist for competition data\n",
    "X_comp = competition_data\n",
    "print(X_train.dtypes)"
   ],
   "id": "4b9751f102363a57",
   "outputs": [
    {
     "name": "stdout",
     "output_type": "stream",
     "text": [
      "loan_amnt                   float64\n",
      "funded_amnt                 float64\n",
      "funded_amnt_inv             float64\n",
      "term                         object\n",
      "int_rate                    float64\n",
      "                             ...   \n",
      "earliest_cr_line_year         int64\n",
      "last_pymnt_d_month            int64\n",
      "last_pymnt_d_year             int64\n",
      "last_credit_pull_d_month      int64\n",
      "last_credit_pull_d_year       int64\n",
      "Length: 90, dtype: object\n"
     ]
    }
   ],
   "execution_count": 180
  },
  {
   "metadata": {
    "ExecuteTime": {
     "end_time": "2024-04-11T18:20:32.607597Z",
     "start_time": "2024-04-11T18:20:32.587202Z"
    }
   },
   "cell_type": "code",
   "source": [
    "print(\"null values in train data: \"+ str(X_train.isnull().sum().sum()))\n",
    "print(\"null values in test data: \"+ str(X_test.isnull().sum().sum()))\n",
    "print(\"null values in competition data: \"+ str(X_comp.isnull().sum().sum()))"
   ],
   "id": "bb140b50a65b94d9",
   "outputs": [
    {
     "name": "stdout",
     "output_type": "stream",
     "text": [
      "null values in train data: 0\n",
      "null values in test data: 0\n",
      "null values in competition data: 1\n"
     ]
    }
   ],
   "execution_count": 181
  },
  {
   "metadata": {
    "ExecuteTime": {
     "end_time": "2024-04-11T18:20:32.852903Z",
     "start_time": "2024-04-11T18:20:32.608249Z"
    }
   },
   "cell_type": "code",
   "source": [
    "imputer = SimpleImputer(strategy='most_frequent', missing_values=pd.NA)\n",
    "\n",
    "imputer.fit(X_train)\n",
    "\n",
    "original_dtypes = X_train.dtypes\n",
    "X_train_np = imputer.transform(X_train)\n",
    "X_train = pd.DataFrame(X_train_np, index=X_train.index, columns=X_train.columns)\n",
    "X_train = X_train.astype(original_dtypes)\n",
    "\n",
    "\n",
    "original_dtypes = X_test.dtypes\n",
    "X_test_np = imputer.transform(X_test)\n",
    "X_test = pd.DataFrame(X_test_np, index=X_test.index, columns=X_test.columns)\n",
    "X_test = X_test.astype(original_dtypes)\n",
    "\n",
    "original_dtypes = X_comp.dtypes\n",
    "X_comp_np = imputer.transform(X_comp)\n",
    "X_comp = pd.DataFrame(X_comp_np, index=X_comp.index, columns=X_comp.columns)\n",
    "X_comp = X_comp.astype(original_dtypes)"
   ],
   "id": "57d03ba34dcc29bf",
   "outputs": [],
   "execution_count": 182
  },
  {
   "metadata": {
    "ExecuteTime": {
     "end_time": "2024-04-11T18:20:32.868283Z",
     "start_time": "2024-04-11T18:20:32.853552Z"
    }
   },
   "cell_type": "code",
   "source": [
    "print(\"null values in train data: \"+ str(X_train.isnull().sum().sum()))\n",
    "print(\"null values in test data: \"+ str(X_test.isnull().sum().sum()))\n",
    "print(\"null values in competition data: \"+ str(X_comp.isnull().sum().sum()))"
   ],
   "id": "710f78b718fd850d",
   "outputs": [
    {
     "name": "stdout",
     "output_type": "stream",
     "text": [
      "null values in train data: 0\n",
      "null values in test data: 0\n",
      "null values in competition data: 0\n"
     ]
    }
   ],
   "execution_count": 183
  },
  {
   "metadata": {
    "ExecuteTime": {
     "end_time": "2024-04-11T18:20:32.886074Z",
     "start_time": "2024-04-11T18:20:32.869052Z"
    }
   },
   "cell_type": "code",
   "source": [
    "# find all numerical columns in X_train\n",
    "numerical_columns = X_train.select_dtypes(include=\"number\").columns\n",
    "# convert numerical columns to list\n",
    "numerical_columns = numerical_columns.tolist()\n",
    "numerical_columns"
   ],
   "id": "f12b3c30dcea32e9",
   "outputs": [
    {
     "data": {
      "text/plain": [
       "['loan_amnt',\n",
       " 'funded_amnt',\n",
       " 'funded_amnt_inv',\n",
       " 'int_rate',\n",
       " 'installment',\n",
       " 'annual_inc',\n",
       " 'dti',\n",
       " 'delinq_2yrs',\n",
       " 'fico_range_low',\n",
       " 'fico_range_high',\n",
       " 'inq_last_6mths',\n",
       " 'open_acc',\n",
       " 'pub_rec',\n",
       " 'revol_bal',\n",
       " 'revol_util',\n",
       " 'total_acc',\n",
       " 'out_prncp',\n",
       " 'out_prncp_inv',\n",
       " 'total_pymnt',\n",
       " 'total_pymnt_inv',\n",
       " 'total_rec_prncp',\n",
       " 'total_rec_int',\n",
       " 'total_rec_late_fee',\n",
       " 'recoveries',\n",
       " 'collection_recovery_fee',\n",
       " 'last_pymnt_amnt',\n",
       " 'last_fico_range_high',\n",
       " 'last_fico_range_low',\n",
       " 'collections_12_mths_ex_med',\n",
       " 'policy_code',\n",
       " 'acc_now_delinq',\n",
       " 'tot_coll_amt',\n",
       " 'tot_cur_bal',\n",
       " 'total_rev_hi_lim',\n",
       " 'acc_open_past_24mths',\n",
       " 'avg_cur_bal',\n",
       " 'bc_open_to_buy',\n",
       " 'bc_util',\n",
       " 'chargeoff_within_12_mths',\n",
       " 'delinq_amnt',\n",
       " 'mo_sin_old_il_acct',\n",
       " 'mo_sin_old_rev_tl_op',\n",
       " 'mo_sin_rcnt_rev_tl_op',\n",
       " 'mo_sin_rcnt_tl',\n",
       " 'mort_acc',\n",
       " 'mths_since_recent_bc',\n",
       " 'mths_since_recent_inq',\n",
       " 'num_accts_ever_120_pd',\n",
       " 'num_actv_bc_tl',\n",
       " 'num_actv_rev_tl',\n",
       " 'num_bc_sats',\n",
       " 'num_bc_tl',\n",
       " 'num_il_tl',\n",
       " 'num_op_rev_tl',\n",
       " 'num_rev_accts',\n",
       " 'num_rev_tl_bal_gt_0',\n",
       " 'num_sats',\n",
       " 'num_tl_120dpd_2m',\n",
       " 'num_tl_30dpd',\n",
       " 'num_tl_90g_dpd_24m',\n",
       " 'num_tl_op_past_12m',\n",
       " 'pct_tl_nvr_dlq',\n",
       " 'percent_bc_gt_75',\n",
       " 'pub_rec_bankruptcies',\n",
       " 'tax_liens',\n",
       " 'tot_hi_cred_lim',\n",
       " 'total_bal_ex_mort',\n",
       " 'total_bc_limit',\n",
       " 'total_il_high_credit_limit',\n",
       " 'issue_d_month',\n",
       " 'issue_d_year',\n",
       " 'earliest_cr_line_month',\n",
       " 'earliest_cr_line_year',\n",
       " 'last_pymnt_d_month',\n",
       " 'last_pymnt_d_year',\n",
       " 'last_credit_pull_d_month',\n",
       " 'last_credit_pull_d_year']"
      ]
     },
     "execution_count": 184,
     "metadata": {},
     "output_type": "execute_result"
    }
   ],
   "execution_count": 184
  },
  {
   "metadata": {
    "ExecuteTime": {
     "end_time": "2024-04-11T18:20:32.901221Z",
     "start_time": "2024-04-11T18:20:32.886695Z"
    }
   },
   "cell_type": "code",
   "source": [
    "feature_mappings = {\n",
    "    'term': [' 36 months', ' 60 months'],\n",
    "    'emp_length': ['< 1 year', '1 year', '2 years', '3 years', '4 years', '5 years', '6 years', '7 years', '8 years', '9 years', '10+ years']\n",
    "}\n",
    "\n",
    "ordinal_columns = [col for col in X_train.columns if col in feature_mappings.keys()]\n",
    "ordinal_categories = [feature_mappings[col] for col in ordinal_columns]\n",
    "ordinal_columns"
   ],
   "id": "9d28939858242c07",
   "outputs": [
    {
     "data": {
      "text/plain": [
       "['term', 'emp_length']"
      ]
     },
     "execution_count": 185,
     "metadata": {},
     "output_type": "execute_result"
    }
   ],
   "execution_count": 185
  },
  {
   "metadata": {
    "ExecuteTime": {
     "end_time": "2024-04-11T18:20:32.921128Z",
     "start_time": "2024-04-11T18:20:32.902050Z"
    }
   },
   "cell_type": "code",
   "source": [
    "categorical_columns = [col for col in X_train.columns if col not in ordinal_columns and col not in numerical_columns] \n",
    "\n",
    "one_hot_encoding_limit = 5\n",
    "one_hot_columns = [col for col in categorical_columns if X_train[col].nunique() <= one_hot_encoding_limit]\n",
    "\n",
    "label_columns = [col for col in categorical_columns if col not in one_hot_columns]\n",
    "\n",
    "print(\"one hot columns: \", one_hot_columns)\n",
    "print(\"label columns: \", label_columns)"
   ],
   "id": "18c17154e432b3c8",
   "outputs": [
    {
     "name": "stdout",
     "output_type": "stream",
     "text": [
      "one hot columns:  ['home_ownership', 'verification_status', 'pymnt_plan', 'initial_list_status', 'application_type', 'hardship_flag', 'disbursement_method', 'debt_settlement_flag']\n",
      "label columns:  ['loan_status', 'purpose', 'addr_state']\n"
     ]
    }
   ],
   "execution_count": 186
  },
  {
   "metadata": {
    "ExecuteTime": {
     "end_time": "2024-04-11T18:20:32.938127Z",
     "start_time": "2024-04-11T18:20:32.922171Z"
    }
   },
   "cell_type": "code",
   "source": [
    "all = numerical_columns + ordinal_columns + one_hot_columns + label_columns\n",
    "all.sort()\n",
    "all"
   ],
   "id": "d115c77b57711a89",
   "outputs": [
    {
     "data": {
      "text/plain": [
       "['acc_now_delinq',\n",
       " 'acc_open_past_24mths',\n",
       " 'addr_state',\n",
       " 'annual_inc',\n",
       " 'application_type',\n",
       " 'avg_cur_bal',\n",
       " 'bc_open_to_buy',\n",
       " 'bc_util',\n",
       " 'chargeoff_within_12_mths',\n",
       " 'collection_recovery_fee',\n",
       " 'collections_12_mths_ex_med',\n",
       " 'debt_settlement_flag',\n",
       " 'delinq_2yrs',\n",
       " 'delinq_amnt',\n",
       " 'disbursement_method',\n",
       " 'dti',\n",
       " 'earliest_cr_line_month',\n",
       " 'earliest_cr_line_year',\n",
       " 'emp_length',\n",
       " 'fico_range_high',\n",
       " 'fico_range_low',\n",
       " 'funded_amnt',\n",
       " 'funded_amnt_inv',\n",
       " 'hardship_flag',\n",
       " 'home_ownership',\n",
       " 'initial_list_status',\n",
       " 'inq_last_6mths',\n",
       " 'installment',\n",
       " 'int_rate',\n",
       " 'issue_d_month',\n",
       " 'issue_d_year',\n",
       " 'last_credit_pull_d_month',\n",
       " 'last_credit_pull_d_year',\n",
       " 'last_fico_range_high',\n",
       " 'last_fico_range_low',\n",
       " 'last_pymnt_amnt',\n",
       " 'last_pymnt_d_month',\n",
       " 'last_pymnt_d_year',\n",
       " 'loan_amnt',\n",
       " 'loan_status',\n",
       " 'mo_sin_old_il_acct',\n",
       " 'mo_sin_old_rev_tl_op',\n",
       " 'mo_sin_rcnt_rev_tl_op',\n",
       " 'mo_sin_rcnt_tl',\n",
       " 'mort_acc',\n",
       " 'mths_since_recent_bc',\n",
       " 'mths_since_recent_inq',\n",
       " 'num_accts_ever_120_pd',\n",
       " 'num_actv_bc_tl',\n",
       " 'num_actv_rev_tl',\n",
       " 'num_bc_sats',\n",
       " 'num_bc_tl',\n",
       " 'num_il_tl',\n",
       " 'num_op_rev_tl',\n",
       " 'num_rev_accts',\n",
       " 'num_rev_tl_bal_gt_0',\n",
       " 'num_sats',\n",
       " 'num_tl_120dpd_2m',\n",
       " 'num_tl_30dpd',\n",
       " 'num_tl_90g_dpd_24m',\n",
       " 'num_tl_op_past_12m',\n",
       " 'open_acc',\n",
       " 'out_prncp',\n",
       " 'out_prncp_inv',\n",
       " 'pct_tl_nvr_dlq',\n",
       " 'percent_bc_gt_75',\n",
       " 'policy_code',\n",
       " 'pub_rec',\n",
       " 'pub_rec_bankruptcies',\n",
       " 'purpose',\n",
       " 'pymnt_plan',\n",
       " 'recoveries',\n",
       " 'revol_bal',\n",
       " 'revol_util',\n",
       " 'tax_liens',\n",
       " 'term',\n",
       " 'tot_coll_amt',\n",
       " 'tot_cur_bal',\n",
       " 'tot_hi_cred_lim',\n",
       " 'total_acc',\n",
       " 'total_bal_ex_mort',\n",
       " 'total_bc_limit',\n",
       " 'total_il_high_credit_limit',\n",
       " 'total_pymnt',\n",
       " 'total_pymnt_inv',\n",
       " 'total_rec_int',\n",
       " 'total_rec_late_fee',\n",
       " 'total_rec_prncp',\n",
       " 'total_rev_hi_lim',\n",
       " 'verification_status']"
      ]
     },
     "execution_count": 187,
     "metadata": {},
     "output_type": "execute_result"
    }
   ],
   "execution_count": 187
  },
  {
   "metadata": {
    "ExecuteTime": {
     "end_time": "2024-04-11T18:20:32.954391Z",
     "start_time": "2024-04-11T18:20:32.939009Z"
    }
   },
   "cell_type": "code",
   "source": [
    "preprocessor = ColumnTransformer([\n",
    "    ('ordinal', OrdinalEncoder(categories=ordinal_categories), ordinal_columns),\n",
    "    ('categorical', OneHotEncoder(handle_unknown=\"ignore\"), one_hot_columns),\n",
    "    ('label', OrdinalEncoder(handle_unknown='use_encoded_value', unknown_value=np.nan), label_columns)\n",
    "],\n",
    "    remainder='passthrough'  # passthrough columns not listed in any pipeline\n",
    ")"
   ],
   "id": "afe74b01048a64cd",
   "outputs": [],
   "execution_count": 188
  },
  {
   "cell_type": "code",
   "source": [
    "pipeline = Pipeline([\n",
    "    ('preprocessor', preprocessor),\n",
    "    ('imputer', SimpleImputer(strategy='most_frequent', missing_values=np.nan)),\n",
    "    #('scaler', MinMaxScaler()),\n",
    "    ('scaler', StandardScaler())\n",
    "])\n",
    "\n",
    "# Preprocess training data\n",
    "X_train = pipeline.fit_transform(X_train)\n",
    "X_test = pipeline.transform(X_test)\n",
    "X_comp = pipeline.transform(X_comp)"
   ],
   "metadata": {
    "collapsed": false,
    "ExecuteTime": {
     "end_time": "2024-04-11T18:20:33.077228Z",
     "start_time": "2024-04-11T18:20:32.955155Z"
    }
   },
   "id": "29351d879697e059",
   "outputs": [],
   "execution_count": 189
  },
  {
   "metadata": {
    "ExecuteTime": {
     "end_time": "2024-04-11T18:20:33.080677Z",
     "start_time": "2024-04-11T18:20:33.077834Z"
    }
   },
   "cell_type": "code",
   "source": [
    "# Encode target variable\n",
    "label_encoder = LabelEncoder()\n",
    "\n",
    "#label = {'A': 0, 'B': 1, 'C': 2, 'D': 3, 'E': 4, 'F': 5, 'G': 6}\n",
    "#y_train = y_train.map(label)\n",
    "#y_test = y_test.map(label)\n",
    "y_train = label_encoder.fit_transform(y_train)\n",
    "y_test = label_encoder.transform(y_test)"
   ],
   "id": "21f6a56c73ff509f",
   "outputs": [],
   "execution_count": 190
  },
  {
   "cell_type": "code",
   "source": "",
   "metadata": {
    "collapsed": false,
    "ExecuteTime": {
     "end_time": "2024-04-11T17:37:08.441762Z",
     "start_time": "2024-04-11T17:37:08.440260Z"
    }
   },
   "id": "b79f00aa6be6bada",
   "outputs": [],
   "execution_count": 132
  },
  {
   "cell_type": "markdown",
   "source": [
    "# Neural Network"
   ],
   "metadata": {
    "collapsed": false
   },
   "id": "2282d71d56406c67"
  },
  {
   "cell_type": "code",
   "source": "",
   "metadata": {
    "collapsed": false,
    "ExecuteTime": {
     "end_time": "2024-04-11T15:52:19.003153Z",
     "start_time": "2024-04-11T15:52:19.001691Z"
    }
   },
   "id": "3fa7e79fef5e07eb",
   "outputs": [],
   "execution_count": 69
  },
  {
   "metadata": {
    "ExecuteTime": {
     "end_time": "2024-04-11T18:20:49.836088Z",
     "start_time": "2024-04-11T18:20:35.993147Z"
    }
   },
   "cell_type": "code",
   "source": [
    "\n",
    "clf = MLPClassifier(solver='adam', activation='tanh', alpha=1e-4, hidden_layer_sizes=(80, 80), random_state=69, max_iter=3000, verbose=True, tol=5e-5)\n",
    "clf.fit(X_train, y_train)\n",
    "\n",
    "y_pred = clf.predict(X_test)\n",
    "\n",
    "# Evaluate the model\n",
    "accuracy = accuracy_score(y_test, y_pred)\n",
    "recall = recall_score(y_test, y_pred, average='weighted')\n",
    "precision = precision_score(y_test, y_pred, average='weighted')\n",
    "f1 = f1_score(y_test, y_pred, average='weighted')\n",
    "print(\"Accuracy:\", accuracy)\n",
    "print(\"Recall:\", recall)\n",
    "print(\"Precision:\", precision)\n",
    "print(\"F1 Score:\", f1)\n",
    "\n",
    "# confusion matrix\n",
    "confusion_matrix(y_test, y_pred)"
   ],
   "id": "7371d2e38a13faa3",
   "outputs": [
    {
     "name": "stdout",
     "output_type": "stream",
     "text": [
      "Iteration 1, loss = 1.57879205\n",
      "Iteration 2, loss = 1.12893027\n",
      "Iteration 3, loss = 0.91737868\n",
      "Iteration 4, loss = 0.76336364\n",
      "Iteration 5, loss = 0.63583763\n",
      "Iteration 6, loss = 0.53879528\n",
      "Iteration 7, loss = 0.46624455\n",
      "Iteration 8, loss = 0.41590962\n",
      "Iteration 9, loss = 0.37583773\n",
      "Iteration 10, loss = 0.34753114\n",
      "Iteration 11, loss = 0.32314776\n",
      "Iteration 12, loss = 0.30187841\n",
      "Iteration 13, loss = 0.28575396\n",
      "Iteration 14, loss = 0.26690964\n",
      "Iteration 15, loss = 0.26040245\n",
      "Iteration 16, loss = 0.24456459\n",
      "Iteration 17, loss = 0.23264191\n",
      "Iteration 18, loss = 0.21870385\n",
      "Iteration 19, loss = 0.20807902\n",
      "Iteration 20, loss = 0.19925212\n",
      "Iteration 21, loss = 0.19664929\n",
      "Iteration 22, loss = 0.18518790\n",
      "Iteration 23, loss = 0.17655062\n",
      "Iteration 24, loss = 0.16580022\n",
      "Iteration 25, loss = 0.15659877\n",
      "Iteration 26, loss = 0.15059743\n",
      "Iteration 27, loss = 0.14436577\n",
      "Iteration 28, loss = 0.13648288\n",
      "Iteration 29, loss = 0.12946863\n",
      "Iteration 30, loss = 0.12504426\n",
      "Iteration 31, loss = 0.11999162\n",
      "Iteration 32, loss = 0.11403154\n",
      "Iteration 33, loss = 0.10901533\n",
      "Iteration 34, loss = 0.10353903\n",
      "Iteration 35, loss = 0.09646710\n",
      "Iteration 36, loss = 0.09321248\n",
      "Iteration 37, loss = 0.08858940\n",
      "Iteration 38, loss = 0.08589536\n",
      "Iteration 39, loss = 0.08119311\n",
      "Iteration 40, loss = 0.07879431\n",
      "Iteration 41, loss = 0.07216865\n",
      "Iteration 42, loss = 0.07033390\n",
      "Iteration 43, loss = 0.06575251\n",
      "Iteration 44, loss = 0.06384330\n",
      "Iteration 45, loss = 0.05996528\n",
      "Iteration 46, loss = 0.05768455\n",
      "Iteration 47, loss = 0.05474113\n",
      "Iteration 48, loss = 0.05157471\n",
      "Iteration 49, loss = 0.04933722\n",
      "Iteration 50, loss = 0.04752971\n",
      "Iteration 51, loss = 0.04572573\n",
      "Iteration 52, loss = 0.04361107\n",
      "Iteration 53, loss = 0.04109294\n",
      "Iteration 54, loss = 0.03906155\n",
      "Iteration 55, loss = 0.03872524\n",
      "Iteration 56, loss = 0.03582924\n",
      "Iteration 57, loss = 0.03381957\n",
      "Iteration 58, loss = 0.03308406\n",
      "Iteration 59, loss = 0.03107634\n",
      "Iteration 60, loss = 0.03020419\n",
      "Iteration 61, loss = 0.02907741\n",
      "Iteration 62, loss = 0.02780610\n",
      "Iteration 63, loss = 0.02616385\n",
      "Iteration 64, loss = 0.02514449\n",
      "Iteration 65, loss = 0.02458968\n",
      "Iteration 66, loss = 0.02297434\n",
      "Iteration 67, loss = 0.02211583\n",
      "Iteration 68, loss = 0.02152344\n",
      "Iteration 69, loss = 0.02037356\n",
      "Iteration 70, loss = 0.01981252\n",
      "Iteration 71, loss = 0.01920718\n",
      "Iteration 72, loss = 0.01815046\n",
      "Iteration 73, loss = 0.01744717\n",
      "Iteration 74, loss = 0.01684026\n",
      "Iteration 75, loss = 0.01602101\n",
      "Iteration 76, loss = 0.01573419\n",
      "Iteration 77, loss = 0.01498906\n",
      "Iteration 78, loss = 0.01443765\n",
      "Iteration 79, loss = 0.01367252\n",
      "Iteration 80, loss = 0.01320600\n",
      "Iteration 81, loss = 0.01281212\n",
      "Iteration 82, loss = 0.01210138\n",
      "Iteration 83, loss = 0.01163620\n",
      "Iteration 84, loss = 0.01126160\n",
      "Iteration 85, loss = 0.01074124\n",
      "Iteration 86, loss = 0.01026460\n",
      "Iteration 87, loss = 0.00980052\n",
      "Iteration 88, loss = 0.00941303\n",
      "Iteration 89, loss = 0.00925218\n",
      "Iteration 90, loss = 0.00861046\n",
      "Iteration 91, loss = 0.00824597\n",
      "Iteration 92, loss = 0.00795163\n",
      "Iteration 93, loss = 0.00763282\n",
      "Iteration 94, loss = 0.00725061\n",
      "Iteration 95, loss = 0.00703405\n",
      "Iteration 96, loss = 0.00669931\n",
      "Iteration 97, loss = 0.00642622\n",
      "Iteration 98, loss = 0.00610903\n",
      "Iteration 99, loss = 0.00587441\n",
      "Iteration 100, loss = 0.00562531\n",
      "Iteration 101, loss = 0.00540811\n",
      "Iteration 102, loss = 0.00521757\n",
      "Iteration 103, loss = 0.00501157\n",
      "Iteration 104, loss = 0.00877945\n",
      "Iteration 105, loss = 0.00880518\n",
      "Iteration 106, loss = 0.01375154\n",
      "Iteration 107, loss = 0.03103110\n",
      "Iteration 108, loss = 0.04631761\n",
      "Iteration 109, loss = 0.03186614\n",
      "Iteration 110, loss = 0.02758486\n",
      "Iteration 111, loss = 0.01321122\n",
      "Iteration 112, loss = 0.00573897\n",
      "Iteration 113, loss = 0.00553546\n",
      "Iteration 114, loss = 0.00422794\n",
      "Iteration 115, loss = 0.00423227\n",
      "Iteration 116, loss = 0.00418097\n",
      "Iteration 117, loss = 0.00348612\n",
      "Iteration 118, loss = 0.00321402\n",
      "Iteration 119, loss = 0.00310899\n",
      "Iteration 120, loss = 0.00295140\n",
      "Iteration 121, loss = 0.00287412\n",
      "Iteration 122, loss = 0.00275070\n",
      "Iteration 123, loss = 0.00264859\n",
      "Iteration 124, loss = 0.00257363\n",
      "Iteration 125, loss = 0.00248883\n",
      "Iteration 126, loss = 0.00239131\n",
      "Iteration 127, loss = 0.00232144\n",
      "Iteration 128, loss = 0.00224668\n",
      "Iteration 129, loss = 0.00219749\n",
      "Iteration 130, loss = 0.00211445\n",
      "Iteration 131, loss = 0.00205290\n",
      "Iteration 132, loss = 0.00199596\n",
      "Iteration 133, loss = 0.00193313\n",
      "Iteration 134, loss = 0.00188288\n",
      "Iteration 135, loss = 0.00182827\n",
      "Iteration 136, loss = 0.00178474\n",
      "Iteration 137, loss = 0.00173457\n",
      "Iteration 138, loss = 0.00167944\n",
      "Iteration 139, loss = 0.00163699\n",
      "Iteration 140, loss = 0.00159297\n",
      "Iteration 141, loss = 0.00155433\n",
      "Iteration 142, loss = 0.00151238\n",
      "Iteration 143, loss = 0.00147243\n",
      "Iteration 144, loss = 0.00143461\n",
      "Iteration 145, loss = 0.00139820\n",
      "Iteration 146, loss = 0.00136701\n",
      "Iteration 147, loss = 0.00132981\n",
      "Iteration 148, loss = 0.00130222\n",
      "Iteration 149, loss = 0.00127574\n",
      "Training loss did not improve more than tol=0.000050 for 10 consecutive epochs. Stopping.\n",
      "Accuracy: 0.87\n",
      "Recall: 0.87\n",
      "Precision: 0.8704507510137637\n",
      "F1 Score: 0.8696467006295576\n"
     ]
    },
    {
     "data": {
      "text/plain": [
       "array([[498,  43,   0,   0,   0,   0,   0],\n",
       "       [ 47, 778,  38,   0,   0,   0,   0],\n",
       "       [  0,  51, 797,  45,   0,   0,   0],\n",
       "       [  1,   0,  33, 374,  31,   2,   0],\n",
       "       [  0,   0,   0,  57, 125,  11,   5],\n",
       "       [  0,   0,   0,   0,  13,  30,   3],\n",
       "       [  0,   0,   0,   0,   0,  10,   8]])"
      ]
     },
     "execution_count": 191,
     "metadata": {},
     "output_type": "execute_result"
    }
   ],
   "execution_count": 191
  },
  {
   "metadata": {
    "ExecuteTime": {
     "end_time": "2024-04-11T17:50:24.280056Z",
     "start_time": "2024-04-11T17:50:22.107809Z"
    }
   },
   "cell_type": "code",
   "source": [
    "rf_classifier = RandomForestClassifier(n_estimators=100, random_state=42)\n",
    "\n",
    "rf_classifier.fit(X_train, y_train)\n",
    "y_pred = rf_classifier.predict(X_test)\n",
    "\n",
    "accuracy = accuracy_score(y_test, y_pred)\n",
    "recall = recall_score(y_test, y_pred, average='weighted')\n",
    "precision = precision_score(y_test, y_pred, average='weighted')\n",
    "f1 = f1_score(y_test, y_pred, average='weighted')\n",
    "print(\"Accuracy:\", accuracy)\n",
    "print(\"Recall:\", recall)\n",
    "print(\"Precision:\", precision)\n",
    "print(\"F1 Score:\", f1)\n",
    "\n",
    "# confusion matrix\n",
    "confusion_matrix(y_test, y_pred)"
   ],
   "id": "a9cd951928287bb7",
   "outputs": [
    {
     "name": "stdout",
     "output_type": "stream",
     "text": [
      "Accuracy: 0.837\n",
      "Recall: 0.837\n",
      "Precision: 0.8291426198358631\n",
      "F1 Score: 0.8194771490028775\n"
     ]
    },
    {
     "name": "stderr",
     "output_type": "stream",
     "text": [
      "/home/alex/.cache/pypoetry/virtualenvs/ml24-cRmhZNh3-py3.12/lib/python3.12/site-packages/sklearn/metrics/_classification.py:1509: UndefinedMetricWarning: Precision is ill-defined and being set to 0.0 in labels with no predicted samples. Use `zero_division` parameter to control this behavior.\n",
      "  _warn_prf(average, modifier, f\"{metric.capitalize()} is\", len(result))\n"
     ]
    },
    {
     "data": {
      "text/plain": [
       "array([[332,  25,   0,   0,   0,   0,   0],\n",
       "       [ 13, 523,  45,   0,   0,   0,   0],\n",
       "       [  0,  21, 560,   6,   0,   0,   0],\n",
       "       [  0,   3,  63, 226,   1,   0,   0],\n",
       "       [  0,   1,   8,  93,  31,   0,   0],\n",
       "       [  0,   0,   0,  18,  15,   2,   0],\n",
       "       [  0,   0,   0,   4,  10,   0,   0]])"
      ]
     },
     "execution_count": 164,
     "metadata": {},
     "output_type": "execute_result"
    }
   ],
   "execution_count": 164
  },
  {
   "metadata": {
    "ExecuteTime": {
     "end_time": "2024-04-11T17:50:37.200873Z",
     "start_time": "2024-04-11T17:50:37.184751Z"
    }
   },
   "cell_type": "code",
   "source": [
    "nb_classifier = GaussianNB()\n",
    "nb_classifier.fit(X_train, y_train)\n",
    "y_pred = nb_classifier.predict(X_test)\n",
    "\n",
    "accuracy = accuracy_score(y_test, y_pred)\n",
    "recall = recall_score(y_test, y_pred, average='weighted')\n",
    "precision = precision_score(y_test, y_pred, average='weighted')\n",
    "f1 = f1_score(y_test, y_pred, average='weighted')\n",
    "print(\"Accuracy:\", accuracy)\n",
    "print(\"Recall:\", recall)\n",
    "print(\"Precision:\", precision)\n",
    "print(\"F1 Score:\", f1)\n",
    "\n",
    "# confusion matrix\n",
    "confusion_matrix(y_test, y_pred)"
   ],
   "id": "fb0a92b13cb96a81",
   "outputs": [
    {
     "name": "stdout",
     "output_type": "stream",
     "text": [
      "Accuracy: 0.0495\n",
      "Recall: 0.0495\n",
      "Precision: 0.34030555444425514\n",
      "F1 Score: 0.06424394668771045\n"
     ]
    },
    {
     "data": {
      "text/plain": [
       "array([[ 72,   1,   0,   1,  11,   1, 271],\n",
       "       [ 27,   3,   0,   0,  28,   6, 517],\n",
       "       [ 12,   0,   0,   2,  50,   8, 515],\n",
       "       [  0,   0,   1,   0,  29,   2, 261],\n",
       "       [  0,   0,   0,   2,  10,   4, 117],\n",
       "       [  0,   0,   0,   0,   1,   2,  32],\n",
       "       [  0,   0,   0,   0,   2,   0,  12]])"
      ]
     },
     "execution_count": 165,
     "metadata": {},
     "output_type": "execute_result"
    }
   ],
   "execution_count": 165
  },
  {
   "metadata": {
    "ExecuteTime": {
     "end_time": "2024-04-11T18:17:18.094473Z",
     "start_time": "2024-04-11T18:17:15.425832Z"
    }
   },
   "cell_type": "code",
   "source": [
    "# classification using svm\n",
    "from sklearn.svm import SVC\n",
    "\n",
    "svm_classifier = SVC(kernel='rbf')\n",
    "svm_classifier.fit(X_train, y_train)\n",
    "y_pred = svm_classifier.predict(X_test)\n",
    "\n",
    "accuracy = accuracy_score(y_test, y_pred)\n",
    "recall = recall_score(y_test, y_pred, average='weighted')\n",
    "precision = precision_score(y_test, y_pred, average='weighted')\n",
    "f1 = f1_score(y_test, y_pred, average='weighted')\n",
    "print(\"Accuracy:\", accuracy)\n",
    "print(\"Recall:\", recall)\n",
    "print(\"Precision:\", precision)\n",
    "print(\"F1 Score:\", f1)\n",
    "\n",
    "# confusion matrix\n",
    "confusion_matrix(y_test, y_pred)"
   ],
   "id": "4c45410f77bd6c7",
   "outputs": [
    {
     "name": "stdout",
     "output_type": "stream",
     "text": [
      "Accuracy: 0.7765\n",
      "Recall: 0.7765\n",
      "Precision: 0.7566652023591621\n",
      "F1 Score: 0.7649579872147863\n"
     ]
    },
    {
     "name": "stderr",
     "output_type": "stream",
     "text": [
      "/home/alex/.cache/pypoetry/virtualenvs/ml24-cRmhZNh3-py3.12/lib/python3.12/site-packages/sklearn/metrics/_classification.py:1509: UndefinedMetricWarning: Precision is ill-defined and being set to 0.0 in labels with no predicted samples. Use `zero_division` parameter to control this behavior.\n",
      "  _warn_prf(average, modifier, f\"{metric.capitalize()} is\", len(result))\n"
     ]
    },
    {
     "data": {
      "text/plain": [
       "array([[293,  61,   3,   0,   0,   0,   0],\n",
       "       [ 37, 478,  66,   0,   0,   0,   0],\n",
       "       [  0,  56, 514,  17,   0,   0,   0],\n",
       "       [  0,   1,  74, 210,   8,   0,   0],\n",
       "       [  0,   0,   3,  72,  58,   0,   0],\n",
       "       [  0,   0,   0,   8,  27,   0,   0],\n",
       "       [  0,   0,   0,   1,  12,   1,   0]])"
      ]
     },
     "execution_count": 174,
     "metadata": {},
     "output_type": "execute_result"
    }
   ],
   "execution_count": 174
  },
  {
   "metadata": {},
   "cell_type": "code",
   "outputs": [],
   "execution_count": null,
   "source": "",
   "id": "4a6a8436b78d8f13"
  }
 ],
 "metadata": {
  "kernelspec": {
   "display_name": "Python 3",
   "language": "python",
   "name": "python3"
  },
  "language_info": {
   "codemirror_mode": {
    "name": "ipython",
    "version": 2
   },
   "file_extension": ".py",
   "mimetype": "text/x-python",
   "name": "python",
   "nbconvert_exporter": "python",
   "pygments_lexer": "ipython2",
   "version": "2.7.6"
  }
 },
 "nbformat": 4,
 "nbformat_minor": 5
}
