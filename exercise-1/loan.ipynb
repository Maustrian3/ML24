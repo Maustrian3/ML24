{
 "cells": [
  {
   "cell_type": "code",
   "id": "initial_id",
   "metadata": {
    "collapsed": true,
    "ExecuteTime": {
     "end_time": "2024-04-11T14:51:14.531212Z",
     "start_time": "2024-04-11T14:51:14.528915Z"
    }
   },
   "source": [
    "from scipy.io import arff\n",
    "import pandas as pd\n",
    "import matplotlib.pyplot as plt\n",
    "import numpy as np\n",
    "from sklearn.compose import ColumnTransformer\n",
    "from sklearn.impute import SimpleImputer\n",
    "from sklearn.model_selection import cross_val_score, train_test_split\n",
    "from sklearn.neural_network import MLPClassifier\n",
    "from sklearn.pipeline import Pipeline\n",
    "\n",
    "from sklearn.preprocessing import LabelEncoder, MinMaxScaler\n",
    "from sklearn.preprocessing import OrdinalEncoder\n",
    "from sklearn.preprocessing import OneHotEncoder\n",
    "from sklearn.preprocessing import StandardScaler"
   ],
   "outputs": [],
   "execution_count": 405
  },
  {
   "cell_type": "code",
   "source": [
    "# Read the training data, test data, and solution CSV files\n",
    "path = \"./datasets_kaggle/loan-10k/\"\n",
    "train_data = pd.read_csv(\"%sloan-10k.lrn.csv\" % path)\n",
    "competition_data = pd.read_csv(\"%sloan-10k.tes.csv\" % path)\n",
    "#solution = pd.read_csv(\"%sloan-10k.tes.csv\" % path)\n",
    "\n",
    "train_data.replace(['NONE', '?', ''], pd.NA, inplace=True)\n",
    "competition_data.replace(['NONE', '?', ''], pd.NA, inplace=True)"
   ],
   "metadata": {
    "collapsed": false,
    "ExecuteTime": {
     "end_time": "2024-04-11T14:51:14.653263Z",
     "start_time": "2024-04-11T14:51:14.537888Z"
    }
   },
   "id": "71a835420c1bdf30",
   "outputs": [],
   "execution_count": 406
  },
  {
   "metadata": {
    "ExecuteTime": {
     "end_time": "2024-04-11T14:51:14.662180Z",
     "start_time": "2024-04-11T14:51:14.654497Z"
    }
   },
   "cell_type": "code",
   "source": [
    "train_data.drop(columns=['ID',], inplace=True)\n",
    "competition_data.drop(columns=['ID',], inplace=True)"
   ],
   "id": "8149ccffd2956aab",
   "outputs": [],
   "execution_count": 407
  },
  {
   "metadata": {
    "ExecuteTime": {
     "end_time": "2024-04-11T14:51:14.700667Z",
     "start_time": "2024-04-11T14:51:14.662753Z"
    }
   },
   "cell_type": "code",
   "source": [
    "for column in train_data.columns:\n",
    "    # check if column is numeric\n",
    "    if np.issubdtype(train_data[column].dtype, np.number):\n",
    "        min_value = train_data[column].min()\n",
    "        max_value = train_data[column].max()\n",
    "        #print(f\"{column}: min = {min_value}, max = {max_value}\")\n",
    "    else:\n",
    "        # if column is non-numeric, keep it as it is\n",
    "        unique_values = train_data[column].apply(lambda x: x.decode() if isinstance(x, bytes) else x).unique()\n",
    "        print(column + \": \" + str(unique_values))"
   ],
   "id": "283ecf7c11603ed2",
   "outputs": [
    {
     "name": "stdout",
     "output_type": "stream",
     "text": [
      "term: [' 36 months' ' 60 months']\n",
      "emp_length: ['< 1 year' '1 year' '9 years' '10+ years' '3 years' '4 years' '7 years'\n",
      " '2 years' '5 years' '6 years' '8 years']\n",
      "home_ownership: ['MORTGAGE' 'RENT' 'OWN' 'ANY' 'OTHER']\n",
      "verification_status: ['Not Verified' 'Source Verified' 'Verified']\n",
      "loan_status: ['Current' 'Fully Paid' 'Charged Off' 'Late (31-120 days)'\n",
      " 'In Grace Period' 'Late (16-30 days)']\n",
      "pymnt_plan: ['n' 'y']\n",
      "purpose: ['debt_consolidation' 'car' 'credit_card' 'other' 'major_purchase'\n",
      " 'home_improvement' 'small_business' 'medical' 'vacation' 'moving' 'house'\n",
      " 'renewable_energy' 'wedding']\n",
      "addr_state: ['IL' 'OK' 'AZ' 'CA' 'FL' 'TX' 'PA' 'MA' 'NC' 'NV' 'SC' 'GA' 'NY' 'OR'\n",
      " 'AL' 'VT' 'MD' 'KY' 'CO' 'IN' 'LA' 'MN' 'MI' 'WA' 'NJ' 'VA' 'WI' 'OH'\n",
      " 'TN' 'CT' 'DC' 'HI' 'MO' 'DE' 'AR' 'KS' 'ME' 'MS' 'NM' 'AK' 'UT' 'WV'\n",
      " 'MT' 'NH' 'SD' 'ID' 'NE' 'WY' 'ND' 'RI']\n",
      "initial_list_status: ['w' 'f']\n",
      "application_type: ['Individual' 'Joint App']\n",
      "hardship_flag: ['N' 'Y']\n",
      "disbursement_method: ['Cash' 'DirectPay']\n",
      "debt_settlement_flag: ['N' 'Y']\n",
      "grade: ['A' 'E' 'D' 'C' 'B' 'G' 'F']\n"
     ]
    }
   ],
   "execution_count": 408
  },
  {
   "metadata": {
    "ExecuteTime": {
     "end_time": "2024-04-11T14:51:14.715498Z",
     "start_time": "2024-04-11T14:51:14.702372Z"
    }
   },
   "cell_type": "code",
   "source": [
    "y = train_data[('grade')] \n",
    "X = train_data.drop('grade', axis=1)  # Features\n",
    "\n",
    "\n",
    "X_train, X_test, y_train, y_test = train_test_split(X, y, test_size=0.2, random_state=42)\n",
    "# y_comp = competition_data['grade']  # Target variable does not exist for competition data\n",
    "X_comp = competition_data\n",
    "print(X_train.dtypes)"
   ],
   "id": "4b9751f102363a57",
   "outputs": [
    {
     "name": "stdout",
     "output_type": "stream",
     "text": [
      "loan_amnt                   float64\n",
      "funded_amnt                 float64\n",
      "funded_amnt_inv             float64\n",
      "term                         object\n",
      "int_rate                    float64\n",
      "                             ...   \n",
      "earliest_cr_line_year         int64\n",
      "last_pymnt_d_month            int64\n",
      "last_pymnt_d_year             int64\n",
      "last_credit_pull_d_month      int64\n",
      "last_credit_pull_d_year       int64\n",
      "Length: 90, dtype: object\n"
     ]
    }
   ],
   "execution_count": 409
  },
  {
   "metadata": {
    "ExecuteTime": {
     "end_time": "2024-04-11T14:51:14.733212Z",
     "start_time": "2024-04-11T14:51:14.716207Z"
    }
   },
   "cell_type": "code",
   "source": [
    "print(\"null values in train data: \"+ str(X_train.isnull().sum().sum()))\n",
    "print(\"null values in test data: \"+ str(X_test.isnull().sum().sum()))\n",
    "print(\"null values in competition data: \"+ str(X_comp.isnull().sum().sum()))"
   ],
   "id": "bb140b50a65b94d9",
   "outputs": [
    {
     "name": "stdout",
     "output_type": "stream",
     "text": [
      "null values in train data: 0\n",
      "null values in test data: 0\n",
      "null values in competition data: 1\n"
     ]
    }
   ],
   "execution_count": 410
  },
  {
   "metadata": {
    "ExecuteTime": {
     "end_time": "2024-04-11T14:51:14.990746Z",
     "start_time": "2024-04-11T14:51:14.734189Z"
    }
   },
   "cell_type": "code",
   "source": [
    "imputer = SimpleImputer(strategy='most_frequent', missing_values=pd.NA)\n",
    "\n",
    "imputer.fit(X_train)\n",
    "\n",
    "original_dtypes = X_train.dtypes\n",
    "X_train_np = imputer.transform(X_train)\n",
    "X_train = pd.DataFrame(X_train_np, index=X_train.index, columns=X_train.columns)\n",
    "X_train = X_train.astype(original_dtypes)\n",
    "\n",
    "\n",
    "X_test_np = imputer.transform(X_test)\n",
    "X_test = pd.DataFrame(X_test_np, index=X_test.index, columns=X_test.columns)\n",
    "X_test = X_test.astype(original_dtypes)\n",
    "\n",
    "X_comp_np = imputer.transform(X_comp)\n",
    "X_comp = pd.DataFrame(X_comp_np, index=X_comp.index, columns=X_comp.columns)\n",
    "X_comp = X_comp.astype(original_dtypes)"
   ],
   "id": "57d03ba34dcc29bf",
   "outputs": [],
   "execution_count": 411
  },
  {
   "metadata": {
    "ExecuteTime": {
     "end_time": "2024-04-11T14:51:15.006528Z",
     "start_time": "2024-04-11T14:51:14.991348Z"
    }
   },
   "cell_type": "code",
   "source": [
    "print(\"null values in train data: \"+ str(X_train.isnull().sum().sum()))\n",
    "print(\"null values in test data: \"+ str(X_test.isnull().sum().sum()))\n",
    "print(\"null values in competition data: \"+ str(X_comp.isnull().sum().sum()))"
   ],
   "id": "710f78b718fd850d",
   "outputs": [
    {
     "name": "stdout",
     "output_type": "stream",
     "text": [
      "null values in train data: 0\n",
      "null values in test data: 0\n",
      "null values in competition data: 0\n"
     ]
    }
   ],
   "execution_count": 412
  },
  {
   "metadata": {
    "ExecuteTime": {
     "end_time": "2024-04-11T14:51:15.016603Z",
     "start_time": "2024-04-11T14:51:15.007095Z"
    }
   },
   "cell_type": "code",
   "source": [
    "# find all numerical columns in X_train\n",
    "numerical_columns = X_train.select_dtypes(include=\"number\").columns\n",
    "# convert numerical columns to list\n",
    "numerical_columns = numerical_columns.tolist()\n",
    "numerical_columns"
   ],
   "id": "f12b3c30dcea32e9",
   "outputs": [
    {
     "data": {
      "text/plain": [
       "['loan_amnt',\n",
       " 'funded_amnt',\n",
       " 'funded_amnt_inv',\n",
       " 'int_rate',\n",
       " 'installment',\n",
       " 'annual_inc',\n",
       " 'dti',\n",
       " 'delinq_2yrs',\n",
       " 'fico_range_low',\n",
       " 'fico_range_high',\n",
       " 'inq_last_6mths',\n",
       " 'open_acc',\n",
       " 'pub_rec',\n",
       " 'revol_bal',\n",
       " 'revol_util',\n",
       " 'total_acc',\n",
       " 'out_prncp',\n",
       " 'out_prncp_inv',\n",
       " 'total_pymnt',\n",
       " 'total_pymnt_inv',\n",
       " 'total_rec_prncp',\n",
       " 'total_rec_int',\n",
       " 'total_rec_late_fee',\n",
       " 'recoveries',\n",
       " 'collection_recovery_fee',\n",
       " 'last_pymnt_amnt',\n",
       " 'last_fico_range_high',\n",
       " 'last_fico_range_low',\n",
       " 'collections_12_mths_ex_med',\n",
       " 'policy_code',\n",
       " 'acc_now_delinq',\n",
       " 'tot_coll_amt',\n",
       " 'tot_cur_bal',\n",
       " 'total_rev_hi_lim',\n",
       " 'acc_open_past_24mths',\n",
       " 'avg_cur_bal',\n",
       " 'bc_open_to_buy',\n",
       " 'bc_util',\n",
       " 'chargeoff_within_12_mths',\n",
       " 'delinq_amnt',\n",
       " 'mo_sin_old_il_acct',\n",
       " 'mo_sin_old_rev_tl_op',\n",
       " 'mo_sin_rcnt_rev_tl_op',\n",
       " 'mo_sin_rcnt_tl',\n",
       " 'mort_acc',\n",
       " 'mths_since_recent_bc',\n",
       " 'mths_since_recent_inq',\n",
       " 'num_accts_ever_120_pd',\n",
       " 'num_actv_bc_tl',\n",
       " 'num_actv_rev_tl',\n",
       " 'num_bc_sats',\n",
       " 'num_bc_tl',\n",
       " 'num_il_tl',\n",
       " 'num_op_rev_tl',\n",
       " 'num_rev_accts',\n",
       " 'num_rev_tl_bal_gt_0',\n",
       " 'num_sats',\n",
       " 'num_tl_120dpd_2m',\n",
       " 'num_tl_30dpd',\n",
       " 'num_tl_90g_dpd_24m',\n",
       " 'num_tl_op_past_12m',\n",
       " 'pct_tl_nvr_dlq',\n",
       " 'percent_bc_gt_75',\n",
       " 'pub_rec_bankruptcies',\n",
       " 'tax_liens',\n",
       " 'tot_hi_cred_lim',\n",
       " 'total_bal_ex_mort',\n",
       " 'total_bc_limit',\n",
       " 'total_il_high_credit_limit',\n",
       " 'issue_d_month',\n",
       " 'issue_d_year',\n",
       " 'earliest_cr_line_month',\n",
       " 'earliest_cr_line_year',\n",
       " 'last_pymnt_d_month',\n",
       " 'last_pymnt_d_year',\n",
       " 'last_credit_pull_d_month',\n",
       " 'last_credit_pull_d_year']"
      ]
     },
     "execution_count": 413,
     "metadata": {},
     "output_type": "execute_result"
    }
   ],
   "execution_count": 413
  },
  {
   "metadata": {
    "ExecuteTime": {
     "end_time": "2024-04-11T14:51:15.031555Z",
     "start_time": "2024-04-11T14:51:15.017150Z"
    }
   },
   "cell_type": "code",
   "source": [
    "feature_mappings = {\n",
    "    'term': [' 36 months', ' 60 months'],\n",
    "    'emp_length': ['< 1 year', '1 year', '2 years', '3 years', '4 years', '5 years', '6 years', '7 years', '8 years', '9 years', '10+ years']\n",
    "}\n",
    "\n",
    "ordinal_columns = [col for col in X_train.columns if col in feature_mappings.keys()]\n",
    "ordinal_categories = [feature_mappings[col] for col in ordinal_columns]\n",
    "ordinal_columns"
   ],
   "id": "9d28939858242c07",
   "outputs": [
    {
     "data": {
      "text/plain": [
       "['term', 'emp_length']"
      ]
     },
     "execution_count": 414,
     "metadata": {},
     "output_type": "execute_result"
    }
   ],
   "execution_count": 414
  },
  {
   "metadata": {
    "ExecuteTime": {
     "end_time": "2024-04-11T14:51:15.051695Z",
     "start_time": "2024-04-11T14:51:15.032436Z"
    }
   },
   "cell_type": "code",
   "source": [
    "categorical_columns = [col for col in X_train.columns if col not in ordinal_columns and col not in numerical_columns] \n",
    "\n",
    "one_hot_encoding_limit = 10\n",
    "one_hot_columns = [col for col in categorical_columns if X_train[col].nunique() <= one_hot_encoding_limit]\n",
    "\n",
    "label_columns = [col for col in categorical_columns if col not in one_hot_columns]\n"
   ],
   "id": "18c17154e432b3c8",
   "outputs": [],
   "execution_count": 415
  },
  {
   "metadata": {
    "ExecuteTime": {
     "end_time": "2024-04-11T14:51:15.053838Z",
     "start_time": "2024-04-11T14:51:15.052426Z"
    }
   },
   "cell_type": "code",
   "source": "",
   "id": "d115c77b57711a89",
   "outputs": [],
   "execution_count": 415
  },
  {
   "metadata": {
    "ExecuteTime": {
     "end_time": "2024-04-11T14:51:15.066531Z",
     "start_time": "2024-04-11T14:51:15.054486Z"
    }
   },
   "cell_type": "code",
   "source": [
    "preprocessor = ColumnTransformer([\n",
    "    ('ordinal', OrdinalEncoder(categories=ordinal_categories), ordinal_columns),\n",
    "    ('categorical', OneHotEncoder(handle_unknown=\"ignore\"), one_hot_columns),\n",
    "    ('label', OrdinalEncoder(), label_columns)\n",
    "],\n",
    "    remainder='passthrough'  # passthrough columns not listed in any pipeline\n",
    ")"
   ],
   "id": "afe74b01048a64cd",
   "outputs": [],
   "execution_count": 416
  },
  {
   "cell_type": "code",
   "source": [
    "pipeline = Pipeline([\n",
    "    ('preprocessor', preprocessor),\n",
    "    ('scaler', StandardScaler())\n",
    "])\n",
    "\n",
    "# Preprocess training data\n",
    "X_train = pipeline.fit_transform(X_train)\n",
    "X_test = pipeline.transform(X_test)\n",
    "X_comp = pipeline.transform(X_comp)"
   ],
   "metadata": {
    "collapsed": false,
    "ExecuteTime": {
     "end_time": "2024-04-11T14:51:15.779299Z",
     "start_time": "2024-04-11T14:51:15.720988Z"
    }
   },
   "id": "29351d879697e059",
   "outputs": [],
   "execution_count": 417
  },
  {
   "metadata": {
    "ExecuteTime": {
     "end_time": "2024-04-11T14:51:16.332787Z",
     "start_time": "2024-04-11T14:51:16.329880Z"
    }
   },
   "cell_type": "code",
   "source": [
    "# Encode target variable\n",
    "label_encoder = LabelEncoder()\n",
    "y_train = label_encoder.fit_transform(y_train)\n",
    "y_test = label_encoder.transform(y_test)"
   ],
   "id": "21f6a56c73ff509f",
   "outputs": [],
   "execution_count": 418
  },
  {
   "cell_type": "code",
   "source": "",
   "metadata": {
    "collapsed": false
   },
   "id": "b79f00aa6be6bada",
   "outputs": [],
   "execution_count": null
  },
  {
   "cell_type": "markdown",
   "source": [
    "# Neural Network"
   ],
   "metadata": {
    "collapsed": false
   },
   "id": "2282d71d56406c67"
  },
  {
   "cell_type": "code",
   "source": [
    "clf = MLPClassifier(solver='adam', activation='relu', alpha=1e-5, hidden_layer_sizes=(28, 28, 28,), random_state=69, max_iter=2000, verbose=True, tol=1e-4)\n",
    "\n",
    "# Here we use 5-fold cross-validation\n",
    "cv_scores = cross_val_score(clf, X_train, y_train, cv=4)\n",
    "\n",
    "print(\"Cross-validation scores:\", cv_scores)\n",
    "print(\"Mean cross-validation score:\", cv_scores.mean())\n",
    "\n",
    "clf.fit(X_train, y_train)"
   ],
   "metadata": {
    "collapsed": false
   },
   "id": "3fa7e79fef5e07eb",
   "outputs": [],
   "execution_count": null
  },
  {
   "metadata": {
    "ExecuteTime": {
     "end_time": "2024-04-11T14:52:58.175419Z",
     "start_time": "2024-04-11T14:52:45.140626Z"
    }
   },
   "cell_type": "code",
   "source": [
    "from sklearn.metrics import accuracy_score, f1_score\n",
    "\n",
    "clf = MLPClassifier(solver='adam', activation='tanh', alpha=1e-5, hidden_layer_sizes=(82, 82, 82, 41, 20), random_state=69, max_iter=1000, verbose=True)\n",
    "clf.fit(X_train, y_train)\n",
    "\n",
    "y_pred = clf.predict(X_test)\n",
    "\n",
    "# Evaluate the model\n",
    "accuracy = accuracy_score(y_test, y_pred)\n",
    "print(\"Accuracy:\", accuracy)\n",
    "\n",
    "f1 = f1_score(y_test, y_pred, average='weighted')\n",
    "print(\"F1 Score:\", f1)"
   ],
   "id": "7371d2e38a13faa3",
   "outputs": [
    {
     "name": "stdout",
     "output_type": "stream",
     "text": [
      "Iteration 1, loss = 1.39812485\n",
      "Iteration 2, loss = 0.87581696\n",
      "Iteration 3, loss = 0.61340219\n",
      "Iteration 4, loss = 0.48953635\n",
      "Iteration 5, loss = 0.41529986\n",
      "Iteration 6, loss = 0.37186995\n",
      "Iteration 7, loss = 0.33035869\n",
      "Iteration 8, loss = 0.30002630\n",
      "Iteration 9, loss = 0.28551984\n",
      "Iteration 10, loss = 0.25626617\n",
      "Iteration 11, loss = 0.23605300\n",
      "Iteration 12, loss = 0.22037542\n",
      "Iteration 13, loss = 0.19648267\n",
      "Iteration 14, loss = 0.18064842\n",
      "Iteration 15, loss = 0.17339789\n",
      "Iteration 16, loss = 0.15622064\n",
      "Iteration 17, loss = 0.13709980\n",
      "Iteration 18, loss = 0.12925479\n",
      "Iteration 19, loss = 0.12897187\n",
      "Iteration 20, loss = 0.10731117\n",
      "Iteration 21, loss = 0.11207149\n",
      "Iteration 22, loss = 0.10500144\n",
      "Iteration 23, loss = 0.10384489\n",
      "Iteration 24, loss = 0.09651901\n",
      "Iteration 25, loss = 0.08541802\n",
      "Iteration 26, loss = 0.07292397\n",
      "Iteration 27, loss = 0.08096710\n",
      "Iteration 28, loss = 0.06830596\n",
      "Iteration 29, loss = 0.09051802\n",
      "Iteration 30, loss = 0.07863376\n",
      "Iteration 31, loss = 0.06184478\n",
      "Iteration 32, loss = 0.05957287\n",
      "Iteration 33, loss = 0.05908720\n",
      "Iteration 34, loss = 0.04801996\n",
      "Iteration 35, loss = 0.04330520\n",
      "Iteration 36, loss = 0.04289416\n",
      "Iteration 37, loss = 0.03663730\n",
      "Iteration 38, loss = 0.03385544\n",
      "Iteration 39, loss = 0.03862685\n",
      "Iteration 40, loss = 0.03613783\n",
      "Iteration 41, loss = 0.05544921\n",
      "Iteration 42, loss = 0.10497392\n",
      "Iteration 43, loss = 0.09531165\n",
      "Iteration 44, loss = 0.04873376\n",
      "Iteration 45, loss = 0.04367758\n",
      "Iteration 46, loss = 0.03535902\n",
      "Iteration 47, loss = 0.02768847\n",
      "Iteration 48, loss = 0.02695789\n",
      "Iteration 49, loss = 0.02397200\n",
      "Iteration 50, loss = 0.02244176\n",
      "Iteration 51, loss = 0.02176704\n",
      "Iteration 52, loss = 0.02159404\n",
      "Iteration 53, loss = 0.02124415\n",
      "Iteration 54, loss = 0.02347374\n",
      "Iteration 55, loss = 0.02126241\n",
      "Iteration 56, loss = 0.02193331\n",
      "Iteration 57, loss = 0.02171823\n",
      "Iteration 58, loss = 0.02246756\n",
      "Iteration 59, loss = 0.02384852\n",
      "Iteration 60, loss = 0.02515877\n",
      "Iteration 61, loss = 0.04661963\n",
      "Iteration 62, loss = 0.10107641\n",
      "Iteration 63, loss = 0.07620315\n",
      "Iteration 64, loss = 0.06328076\n",
      "Training loss did not improve more than tol=0.000100 for 10 consecutive epochs. Stopping.\n",
      "Accuracy: 0.864\n",
      "F1 Score: 0.8617182618999334\n"
     ]
    }
   ],
   "execution_count": 423
  },
  {
   "metadata": {
    "ExecuteTime": {
     "end_time": "2024-04-11T14:54:52.085496Z",
     "start_time": "2024-04-11T14:54:51.010673Z"
    }
   },
   "cell_type": "code",
   "source": [
    "from sklearn.ensemble import RandomForestClassifier\n",
    "\n",
    "rf_classifier = RandomForestClassifier(n_estimators=50, random_state=42)\n",
    "\n",
    "rf_classifier.fit(X_train, y_train)\n",
    "y_pred = rf_classifier.predict(X_test)\n",
    "\n",
    "accuracy = accuracy_score(y_test, y_pred)\n",
    "print(\"Accuracy:\", accuracy)"
   ],
   "id": "a9cd951928287bb7",
   "outputs": [
    {
     "name": "stdout",
     "output_type": "stream",
     "text": [
      "Accuracy: 0.827\n"
     ]
    }
   ],
   "execution_count": 425
  },
  {
   "metadata": {},
   "cell_type": "code",
   "outputs": [],
   "execution_count": null,
   "source": "",
   "id": "fb0a92b13cb96a81"
  }
 ],
 "metadata": {
  "kernelspec": {
   "display_name": "Python 3",
   "language": "python",
   "name": "python3"
  },
  "language_info": {
   "codemirror_mode": {
    "name": "ipython",
    "version": 2
   },
   "file_extension": ".py",
   "mimetype": "text/x-python",
   "name": "python",
   "nbconvert_exporter": "python",
   "pygments_lexer": "ipython2",
   "version": "2.7.6"
  }
 },
 "nbformat": 4,
 "nbformat_minor": 5
}
