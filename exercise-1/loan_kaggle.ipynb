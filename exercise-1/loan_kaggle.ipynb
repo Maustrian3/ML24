{
 "cells": [
  {
   "cell_type": "code",
   "execution_count": 17,
   "id": "initial_id",
   "metadata": {
    "collapsed": true,
    "ExecuteTime": {
     "end_time": "2024-04-04T15:59:01.949308200Z",
     "start_time": "2024-04-04T15:59:01.935289800Z"
    }
   },
   "outputs": [],
   "source": [
    "from scipy.io import arff\n",
    "import pandas as pd\n",
    "import matplotlib.pyplot as plt\n",
    "import numpy as np\n",
    "\n",
    "from sklearn.preprocessing import LabelEncoder \n",
    "from sklearn.preprocessing import OrdinalEncoder\n",
    "from sklearn.preprocessing import OneHotEncoder\n"
   ]
  },
  {
   "cell_type": "markdown",
   "source": [
    "## Basic Data Exploration"
   ],
   "metadata": {
    "collapsed": false
   },
   "id": "b51a41ad6403f362"
  },
  {
   "cell_type": "code",
   "outputs": [
    {
     "name": "stdout",
     "output_type": "stream",
     "text": [
      "Features with missing values:\n",
      "Series([], dtype: int64)\n",
      "                      Features  Num_Unique_Values  \\\n",
      "12                 policy_code                  1   \n",
      "0                         term                  2   \n",
      "13            application_type                  2   \n",
      "10         initial_list_status                  2   \n",
      "30         disbursement_method                  2   \n",
      "31        debt_settlement_flag                  2   \n",
      "29               hardship_flag                  2   \n",
      "5                   pymnt_plan                  2   \n",
      "23            num_tl_120dpd_2m                  2   \n",
      "3          verification_status                  3   \n",
      "14              acc_now_delinq                  3   \n",
      "24                num_tl_30dpd                  3   \n",
      "16    chargeoff_within_12_mths                  4   \n",
      "11  collections_12_mths_ex_med                  4   \n",
      "2               home_ownership                  5   \n",
      "4                  loan_status                  6   \n",
      "27        pub_rec_bankruptcies                  7   \n",
      "33                issue_d_year                  7   \n",
      "39                       grade                  7   \n",
      "8               inq_last_6mths                  7   \n",
      "36           last_pymnt_d_year                  8   \n",
      "28                   tax_liens                  8   \n",
      "9                      pub_rec                  8   \n",
      "38     last_credit_pull_d_year                  8   \n",
      "25          num_tl_90g_dpd_24m                 11   \n",
      "1                   emp_length                 11   \n",
      "32               issue_d_month                 12   \n",
      "34      earliest_cr_line_month                 12   \n",
      "35          last_pymnt_d_month                 12   \n",
      "37    last_credit_pull_d_month                 12   \n",
      "6                      purpose                 13   \n",
      "7                  delinq_2yrs                 15   \n",
      "18                    mort_acc                 17   \n",
      "26          num_tl_op_past_12m                 18   \n",
      "21              num_actv_bc_tl                 22   \n",
      "20       num_accts_ever_120_pd                 22   \n",
      "19       mths_since_recent_inq                 25   \n",
      "15        acc_open_past_24mths                 27   \n",
      "22                 num_bc_sats                 28   \n",
      "17                 delinq_amnt                 29   \n",
      "\n",
      "                                        Unique_Values  \n",
      "12                                              [1.0]  \n",
      "0                            [ 36 months,  60 months]  \n",
      "13                            [Individual, Joint App]  \n",
      "10                                             [w, f]  \n",
      "30                                  [Cash, DirectPay]  \n",
      "31                                             [N, Y]  \n",
      "29                                             [N, Y]  \n",
      "5                                              [n, y]  \n",
      "23                                         [0.0, 1.0]  \n",
      "3           [Not Verified, Source Verified, Verified]  \n",
      "14                                    [0.0, 1.0, 2.0]  \n",
      "24                                    [0.0, 1.0, 2.0]  \n",
      "16                               [0.0, 2.0, 1.0, 3.0]  \n",
      "11                               [0.0, 1.0, 2.0, 3.0]  \n",
      "2                   [MORTGAGE, RENT, OWN, ANY, OTHER]  \n",
      "4   [Current, Fully Paid, Charged Off, Late (31-12...  \n",
      "27                [0.0, 1.0, 2.0, 3.0, 7.0, 4.0, 6.0]  \n",
      "33         [2018, 2015, 2017, 2016, 2014, 2013, 2012]  \n",
      "39                              [A, E, D, C, B, G, F]  \n",
      "8                 [1.0, 0.0, 3.0, 2.0, 5.0, 4.0, 6.0]  \n",
      "36   [2019, 2018, 2016, 2017, 2014, 2015, 2013, 2012]  \n",
      "28           [0.0, 1.0, 2.0, 3.0, 4.0, 5.0, 6.0, 7.0]  \n",
      "9            [0.0, 1.0, 2.0, 3.0, 4.0, 5.0, 6.0, 7.0]  \n",
      "38   [2019, 2018, 2017, 2016, 2014, 2015, 2013, 2012]  \n",
      "25  [0.0, 1.0, 2.0, 3.0, 6.0, 4.0, 5.0, 8.0, 10.0,...  \n",
      "1   [< 1 year, 1 year, 9 years, 10+ years, 3 years...  \n",
      "32             [6, 10, 9, 0, 11, 4, 3, 5, 1, 7, 8, 2]  \n",
      "34             [6, 9, 10, 0, 11, 7, 3, 4, 1, 8, 5, 2]  \n",
      "35             [2, 1, 6, 3, 7, 10, 4, 5, 0, 11, 8, 9]  \n",
      "37             [2, 11, 9, 3, 0, 7, 1, 4, 10, 6, 5, 8]  \n",
      "6   [debt_consolidation, car, credit_card, other, ...  \n",
      "7   [0.0, 1.0, 2.0, 5.0, 3.0, 4.0, 8.0, 6.0, 16.0,...  \n",
      "18  [1.0, 5.0, 0.0, 2.0, 3.0, 4.0, 7.0, 8.0, 6.0, ...  \n",
      "26  [3.0, 2.0, 1.0, 0.0, 4.0, 7.0, 10.0, 5.0, 6.0,...  \n",
      "21  [11.0, 4.0, 3.0, 10.0, 6.0, 1.0, 2.0, 5.0, 7.0...  \n",
      "20  [1.0, 0.0, 2.0, 7.0, 3.0, 10.0, 4.0, 8.0, 9.0,...  \n",
      "19  [3.0, 4.0, 0.0, 5.0, 8.0, 11.0, 7.0, 10.0, 1.0...  \n",
      "15  [12.0, 4.0, 6.0, 9.0, 1.0, 5.0, 2.0, 3.0, 7.0,...  \n",
      "22  [12.0, 5.0, 4.0, 11.0, 6.0, 1.0, 2.0, 9.0, 3.0...  \n",
      "17  [0.0, 1838.0, 15765.0, 1820.0, 25.0, 568.0, 60...  \n"
     ]
    }
   ],
   "source": [
    "data = pd.read_csv('./datasets_kaggle/loan-10k/loan-10k.lrn.csv')\n",
    "\n",
    "# Display the first few rows of the dataset\n",
    "# print(data.head())\n",
    "\n",
    "# Check for missing values\n",
    "missing_values = data.isnull().sum()\n",
    "# Filter out features with missing values\n",
    "missing_features = missing_values[missing_values > 0]\n",
    "print(\"Features with missing values:\")\n",
    "print(missing_features)\n",
    "\n",
    "# Check for distinct values\n",
    "features_info = []\n",
    "\n",
    "for column in data.columns:\n",
    "    unique_values = data[column].unique()  # Get the unique values in the column\n",
    "    num_unique_values = len(unique_values)  # Count the number of unique values\n",
    "    if num_unique_values < 30:\n",
    "        features_info.append({'Features': column,\n",
    "                              'Num_Unique_Values': num_unique_values,\n",
    "                              'Unique_Values': unique_values})\n",
    "\n",
    "# Convert the list into a DataFrame\n",
    "features_info_df = pd.DataFrame(features_info)\n",
    "\n",
    "# Sort the DataFrame by 'Num_Unique_Values' in ascending order\n",
    "features_info_df = features_info_df.sort_values(by='Num_Unique_Values')\n",
    "\n",
    "features_info_df.to_csv('features_unique_val.csv', index=False)\n",
    "\n",
    "# Print the DataFrame\n",
    "print(features_info_df)\n"
   ],
   "metadata": {
    "collapsed": false,
    "ExecuteTime": {
     "end_time": "2024-04-04T15:59:04.751306700Z",
     "start_time": "2024-04-04T15:59:04.602312300Z"
    }
   },
   "id": "98f0f59140edc37a",
   "execution_count": 18
  },
  {
   "cell_type": "markdown",
   "source": [
    "## Preprocessing"
   ],
   "metadata": {
    "collapsed": false
   },
   "id": "726feda33051b041"
  },
  {
   "cell_type": "code",
   "outputs": [],
   "source": [
    "#Label encode specific features\n",
    "\n",
    "feature_mappings = {\n",
    "    'term': {'36 months': 0, '60 months': 1},\n",
    "    'application_type': {'Individual': 0, 'Joint App': 1},\n",
    "    'verification_status': {'Not Verified': 0, 'Verified': 1, 'Source Verified': 2},\n",
    "    'home_ownership': {'RENT': 0, 'MORTGAGE': 1, 'OTHER': 2, 'ANY': 3, 'OWN': 4},\n",
    "    'loan_status': {'Current': 5, 'Fully Paid': 4, 'Charged Off': 3, 'Late (31-120 days)': 2, 'In Grace Period': 1, 'Late (16-30 days)': 0},\n",
    "    'grade': {'A': 6, 'E': 5, 'D': 4, 'C': 3, 'B': 2, 'G': 1, 'F': 0},\n",
    "    'emp_length': {'10+ years': 10, '< 1 year': 0, '1 year': 1, '2 years': 2, '3 years': 3, '4 years': 4, '5 years': 5, '6 years': 6, '7 years': 7, '8 years': 8, '9 years': 9},\n",
    "}\n",
    "\n",
    "one_hot_encoding_limit = 10\n",
    "\n",
    "label_encoder = LabelEncoder()\n",
    "ordinal_encoder = OrdinalEncoder()\n",
    "one_hot_encoder = OneHotEncoder()\n",
    "\n",
    "for feature in data.columns:\n",
    "    if data[feature].dtype == 'object':  # Check if the feature contains categorical data\n",
    "        unique_values = data[feature].nunique()  # Count the number of unique values in the feature\n",
    "\n",
    "        # Drop any feature which only has 1 distinct value (adds no information)\n",
    "        if unique_values == 1:\n",
    "            data.drop(feature)\n",
    "            continue\n",
    "\n",
    "        # If feature mapping is defined, use ordinal encoder\n",
    "        if feature in feature_mappings:\n",
    "            mapping = feature_mappings[feature]\n",
    "            # data[feature] = ordinal_encoder(categories=[sorted(mapping.keys())], dtype=int)\n",
    "            data[feature] = data[feature].map(mapping)\n",
    "        else: \n",
    "            if unique_values <= one_hot_encoding_limit:\n",
    "                encoded_features = one_hot_encoder.fit_transform(data[[feature]])\n",
    "                encoded_features_df = pd.DataFrame(encoded_features.toarray(), columns=one_hot_encoder.get_feature_names_out([feature]))\n",
    "                data = pd.concat([data, encoded_features_df], axis=1)\n",
    "                data.drop([feature], axis=1, inplace=True)\n",
    "            else:\n",
    "                data[feature] = label_encoder.fit_transform(data[feature])\n",
    "\n",
    "data.to_csv('encoded_data.csv', index=False)"
   ],
   "metadata": {
    "collapsed": false,
    "ExecuteTime": {
     "end_time": "2024-04-04T16:03:47.987083200Z",
     "start_time": "2024-04-04T16:03:47.492084600Z"
    }
   },
   "id": "2d8b0c5c457cb321",
   "execution_count": 21
  },
  {
   "cell_type": "code",
   "outputs": [],
   "source": [],
   "metadata": {
    "collapsed": false
   },
   "id": "e5a0dec8c3f37f17"
  }
 ],
 "metadata": {
  "kernelspec": {
   "display_name": "Python 3",
   "language": "python",
   "name": "python3"
  },
  "language_info": {
   "codemirror_mode": {
    "name": "ipython",
    "version": 2
   },
   "file_extension": ".py",
   "mimetype": "text/x-python",
   "name": "python",
   "nbconvert_exporter": "python",
   "pygments_lexer": "ipython2",
   "version": "2.7.6"
  }
 },
 "nbformat": 4,
 "nbformat_minor": 5
}
