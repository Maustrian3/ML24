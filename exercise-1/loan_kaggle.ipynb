{
 "cells": [
  {
   "cell_type": "code",
   "execution_count": 13,
   "id": "initial_id",
   "metadata": {
    "collapsed": true,
    "ExecuteTime": {
     "end_time": "2024-04-04T14:10:30.607153800Z",
     "start_time": "2024-04-04T14:10:27.662061400Z"
    }
   },
   "outputs": [],
   "source": [
    "from scipy.io import arff\n",
    "import pandas as pd\n",
    "import matplotlib.pyplot as plt\n",
    "import numpy as np\n",
    "\n",
    "from sklearn.preprocessing import LabelEncoder\n"
   ]
  },
  {
   "cell_type": "markdown",
   "source": [
    "## Basic Data Exploration"
   ],
   "metadata": {
    "collapsed": false
   },
   "id": "b51a41ad6403f362"
  },
  {
   "cell_type": "code",
   "outputs": [
    {
     "name": "stdout",
     "output_type": "stream",
     "text": [
      "Columns with missing values:\n",
      "Series([], dtype: int64)\n",
      "                  Column  Num_Unique_Values\n",
      "21           policy_code                  1\n",
      "0                   term                  2\n",
      "22      application_type                  2\n",
      "43      num_tl_120dpd_2m                  2\n",
      "16   initial_list_status                  2\n",
      "..                   ...                ...\n",
      "31  mths_since_recent_bc                197\n",
      "47        pct_tl_nvr_dlq                291\n",
      "17    total_rec_late_fee                299\n",
      "27    mo_sin_old_il_acct                326\n",
      "1               int_rate                338\n",
      "\n",
      "[63 rows x 2 columns]\n"
     ]
    }
   ],
   "source": [
    "data = pd.read_csv('./datasets_kaggle/loan-10k/loan-10k.lrn.csv')\n",
    "\n",
    "# Display the first few rows of the dataset\n",
    "# print(data.head())\n",
    "\n",
    "# Check for missing values\n",
    "missing_values = data.isnull().sum()\n",
    "# Filter out columns with missing values\n",
    "missing_columns = missing_values[missing_values > 0]\n",
    "print(\"Columns with missing values:\")\n",
    "print(missing_columns)\n",
    "\n",
    "# Check for distinct values\n",
    "columns_info = []\n",
    "\n",
    "# Iterate over each column\n",
    "for column in data.columns:\n",
    "    num_unique_values = data[column].nunique()  # Count the number of unique values in the column\n",
    "    if num_unique_values < 500:\n",
    "        columns_info.append((column, num_unique_values))\n",
    "\n",
    "columns_info_df = pd.DataFrame(columns_info, columns=['Column', 'Num_Unique_Values'])\n",
    "\n",
    "# Sort the DataFrame by 'Num_Unique_Values' in ascending order\n",
    "columns_info_df = columns_info_df.sort_values(by='Num_Unique_Values')\n",
    "\n",
    "# Print the list\n",
    "print(columns_info_df)\n"
   ],
   "metadata": {
    "collapsed": false,
    "ExecuteTime": {
     "end_time": "2024-04-04T14:21:42.306045300Z",
     "start_time": "2024-04-04T14:21:42.162045600Z"
    }
   },
   "id": "98f0f59140edc37a",
   "execution_count": 23
  },
  {
   "cell_type": "markdown",
   "source": [
    "## Preprocessing"
   ],
   "metadata": {
    "collapsed": false
   },
   "id": "726feda33051b041"
  },
  {
   "cell_type": "code",
   "outputs": [
    {
     "name": "stdout",
     "output_type": "stream",
     "text": [
      "      ID  loan_amnt  funded_amnt  funded_amnt_inv  term  int_rate  \\\n",
      "0  24341    12500.0      12500.0          12500.0     0      7.21   \n",
      "1  67534    33850.0      33850.0          33775.0     1     20.99   \n",
      "2  35080    10000.0      10000.0          10000.0     1     20.00   \n",
      "3   4828    20250.0      20250.0          20250.0     0     14.31   \n",
      "4  59259    25000.0      25000.0          25000.0     0     14.99   \n",
      "\n",
      "   installment emp_length home_ownership  annual_inc  ...  \\\n",
      "0       387.17   < 1 year       MORTGAGE     81000.0  ...   \n",
      "1       915.57     1 year       MORTGAGE     80000.0  ...   \n",
      "2       264.94   < 1 year           RENT     36580.0  ...   \n",
      "3       695.15    9 years           RENT     48700.0  ...   \n",
      "4       866.52     1 year       MORTGAGE     85000.0  ...   \n",
      "\n",
      "  debt_settlement_flag issue_d_month  issue_d_year earliest_cr_line_month  \\\n",
      "0                    0             6          2018                      6   \n",
      "1                    0            10          2015                      9   \n",
      "2                    0             9          2017                     10   \n",
      "3                    0             0          2015                      6   \n",
      "4                    0            11          2016                      0   \n",
      "\n",
      "  earliest_cr_line_year  last_pymnt_d_month  last_pymnt_d_year  \\\n",
      "0                  2000                   2               2019   \n",
      "1                  1984                   2               2019   \n",
      "2                  2006                   1               2018   \n",
      "3                  1996                   6               2016   \n",
      "4                  2002                   2               2019   \n",
      "\n",
      "   last_credit_pull_d_month  last_credit_pull_d_year  grade  \n",
      "0                         2                     2019      A  \n",
      "1                         2                     2019      E  \n",
      "2                        11                     2018      D  \n",
      "3                         9                     2017      C  \n",
      "4                         2                     2019      C  \n",
      "\n",
      "[5 rows x 92 columns]\n"
     ]
    }
   ],
   "source": [
    "# Label encode every column which only has 2 distinct values to 0/1\n",
    "for column in data.columns:\n",
    "    if data[column].dtype == 'object':  # Check if the column contains categorical data\n",
    "        unique_values = data[column].nunique()  # Count the number of unique values in the column\n",
    "        if unique_values == 2:  # If there are only two unique values, convert to binary data\n",
    "            labelEncoder = LabelEncoder()\n",
    "            data[column] = labelEncoder.fit_transform(data[column])\n",
    "\n",
    "print(data.head())"
   ],
   "metadata": {
    "collapsed": false,
    "ExecuteTime": {
     "end_time": "2024-04-04T14:10:32.832195800Z",
     "start_time": "2024-04-04T14:10:32.782198600Z"
    }
   },
   "id": "2d8b0c5c457cb321",
   "execution_count": 14
  },
  {
   "cell_type": "code",
   "outputs": [],
   "source": [],
   "metadata": {
    "collapsed": false
   },
   "id": "e5a0dec8c3f37f17"
  }
 ],
 "metadata": {
  "kernelspec": {
   "display_name": "Python 3",
   "language": "python",
   "name": "python3"
  },
  "language_info": {
   "codemirror_mode": {
    "name": "ipython",
    "version": 2
   },
   "file_extension": ".py",
   "mimetype": "text/x-python",
   "name": "python",
   "nbconvert_exporter": "python",
   "pygments_lexer": "ipython2",
   "version": "2.7.6"
  }
 },
 "nbformat": 4,
 "nbformat_minor": 5
}
