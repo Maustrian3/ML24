{
 "cells": [
  {
   "cell_type": "markdown",
   "source": [
    "# Breast data set"
   ],
   "metadata": {
    "collapsed": false
   },
   "id": "c7fe793ec25015ee"
  },
  {
   "cell_type": "markdown",
   "source": [
    "# Loan data set"
   ],
   "metadata": {
    "collapsed": false
   },
   "id": "be404ce91486b8c5"
  },
  {
   "cell_type": "markdown",
   "source": [
    "# Creddit-g data set"
   ],
   "metadata": {
    "collapsed": false
   },
   "id": "7c0154040122d6e8"
  },
  {
   "cell_type": "markdown",
   "source": [
    "# Seattle crime data set"
   ],
   "metadata": {
    "collapsed": false
   },
   "id": "8aae725b5524fc69"
  }
 ],
 "metadata": {
  "kernelspec": {
   "display_name": "Python 3",
   "language": "python",
   "name": "python3"
  },
  "language_info": {
   "codemirror_mode": {
    "name": "ipython",
    "version": 2
   },
   "file_extension": ".py",
   "mimetype": "text/x-python",
   "name": "python",
   "nbconvert_exporter": "python",
   "pygments_lexer": "ipython2",
   "version": "2.7.6"
  }
 },
 "nbformat": 4,
 "nbformat_minor": 5
}
