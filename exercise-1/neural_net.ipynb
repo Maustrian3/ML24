{
 "cells": [
  {
   "cell_type": "markdown",
   "source": [
    "# Breast data set"
   ],
   "metadata": {
    "collapsed": false
   },
   "id": "d606452ddaa2a030"
  },
  {
   "cell_type": "markdown",
   "source": [
    "# Loan data set"
   ],
   "metadata": {
    "collapsed": false
   },
   "id": "486a915cec075c9"
  },
  {
   "cell_type": "markdown",
   "source": [
    "# Creddit-g data set"
   ],
   "metadata": {
    "collapsed": false
   },
   "id": "34281ee074a860f5"
  },
  {
   "cell_type": "markdown",
   "source": [
    "# Seattle crime data set"
   ],
   "metadata": {
    "collapsed": false
   },
   "id": "e1fadafa7ec243db"
  }
 ],
 "metadata": {
  "kernelspec": {
   "display_name": "Python 3",
   "language": "python",
   "name": "python3"
  },
  "language_info": {
   "codemirror_mode": {
    "name": "ipython",
    "version": 2
   },
   "file_extension": ".py",
   "mimetype": "text/x-python",
   "name": "python",
   "nbconvert_exporter": "python",
   "pygments_lexer": "ipython2",
   "version": "2.7.6"
  }
 },
 "nbformat": 4,
 "nbformat_minor": 5
}
