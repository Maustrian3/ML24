{
 "cells": [
  {
   "cell_type": "markdown",
   "source": [
    "# Breast data set"
   ],
   "metadata": {
    "collapsed": false
   },
   "id": "55f57d0f4f1fe65b"
  },
  {
   "cell_type": "markdown",
   "source": [
    "# Loan data set"
   ],
   "metadata": {
    "collapsed": false
   },
   "id": "71fbffb53a1b9b3a"
  },
  {
   "cell_type": "markdown",
   "source": [
    "# Creddit-g data set"
   ],
   "metadata": {
    "collapsed": false
   },
   "id": "ce2305f4b011565"
  },
  {
   "cell_type": "markdown",
   "source": [
    "# Seattle crime data set"
   ],
   "metadata": {
    "collapsed": false
   },
   "id": "a35276aa98d70bc1"
  }
 ],
 "metadata": {
  "kernelspec": {
   "display_name": "Python 3",
   "language": "python",
   "name": "python3"
  },
  "language_info": {
   "codemirror_mode": {
    "name": "ipython",
    "version": 2
   },
   "file_extension": ".py",
   "mimetype": "text/x-python",
   "name": "python",
   "nbconvert_exporter": "python",
   "pygments_lexer": "ipython2",
   "version": "2.7.6"
  }
 },
 "nbformat": 4,
 "nbformat_minor": 5
}
