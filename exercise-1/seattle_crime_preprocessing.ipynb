{
 "cells": [
  {
   "cell_type": "code",
   "outputs": [],
   "source": [
    "from importlib import reload\n",
    "from itertools import chain\n",
    "\n",
    "import numpy as np\n",
    "from scipy.io import arff\n",
    "import pandas as pd\n",
    "import matplotlib.pyplot as plt\n",
    "from sklearn.compose import ColumnTransformer\n",
    "from sklearn.ensemble import RandomForestClassifier\n",
    "from sklearn.impute import SimpleImputer\n",
    "from sklearn.model_selection import train_test_split\n",
    "from sklearn.naive_bayes import GaussianNB, MultinomialNB, BernoulliNB\n",
    "from sklearn.neural_network import MLPClassifier\n",
    "from sklearn.pipeline import Pipeline\n",
    "from sklearn.preprocessing import LabelEncoder, OneHotEncoder, OrdinalEncoder, StandardScaler, MinMaxScaler\n",
    "\n",
    "from evaluation import evaluator"
   ],
   "metadata": {
    "collapsed": false,
    "ExecuteTime": {
     "end_time": "2024-04-23T15:20:26.261076Z",
     "start_time": "2024-04-23T15:20:26.256196Z"
    }
   },
   "id": "a0066f55dff2c27a",
   "execution_count": 96
  },
  {
   "cell_type": "code",
   "execution_count": 97,
   "id": "initial_id",
   "metadata": {
    "collapsed": true,
    "ExecuteTime": {
     "end_time": "2024-04-23T15:20:35.724160Z",
     "start_time": "2024-04-23T15:20:26.427348Z"
    }
   },
   "outputs": [
    {
     "data": {
      "text/plain": "       Occurred_Time Reported_Time          Crime_Subcategory  \\\n0              900.0        1500.0       BURGLARY-RESIDENTIAL   \n1                1.0        2359.0          SEX OFFENSE-OTHER   \n2             1600.0        1430.0                  CAR PROWL   \n3             2029.0        2030.0                   HOMICIDE   \n4             2000.0         435.0       BURGLARY-RESIDENTIAL   \n...              ...           ...                        ...   \n523585        1713.0        1713.0  FAMILY OFFENSE-NONVIOLENT   \n523586         730.0        1721.0       BURGLARY-RESIDENTIAL   \n523587        1724.0        1724.0         ROBBERY-COMMERCIAL   \n523588        1750.0        1904.0             THEFT-SHOPLIFT   \n523589        1800.0        2237.0            THEFT-ALL OTHER   \n\n         Primary_Offense_Description   Precinct Sector  Beat  \\\n0                 BURGLARY-FORCE-RES      SOUTH      R    R3   \n1          SEXOFF-INDECENT LIBERTIES       <NA>   <NA>  <NA>   \n2                     THEFT-CARPROWL       EAST      G    G2   \n3       HOMICIDE-PREMEDITATED-WEAPON      SOUTH      S    S2   \n4                 BURGLARY-FORCE-RES  SOUTHWEST      W    W3   \n...                              ...        ...    ...   ...   \n523585                   CHILD-OTHER      SOUTH      O    O3   \n523586            BURGLARY-FORCE-RES       EAST      C    C2   \n523587    ROBBERY-BUSINESS-BODYFORCE      SOUTH      S    S2   \n523588                THEFT-SHOPLIFT      NORTH      L    L2   \n523589                     THEFT-OTH      NORTH      N    N1   \n\n                          Neighborhood  \n0                 LAKEWOOD/SEWARD PARK  \n1                                 <NA>  \n2             CENTRAL AREA/SQUIRE PARK  \n3                      BRIGHTON/DUNLAP  \n4       ROXHILL/WESTWOOD/ARBOR HEIGHTS  \n...                                ...  \n523585                 MID BEACON HILL  \n523586            MONTLAKE/PORTAGE BAY  \n523587                   RAINIER BEACH  \n523588                       NORTHGATE  \n523589                      BITTERLAKE  \n\n[523590 rows x 8 columns]",
      "text/html": "<div>\n<style scoped>\n    .dataframe tbody tr th:only-of-type {\n        vertical-align: middle;\n    }\n\n    .dataframe tbody tr th {\n        vertical-align: top;\n    }\n\n    .dataframe thead th {\n        text-align: right;\n    }\n</style>\n<table border=\"1\" class=\"dataframe\">\n  <thead>\n    <tr style=\"text-align: right;\">\n      <th></th>\n      <th>Occurred_Time</th>\n      <th>Reported_Time</th>\n      <th>Crime_Subcategory</th>\n      <th>Primary_Offense_Description</th>\n      <th>Precinct</th>\n      <th>Sector</th>\n      <th>Beat</th>\n      <th>Neighborhood</th>\n    </tr>\n  </thead>\n  <tbody>\n    <tr>\n      <th>0</th>\n      <td>900.0</td>\n      <td>1500.0</td>\n      <td>BURGLARY-RESIDENTIAL</td>\n      <td>BURGLARY-FORCE-RES</td>\n      <td>SOUTH</td>\n      <td>R</td>\n      <td>R3</td>\n      <td>LAKEWOOD/SEWARD PARK</td>\n    </tr>\n    <tr>\n      <th>1</th>\n      <td>1.0</td>\n      <td>2359.0</td>\n      <td>SEX OFFENSE-OTHER</td>\n      <td>SEXOFF-INDECENT LIBERTIES</td>\n      <td>&lt;NA&gt;</td>\n      <td>&lt;NA&gt;</td>\n      <td>&lt;NA&gt;</td>\n      <td>&lt;NA&gt;</td>\n    </tr>\n    <tr>\n      <th>2</th>\n      <td>1600.0</td>\n      <td>1430.0</td>\n      <td>CAR PROWL</td>\n      <td>THEFT-CARPROWL</td>\n      <td>EAST</td>\n      <td>G</td>\n      <td>G2</td>\n      <td>CENTRAL AREA/SQUIRE PARK</td>\n    </tr>\n    <tr>\n      <th>3</th>\n      <td>2029.0</td>\n      <td>2030.0</td>\n      <td>HOMICIDE</td>\n      <td>HOMICIDE-PREMEDITATED-WEAPON</td>\n      <td>SOUTH</td>\n      <td>S</td>\n      <td>S2</td>\n      <td>BRIGHTON/DUNLAP</td>\n    </tr>\n    <tr>\n      <th>4</th>\n      <td>2000.0</td>\n      <td>435.0</td>\n      <td>BURGLARY-RESIDENTIAL</td>\n      <td>BURGLARY-FORCE-RES</td>\n      <td>SOUTHWEST</td>\n      <td>W</td>\n      <td>W3</td>\n      <td>ROXHILL/WESTWOOD/ARBOR HEIGHTS</td>\n    </tr>\n    <tr>\n      <th>...</th>\n      <td>...</td>\n      <td>...</td>\n      <td>...</td>\n      <td>...</td>\n      <td>...</td>\n      <td>...</td>\n      <td>...</td>\n      <td>...</td>\n    </tr>\n    <tr>\n      <th>523585</th>\n      <td>1713.0</td>\n      <td>1713.0</td>\n      <td>FAMILY OFFENSE-NONVIOLENT</td>\n      <td>CHILD-OTHER</td>\n      <td>SOUTH</td>\n      <td>O</td>\n      <td>O3</td>\n      <td>MID BEACON HILL</td>\n    </tr>\n    <tr>\n      <th>523586</th>\n      <td>730.0</td>\n      <td>1721.0</td>\n      <td>BURGLARY-RESIDENTIAL</td>\n      <td>BURGLARY-FORCE-RES</td>\n      <td>EAST</td>\n      <td>C</td>\n      <td>C2</td>\n      <td>MONTLAKE/PORTAGE BAY</td>\n    </tr>\n    <tr>\n      <th>523587</th>\n      <td>1724.0</td>\n      <td>1724.0</td>\n      <td>ROBBERY-COMMERCIAL</td>\n      <td>ROBBERY-BUSINESS-BODYFORCE</td>\n      <td>SOUTH</td>\n      <td>S</td>\n      <td>S2</td>\n      <td>RAINIER BEACH</td>\n    </tr>\n    <tr>\n      <th>523588</th>\n      <td>1750.0</td>\n      <td>1904.0</td>\n      <td>THEFT-SHOPLIFT</td>\n      <td>THEFT-SHOPLIFT</td>\n      <td>NORTH</td>\n      <td>L</td>\n      <td>L2</td>\n      <td>NORTHGATE</td>\n    </tr>\n    <tr>\n      <th>523589</th>\n      <td>1800.0</td>\n      <td>2237.0</td>\n      <td>THEFT-ALL OTHER</td>\n      <td>THEFT-OTH</td>\n      <td>NORTH</td>\n      <td>N</td>\n      <td>N1</td>\n      <td>BITTERLAKE</td>\n    </tr>\n  </tbody>\n</table>\n<p>523590 rows × 8 columns</p>\n</div>"
     },
     "execution_count": 97,
     "metadata": {},
     "output_type": "execute_result"
    }
   ],
   "source": [
    "path = \"../datasets/\"\n",
    "data = arff.loadarff('%sSeattle_Crime_Data_06-23-2019-4.arff' % path)\n",
    "df = pd.DataFrame(data[0])\n",
    "for column in df.columns:\n",
    "    # decode bytes to string for each column\n",
    "    df[column] = df[column].apply(lambda x: x.decode() if isinstance(x, bytes) else x)\n",
    "\n",
    "df = df.drop('Report_Number', axis=1)\n",
    "original_dtypes = df.dtypes\n",
    "df.replace(['NONE', '?', '', 'None', b'', np.NaN, 'UNKNOWN'], pd.NA, inplace=True)\n",
    "df"
   ]
  },
  {
   "cell_type": "code",
   "outputs": [
    {
     "name": "stdout",
     "output_type": "stream",
     "text": [
      "Occurred_Time========================================\n",
      "Occurred_Time\n",
      "2200.0    13858\n",
      "1800.0    13804\n",
      "0.0       13420\n",
      "2000.0    12836\n",
      "1200.0    12598\n",
      "          ...  \n",
      "649.0        40\n",
      "607.0        39\n",
      "546.0        39\n",
      "627.0        37\n",
      "551.0        36\n",
      "Name: count, Length: 1440, dtype: int64\n",
      "Reported_Time========================================\n",
      "Reported_Time\n",
      "1300.0    824\n",
      "1600.0    809\n",
      "1530.0    799\n",
      "1400.0    790\n",
      "1230.0    787\n",
      "         ... \n",
      "501.0      89\n",
      "333.0      89\n",
      "542.0      85\n",
      "417.0      85\n",
      "349.0      85\n",
      "Name: count, Length: 1440, dtype: int64\n",
      "Crime_Subcategory========================================\n",
      "Crime_Subcategory\n",
      "CAR PROWL                              148263\n",
      "THEFT-ALL OTHER                         54419\n",
      "THEFT-SHOPLIFT                          48638\n",
      "BURGLARY-RESIDENTIAL                    46843\n",
      "MOTOR VEHICLE THEFT                     43529\n",
      "BURGLARY-COMMERCIAL                     23531\n",
      "THEFT-BUILDING                          21438\n",
      "TRESPASS                                17722\n",
      "NARCOTIC                                17381\n",
      "AGGRAVATED ASSAULT                      15640\n",
      "DUI                                     12838\n",
      "ROBBERY-STREET                          11882\n",
      "THEFT-BICYCLE                           11091\n",
      "BURGLARY-RESIDENTIAL-SECURE PARKING      8852\n",
      "AGGRAVATED ASSAULT-DV                    6922\n",
      "FAMILY OFFENSE-NONVIOLENT                6855\n",
      "SEX OFFENSE-OTHER                        6396\n",
      "WEAPON                                   4987\n",
      "ROBBERY-COMMERCIAL                       4660\n",
      "PROSTITUTION                             3609\n",
      "RAPE                                     2023\n",
      "LIQUOR LAW VIOLATION                     1651\n",
      "BURGLARY-COMMERCIAL-SECURE PARKING       1164\n",
      "ARSON                                    1071\n",
      "ROBBERY-RESIDENTIAL                      1062\n",
      "DISORDERLY CONDUCT                        283\n",
      "HOMICIDE                                  275\n",
      "PORNOGRAPHY                               195\n",
      "LOITERING                                  91\n",
      "GAMBLE                                     17\n",
      "Name: count, dtype: int64\n",
      "Primary_Offense_Description========================================\n",
      "Primary_Offense_Description\n",
      "THEFT-CARPROWL                   131297\n",
      "THEFT-SHOPLIFT                    48638\n",
      "THEFT-OTH                         47275\n",
      "VEH-THEFT-AUTO                    37840\n",
      "BURGLARY-FORCE-RES                27984\n",
      "                                  ...  \n",
      "NARC-SMUGGLE-HEROIN                   1\n",
      "HOMICIDE-NEG-MANS-GUN                 1\n",
      "NARC-SELL-BARBITUATE                  1\n",
      "NARC-MANUFACTURE-HALLUCINOGEN         1\n",
      "HOMICIDE-NEG-MANS-WEAPON              1\n",
      "Name: count, Length: 144, dtype: int64\n",
      "Precinct========================================\n",
      "Precinct\n",
      "NORTH        168392\n",
      "WEST         150613\n",
      "EAST          77475\n",
      "SOUTH         74426\n",
      "SOUTHWEST     49332\n",
      "Name: count, dtype: int64\n",
      "Sector========================================\n",
      "Sector\n",
      "M       42976\n",
      "U       40699\n",
      "K       38022\n",
      "B       37984\n",
      "D       35435\n",
      "E       35038\n",
      "Q       34180\n",
      "R       32278\n",
      "L       31833\n",
      "N       29150\n",
      "J       28726\n",
      "S       26476\n",
      "W       25745\n",
      "F       23587\n",
      "C       22597\n",
      "G       19840\n",
      "O       15672\n",
      "W2          1\n",
      "H           1\n",
      "SW          1\n",
      "6804        1\n",
      "SE          1\n",
      "9512        1\n",
      "Name: count, dtype: int64\n",
      "Beat========================================\n",
      "Beat\n",
      "K3      16939\n",
      "U1      14989\n",
      "M1      14547\n",
      "L2      14532\n",
      "Q3      14329\n",
      "        ...  \n",
      "CS          1\n",
      "H1          1\n",
      "LAPT        1\n",
      "WS          1\n",
      "K           1\n",
      "Name: count, Length: 64, dtype: int64\n",
      "Neighborhood========================================\n",
      "Neighborhood\n",
      "DOWNTOWN COMMERCIAL                 48942\n",
      "NORTHGATE                           30820\n",
      "CAPITOL HILL                        30735\n",
      "QUEEN ANNE                          27402\n",
      "SLU/CASCADE                         23343\n",
      "UNIVERSITY                          20868\n",
      "ROOSEVELT/RAVENNA                   19451\n",
      "BALLARD SOUTH                       15611\n",
      "CHINATOWN/INTERNATIONAL DISTRICT    15401\n",
      "BELLTOWN                            15370\n",
      "FIRST HILL                          13991\n",
      "LAKECITY                            13563\n",
      "CENTRAL AREA/SQUIRE PARK            12217\n",
      "GREENWOOD                           11405\n",
      "BALLARD NORTH                       11109\n",
      "SANDPOINT                           10649\n",
      "FREMONT                             10242\n",
      "WALLINGFORD                         10008\n",
      "BITTERLAKE                           9998\n",
      "NORTH BEACON HILL                    9282\n",
      "SODO                                 8889\n",
      "PIONEER SQUARE                       8817\n",
      "ROXHILL/WESTWOOD/ARBOR HEIGHTS       8220\n",
      "MAGNOLIA                             7875\n",
      "ALASKA JUNCTION                      7089\n",
      "BRIGHTON/DUNLAP                      7070\n",
      "MOUNT BAKER                          7029\n",
      "MADRONA/LESCHI                       6568\n",
      "GEORGETOWN                           6003\n",
      "RAINIER BEACH                        5880\n",
      "MID BEACON HILL                      5865\n",
      "HIGHLAND PARK                        5633\n",
      "RAINIER VIEW                         5492\n",
      "NORTH ADMIRAL                        4953\n",
      "PHINNEY RIDGE                        4675\n",
      "MORGAN                               4471\n",
      "JUDKINS PARK/NORTH BEACON HILL       4140\n",
      "SOUTH PARK                           4029\n",
      "MONTLAKE/PORTAGE BAY                 3719\n",
      "NORTH DELRIDGE                       3554\n",
      "EASTLAKE - WEST                      3465\n",
      "HIGH POINT                           3445\n",
      "MILLER PARK                          3433\n",
      "LAKEWOOD/SEWARD PARK                 3396\n",
      "COLUMBIA CITY                        3385\n",
      "NEW HOLLY                            3194\n",
      "HILLMAN CITY                         2632\n",
      "CLAREMONT/RAINIER VISTA              2507\n",
      "ALKI                                 2485\n",
      "FAUNTLEROY SW                        2375\n",
      "SOUTH BEACON HILL                    2251\n",
      "SOUTH DELRIDGE                       1973\n",
      "MADISON PARK                         1789\n",
      "GENESEE                              1552\n",
      "EASTLAKE - EAST                       860\n",
      "PIGEON POINT                          609\n",
      "COMMERCIAL DUWAMISH                   318\n",
      "COMMERCIAL HARBOR ISLAND              177\n",
      "Name: count, dtype: int64\n"
     ]
    }
   ],
   "source": [
    "for column in df.columns:\n",
    "    if df.columns.dtype == object:\n",
    "        print(column + \"=\" * 40)\n",
    "        value_counts = df[column].value_counts()\n",
    "        print(value_counts)\n"
   ],
   "metadata": {
    "collapsed": false,
    "ExecuteTime": {
     "end_time": "2024-04-23T15:20:36.074011Z",
     "start_time": "2024-04-23T15:20:35.725172Z"
    }
   },
   "id": "d2af7d4eb4df59ab",
   "execution_count": 98
  },
  {
   "cell_type": "markdown",
   "source": [
    "# Preprocessing"
   ],
   "metadata": {
    "collapsed": false
   },
   "id": "6c0a35b0d88701ef"
  },
  {
   "cell_type": "code",
   "outputs": [
    {
     "data": {
      "text/plain": "       Occurred_Time Reported_Time      Crime_Subcategory Precinct Sector  \\\n6916          2108.0        2108.0               NARCOTIC    NORTH      N   \n70131         2100.0         623.0   BURGLARY-RESIDENTIAL    NORTH      N   \n64578         2130.0        1033.0    MOTOR VEHICLE THEFT     WEST      D   \n30304         2150.0        2335.0               NARCOTIC    SOUTH      S   \n218777        1858.0        1858.0        THEFT-ALL OTHER    SOUTH      S   \n...              ...           ...                    ...      ...    ...   \n259178         711.0         711.0  AGGRAVATED ASSAULT-DV    NORTH      J   \n365838         500.0         822.0              CAR PROWL    NORTH      J   \n131932        1135.0        1151.0         THEFT-SHOPLIFT     WEST      M   \n146867        2100.0         105.0   BURGLARY-RESIDENTIAL    NORTH      U   \n121958        1952.0        1952.0     AGGRAVATED ASSAULT     WEST      M   \n\n       Beat         Neighborhood  \n6916     N3            NORTHGATE  \n70131    N2           BITTERLAKE  \n64578    D3          SLU/CASCADE  \n30304    S1            NEW HOLLY  \n218777   S2      BRIGHTON/DUNLAP  \n...     ...                  ...  \n259178   J3            GREENWOOD  \n365838   J3    ROOSEVELT/RAVENNA  \n131932   M3  DOWNTOWN COMMERCIAL  \n146867   U1    ROOSEVELT/RAVENNA  \n121958   M3  DOWNTOWN COMMERCIAL  \n\n[418872 rows x 7 columns]",
      "text/html": "<div>\n<style scoped>\n    .dataframe tbody tr th:only-of-type {\n        vertical-align: middle;\n    }\n\n    .dataframe tbody tr th {\n        vertical-align: top;\n    }\n\n    .dataframe thead th {\n        text-align: right;\n    }\n</style>\n<table border=\"1\" class=\"dataframe\">\n  <thead>\n    <tr style=\"text-align: right;\">\n      <th></th>\n      <th>Occurred_Time</th>\n      <th>Reported_Time</th>\n      <th>Crime_Subcategory</th>\n      <th>Precinct</th>\n      <th>Sector</th>\n      <th>Beat</th>\n      <th>Neighborhood</th>\n    </tr>\n  </thead>\n  <tbody>\n    <tr>\n      <th>6916</th>\n      <td>2108.0</td>\n      <td>2108.0</td>\n      <td>NARCOTIC</td>\n      <td>NORTH</td>\n      <td>N</td>\n      <td>N3</td>\n      <td>NORTHGATE</td>\n    </tr>\n    <tr>\n      <th>70131</th>\n      <td>2100.0</td>\n      <td>623.0</td>\n      <td>BURGLARY-RESIDENTIAL</td>\n      <td>NORTH</td>\n      <td>N</td>\n      <td>N2</td>\n      <td>BITTERLAKE</td>\n    </tr>\n    <tr>\n      <th>64578</th>\n      <td>2130.0</td>\n      <td>1033.0</td>\n      <td>MOTOR VEHICLE THEFT</td>\n      <td>WEST</td>\n      <td>D</td>\n      <td>D3</td>\n      <td>SLU/CASCADE</td>\n    </tr>\n    <tr>\n      <th>30304</th>\n      <td>2150.0</td>\n      <td>2335.0</td>\n      <td>NARCOTIC</td>\n      <td>SOUTH</td>\n      <td>S</td>\n      <td>S1</td>\n      <td>NEW HOLLY</td>\n    </tr>\n    <tr>\n      <th>218777</th>\n      <td>1858.0</td>\n      <td>1858.0</td>\n      <td>THEFT-ALL OTHER</td>\n      <td>SOUTH</td>\n      <td>S</td>\n      <td>S2</td>\n      <td>BRIGHTON/DUNLAP</td>\n    </tr>\n    <tr>\n      <th>...</th>\n      <td>...</td>\n      <td>...</td>\n      <td>...</td>\n      <td>...</td>\n      <td>...</td>\n      <td>...</td>\n      <td>...</td>\n    </tr>\n    <tr>\n      <th>259178</th>\n      <td>711.0</td>\n      <td>711.0</td>\n      <td>AGGRAVATED ASSAULT-DV</td>\n      <td>NORTH</td>\n      <td>J</td>\n      <td>J3</td>\n      <td>GREENWOOD</td>\n    </tr>\n    <tr>\n      <th>365838</th>\n      <td>500.0</td>\n      <td>822.0</td>\n      <td>CAR PROWL</td>\n      <td>NORTH</td>\n      <td>J</td>\n      <td>J3</td>\n      <td>ROOSEVELT/RAVENNA</td>\n    </tr>\n    <tr>\n      <th>131932</th>\n      <td>1135.0</td>\n      <td>1151.0</td>\n      <td>THEFT-SHOPLIFT</td>\n      <td>WEST</td>\n      <td>M</td>\n      <td>M3</td>\n      <td>DOWNTOWN COMMERCIAL</td>\n    </tr>\n    <tr>\n      <th>146867</th>\n      <td>2100.0</td>\n      <td>105.0</td>\n      <td>BURGLARY-RESIDENTIAL</td>\n      <td>NORTH</td>\n      <td>U</td>\n      <td>U1</td>\n      <td>ROOSEVELT/RAVENNA</td>\n    </tr>\n    <tr>\n      <th>121958</th>\n      <td>1952.0</td>\n      <td>1952.0</td>\n      <td>AGGRAVATED ASSAULT</td>\n      <td>WEST</td>\n      <td>M</td>\n      <td>M3</td>\n      <td>DOWNTOWN COMMERCIAL</td>\n    </tr>\n  </tbody>\n</table>\n<p>418872 rows × 7 columns</p>\n</div>"
     },
     "execution_count": 99,
     "metadata": {},
     "output_type": "execute_result"
    }
   ],
   "source": [
    "# split dataframe to features and target\n",
    "X = df.drop('Primary_Offense_Description', axis=1)  # Features\n",
    "y = df['Primary_Offense_Description']  #target \n",
    "\n",
    "# split into training and test set\n",
    "X_train, X_test, y_train, y_test = train_test_split(X, y, test_size=0.2, random_state=42)\n",
    "X_train"
   ],
   "metadata": {
    "collapsed": false,
    "ExecuteTime": {
     "end_time": "2024-04-23T15:20:36.469552Z",
     "start_time": "2024-04-23T15:20:36.075024Z"
    }
   },
   "id": "44f44c8cda55535d",
   "execution_count": 99
  },
  {
   "cell_type": "code",
   "outputs": [
    {
     "name": "stdout",
     "output_type": "stream",
     "text": [
      "null values in train data: 10869\n",
      "null values in test data: 2759\n",
      "Occurred_Time        object\n",
      "Reported_Time        object\n",
      "Crime_Subcategory    object\n",
      "Precinct             object\n",
      "Sector               object\n",
      "Beat                 object\n",
      "Neighborhood         object\n",
      "dtype: object\n"
     ]
    }
   ],
   "source": [
    "print(\"null values in train data: \" + str(X_train.isnull().sum().sum()))\n",
    "print(\"null values in test data: \" + str(X_test.isnull().sum().sum()))\n",
    "print(X_train.dtypes)"
   ],
   "metadata": {
    "collapsed": false,
    "ExecuteTime": {
     "end_time": "2024-04-23T15:20:36.985548Z",
     "start_time": "2024-04-23T15:20:36.472131Z"
    }
   },
   "id": "2e4c66e528eb4f56",
   "execution_count": 100
  },
  {
   "cell_type": "code",
   "outputs": [],
   "source": [
    "imputer = SimpleImputer(strategy='most_frequent', missing_values=pd.NA)\n",
    "\n",
    "imputer.fit(X_train)\n",
    "\n",
    "# original_dtypes = X_train.dtypes\n",
    "del original_dtypes['Primary_Offense_Description']\n",
    "X_train_np = imputer.transform(X_train)\n",
    "X_train = pd.DataFrame(X_train_np, index=X_train.index, columns=X_train.columns)\n",
    "X_train = X_train.astype(original_dtypes)\n",
    "\n",
    "X_test_np = imputer.transform(X_test)\n",
    "X_test = pd.DataFrame(X_test_np, index=X_test.index, columns=X_test.columns)\n",
    "X_test = X_test.astype(original_dtypes)"
   ],
   "metadata": {
    "collapsed": false,
    "ExecuteTime": {
     "end_time": "2024-04-23T15:20:39.471151Z",
     "start_time": "2024-04-23T15:20:36.986557Z"
    }
   },
   "id": "c7b1f5e6d91a700",
   "execution_count": 101
  },
  {
   "cell_type": "code",
   "outputs": [
    {
     "name": "stdout",
     "output_type": "stream",
     "text": [
      "null values in train data: 0\n",
      "null values in test data: 0\n"
     ]
    }
   ],
   "source": [
    "print(\"null values in train data: \" + str(X_train.isnull().sum().sum()))\n",
    "print(\"null values in test data: \" + str(X_test.isnull().sum().sum()))"
   ],
   "metadata": {
    "collapsed": false,
    "ExecuteTime": {
     "end_time": "2024-04-23T15:20:39.752696Z",
     "start_time": "2024-04-23T15:20:39.472166Z"
    }
   },
   "id": "fb72e99b05b39f1b",
   "execution_count": 102
  },
  {
   "cell_type": "code",
   "outputs": [
    {
     "data": {
      "text/plain": "        Occurred_Time  Reported_Time      Crime_Subcategory Precinct Sector  \\\n6916           2108.0         2108.0               NARCOTIC    NORTH      N   \n70131          2100.0          623.0   BURGLARY-RESIDENTIAL    NORTH      N   \n64578          2130.0         1033.0    MOTOR VEHICLE THEFT     WEST      D   \n30304          2150.0         2335.0               NARCOTIC    SOUTH      S   \n218777         1858.0         1858.0        THEFT-ALL OTHER    SOUTH      S   \n...               ...            ...                    ...      ...    ...   \n259178          711.0          711.0  AGGRAVATED ASSAULT-DV    NORTH      J   \n365838          500.0          822.0              CAR PROWL    NORTH      J   \n131932         1135.0         1151.0         THEFT-SHOPLIFT     WEST      M   \n146867         2100.0          105.0   BURGLARY-RESIDENTIAL    NORTH      U   \n121958         1952.0         1952.0     AGGRAVATED ASSAULT     WEST      M   \n\n       Beat         Neighborhood  \n6916     N3            NORTHGATE  \n70131    N2           BITTERLAKE  \n64578    D3          SLU/CASCADE  \n30304    S1            NEW HOLLY  \n218777   S2      BRIGHTON/DUNLAP  \n...     ...                  ...  \n259178   J3            GREENWOOD  \n365838   J3    ROOSEVELT/RAVENNA  \n131932   M3  DOWNTOWN COMMERCIAL  \n146867   U1    ROOSEVELT/RAVENNA  \n121958   M3  DOWNTOWN COMMERCIAL  \n\n[418872 rows x 7 columns]",
      "text/html": "<div>\n<style scoped>\n    .dataframe tbody tr th:only-of-type {\n        vertical-align: middle;\n    }\n\n    .dataframe tbody tr th {\n        vertical-align: top;\n    }\n\n    .dataframe thead th {\n        text-align: right;\n    }\n</style>\n<table border=\"1\" class=\"dataframe\">\n  <thead>\n    <tr style=\"text-align: right;\">\n      <th></th>\n      <th>Occurred_Time</th>\n      <th>Reported_Time</th>\n      <th>Crime_Subcategory</th>\n      <th>Precinct</th>\n      <th>Sector</th>\n      <th>Beat</th>\n      <th>Neighborhood</th>\n    </tr>\n  </thead>\n  <tbody>\n    <tr>\n      <th>6916</th>\n      <td>2108.0</td>\n      <td>2108.0</td>\n      <td>NARCOTIC</td>\n      <td>NORTH</td>\n      <td>N</td>\n      <td>N3</td>\n      <td>NORTHGATE</td>\n    </tr>\n    <tr>\n      <th>70131</th>\n      <td>2100.0</td>\n      <td>623.0</td>\n      <td>BURGLARY-RESIDENTIAL</td>\n      <td>NORTH</td>\n      <td>N</td>\n      <td>N2</td>\n      <td>BITTERLAKE</td>\n    </tr>\n    <tr>\n      <th>64578</th>\n      <td>2130.0</td>\n      <td>1033.0</td>\n      <td>MOTOR VEHICLE THEFT</td>\n      <td>WEST</td>\n      <td>D</td>\n      <td>D3</td>\n      <td>SLU/CASCADE</td>\n    </tr>\n    <tr>\n      <th>30304</th>\n      <td>2150.0</td>\n      <td>2335.0</td>\n      <td>NARCOTIC</td>\n      <td>SOUTH</td>\n      <td>S</td>\n      <td>S1</td>\n      <td>NEW HOLLY</td>\n    </tr>\n    <tr>\n      <th>218777</th>\n      <td>1858.0</td>\n      <td>1858.0</td>\n      <td>THEFT-ALL OTHER</td>\n      <td>SOUTH</td>\n      <td>S</td>\n      <td>S2</td>\n      <td>BRIGHTON/DUNLAP</td>\n    </tr>\n    <tr>\n      <th>...</th>\n      <td>...</td>\n      <td>...</td>\n      <td>...</td>\n      <td>...</td>\n      <td>...</td>\n      <td>...</td>\n      <td>...</td>\n    </tr>\n    <tr>\n      <th>259178</th>\n      <td>711.0</td>\n      <td>711.0</td>\n      <td>AGGRAVATED ASSAULT-DV</td>\n      <td>NORTH</td>\n      <td>J</td>\n      <td>J3</td>\n      <td>GREENWOOD</td>\n    </tr>\n    <tr>\n      <th>365838</th>\n      <td>500.0</td>\n      <td>822.0</td>\n      <td>CAR PROWL</td>\n      <td>NORTH</td>\n      <td>J</td>\n      <td>J3</td>\n      <td>ROOSEVELT/RAVENNA</td>\n    </tr>\n    <tr>\n      <th>131932</th>\n      <td>1135.0</td>\n      <td>1151.0</td>\n      <td>THEFT-SHOPLIFT</td>\n      <td>WEST</td>\n      <td>M</td>\n      <td>M3</td>\n      <td>DOWNTOWN COMMERCIAL</td>\n    </tr>\n    <tr>\n      <th>146867</th>\n      <td>2100.0</td>\n      <td>105.0</td>\n      <td>BURGLARY-RESIDENTIAL</td>\n      <td>NORTH</td>\n      <td>U</td>\n      <td>U1</td>\n      <td>ROOSEVELT/RAVENNA</td>\n    </tr>\n    <tr>\n      <th>121958</th>\n      <td>1952.0</td>\n      <td>1952.0</td>\n      <td>AGGRAVATED ASSAULT</td>\n      <td>WEST</td>\n      <td>M</td>\n      <td>M3</td>\n      <td>DOWNTOWN COMMERCIAL</td>\n    </tr>\n  </tbody>\n</table>\n<p>418872 rows × 7 columns</p>\n</div>"
     },
     "execution_count": 103,
     "metadata": {},
     "output_type": "execute_result"
    }
   ],
   "source": [
    "X_train"
   ],
   "metadata": {
    "collapsed": false,
    "ExecuteTime": {
     "end_time": "2024-04-23T15:20:39.772018Z",
     "start_time": "2024-04-23T15:20:39.753704Z"
    }
   },
   "id": "f8d4b790fadf495f",
   "execution_count": 103
  },
  {
   "cell_type": "code",
   "outputs": [
    {
     "data": {
      "text/plain": "['Occurred_Time', 'Reported_Time']"
     },
     "execution_count": 104,
     "metadata": {},
     "output_type": "execute_result"
    }
   ],
   "source": [
    "# find all numerical columns in X_train\n",
    "numerical_columns = X_train.select_dtypes(include=\"number\").columns\n",
    "# convert numerical columns to list\n",
    "numerical_columns = numerical_columns.tolist()\n",
    "numerical_columns"
   ],
   "metadata": {
    "collapsed": false,
    "ExecuteTime": {
     "end_time": "2024-04-23T15:20:39.787565Z",
     "start_time": "2024-04-23T15:20:39.774345Z"
    }
   },
   "id": "b58c5f1a2d6706ba",
   "execution_count": 104
  },
  {
   "cell_type": "code",
   "outputs": [
    {
     "data": {
      "text/plain": "[]"
     },
     "execution_count": 105,
     "metadata": {},
     "output_type": "execute_result"
    }
   ],
   "source": [
    "feature_mappings = {}\n",
    "\n",
    "ordinal_columns = [col for col in X_train.columns if col in feature_mappings.keys()]\n",
    "ordinal_categories = [feature_mappings[col] for col in ordinal_columns]\n",
    "ordinal_columns"
   ],
   "metadata": {
    "collapsed": false,
    "ExecuteTime": {
     "end_time": "2024-04-23T15:20:39.796902Z",
     "start_time": "2024-04-23T15:20:39.789481Z"
    }
   },
   "id": "55554d650f319d32",
   "execution_count": 105
  },
  {
   "cell_type": "code",
   "outputs": [
    {
     "name": "stdout",
     "output_type": "stream",
     "text": [
      "one hot columns:  ['Precinct']\n",
      "label columns:  ['Crime_Subcategory', 'Sector', 'Beat', 'Neighborhood']\n"
     ]
    }
   ],
   "source": [
    "categorical_columns = [col for col in X_train.columns if col not in ordinal_columns and col not in numerical_columns]\n",
    "\n",
    "one_hot_encoding_limit = 5\n",
    "one_hot_columns = [col for col in categorical_columns if X_train[col].nunique() <= one_hot_encoding_limit]\n",
    "\n",
    "label_columns = [col for col in categorical_columns if col not in one_hot_columns]\n",
    "\n",
    "print(\"one hot columns: \", one_hot_columns)\n",
    "print(\"label columns: \", label_columns)"
   ],
   "metadata": {
    "collapsed": false,
    "ExecuteTime": {
     "end_time": "2024-04-23T15:20:40.231968Z",
     "start_time": "2024-04-23T15:20:39.800911Z"
    }
   },
   "id": "6acd16fdec5e8348",
   "execution_count": 106
  },
  {
   "cell_type": "code",
   "outputs": [
    {
     "data": {
      "text/plain": "['Beat',\n 'Crime_Subcategory',\n 'Neighborhood',\n 'Occurred_Time',\n 'Precinct',\n 'Reported_Time',\n 'Sector']"
     },
     "execution_count": 107,
     "metadata": {},
     "output_type": "execute_result"
    }
   ],
   "source": [
    "all = numerical_columns + ordinal_columns + one_hot_columns + label_columns\n",
    "all.sort()\n",
    "all"
   ],
   "metadata": {
    "collapsed": false,
    "ExecuteTime": {
     "end_time": "2024-04-23T15:20:40.239154Z",
     "start_time": "2024-04-23T15:20:40.232978Z"
    }
   },
   "id": "1f62596d2ad5ba9e",
   "execution_count": 107
  },
  {
   "cell_type": "code",
   "outputs": [],
   "source": [
    "preprocessor = ColumnTransformer([\n",
    "    ('ordinal', OrdinalEncoder(categories=ordinal_categories), ordinal_columns),\n",
    "    ('categorical', OneHotEncoder(handle_unknown=\"ignore\"), one_hot_columns),\n",
    "    ('label', OrdinalEncoder(handle_unknown='use_encoded_value', unknown_value=np.nan), label_columns)\n",
    "],\n",
    "    remainder='passthrough'  # passthrough columns not listed in any pipeline\n",
    ")"
   ],
   "metadata": {
    "collapsed": false,
    "ExecuteTime": {
     "end_time": "2024-04-23T15:20:40.245947Z",
     "start_time": "2024-04-23T15:20:40.241167Z"
    }
   },
   "id": "e358d17a65adaef",
   "execution_count": 108
  },
  {
   "cell_type": "code",
   "outputs": [],
   "source": [
    "pipeline = Pipeline([\n",
    "    ('preprocessor', preprocessor),\n",
    "    ('imputer', SimpleImputer(strategy='most_frequent', missing_values=np.nan)),\n",
    "    ('scaler', MinMaxScaler())\n",
    "])\n",
    "\n",
    "pipeline_standard = Pipeline([\n",
    "    ('preprocessor', preprocessor),\n",
    "    ('imputer', SimpleImputer(strategy='most_frequent', missing_values=np.nan)),\n",
    "    ('scaler', StandardScaler())\n",
    "])\n",
    "X_train_std = pipeline_standard.fit_transform(X_train)\n",
    "X_test_std = pipeline_standard.transform(X_test)\n",
    "\n",
    "# Preprocess training data\n",
    "X_train = pipeline.fit_transform(X_train)\n",
    "X_test = pipeline.transform(X_test)"
   ],
   "metadata": {
    "collapsed": false,
    "ExecuteTime": {
     "end_time": "2024-04-23T15:20:43.987529Z",
     "start_time": "2024-04-23T15:20:40.247956Z"
    }
   },
   "id": "476b2356d4be2bfa",
   "execution_count": 109
  },
  {
   "cell_type": "code",
   "outputs": [],
   "source": [
    "# Encode target variable\n",
    "label_encoder = LabelEncoder()\n",
    "\n",
    "#label = {'A': 0, 'B': 1, 'C': 2, 'D': 3, 'E': 4, 'F': 5, 'G': 6}\n",
    "#y_train = y_train.map(label)\n",
    "#y_test = y_test.map(label)\n",
    "y_train = label_encoder.fit_transform(y_train)\n",
    "y_test = label_encoder.transform(y_test)"
   ],
   "metadata": {
    "collapsed": false,
    "ExecuteTime": {
     "end_time": "2024-04-23T15:20:44.180977Z",
     "start_time": "2024-04-23T15:20:43.988543Z"
    }
   },
   "id": "ec2de7c7f164b6eb",
   "execution_count": 110
  },
  {
   "cell_type": "markdown",
   "source": [
    "# Evaluation\n"
   ],
   "metadata": {
    "collapsed": false
   },
   "id": "2c279955c7dde34c"
  },
  {
   "cell_type": "markdown",
   "source": [
    "## Neural Network"
   ],
   "metadata": {
    "collapsed": false
   },
   "id": "6bad8d0b9da9c5d"
  },
  {
   "cell_type": "code",
   "outputs": [
    {
     "name": "stdout",
     "output_type": "stream",
     "text": [
      "================================================================================\n",
      "Evaluating classifier:  MLPClassifier\n",
      "Hyperparameters:  {'solver': 'adam', 'activation': 'relu', 'learning_rate': 'constant', 'hidden_layer_sizes': 7, 'max_iter': 1500, 'verbose': False}\n"
     ]
    }
   ],
   "source": [
    "reload(evaluator)\n",
    "hyperparameters = {\n",
    "    'solver': 'adam',\n",
    "    'activation': 'relu',\n",
    "    'learning_rate': 'constant',\n",
    "    'hidden_layer_sizes': (7),\n",
    "    #'random_state': 7895,\n",
    "    'max_iter': 1500,\n",
    "    'verbose': False,\n",
    "    #'tol': 5e-5\n",
    "}\n",
    "hyperparameters_iterator = {'learning_rate_init': np.logspace(-6, -1, num=35)}\n",
    "nn_learning_rate = evaluator.evaluate2_mean(MLPClassifier, X_train, y_train, X_test, y_test,\n",
    "                                            hyperparameters=hyperparameters,\n",
    "                                            hyperparameters_iterate=hyperparameters_iterator, number_of_tests=5)\n",
    "evaluator.draw_diagram2_list({\"seattlecrime\": nn_learning_rate}, x_axis='learning_rate_init',\n",
    "                             y_axis=['accuracy', 'precision', 'recall', 'f1'], logaritmic=True)"
   ],
   "metadata": {
    "collapsed": false,
    "is_executing": true,
    "ExecuteTime": {
     "start_time": "2024-04-23T15:20:44.181983Z"
    }
   },
   "id": "f33fc92dd7bcbd6d"
  },
  {
   "cell_type": "code",
   "outputs": [],
   "source": [
    "reload(evaluator)\n",
    "hyperparameters = {\n",
    "    'solver': 'adam',\n",
    "    'activation': 'relu',\n",
    "    'learning_rate': 'constant',\n",
    "    #'hidden_layer_sizes': (15, 15, 15),\n",
    "    #'random_state': 7895,\n",
    "    'max_iter': 5000,\n",
    "    'verbose': False,\n",
    "    #'tol': 5e-5\n",
    "}\n",
    "hyperparameters_iterator = {'hidden_layer_sizes': [(i,) for i in chain(range(1, 10, 1), range(10, 20, 2))]}\n",
    "nn_hidden_layer = evaluator.evaluate2_mean(MLPClassifier, X_train_std, y_train, X_test_std, y_test,\n",
    "                                           hyperparameters=hyperparameters,\n",
    "                                           hyperparameters_iterate=hyperparameters_iterator, number_of_tests=5)\n",
    "evaluator.draw_diagram2_list({\"seattlecrime\": nn_hidden_layer}, x_axis='hidden_layer_sizes',\n",
    "                             y_axis=['accuracy', 'precision', 'recall', 'f1'], logaritmic=False)"
   ],
   "metadata": {
    "collapsed": false,
    "is_executing": true
   },
   "id": "a976eeed02a0a4b8"
  },
  {
   "cell_type": "code",
   "outputs": [],
   "source": [
    "reload(evaluator)\n",
    "hyperparameters = {\n",
    "    'solver': 'adam',\n",
    "    'activation': 'relu',\n",
    "    'learning_rate': 'constant',\n",
    "    #'hidden_layer_sizes': (15, 15, 15),\n",
    "    #'random_state': 7895,\n",
    "    'max_iter': 5000,\n",
    "    'verbose': False,\n",
    "    #'tol': 5e-5\n",
    "}\n",
    "hyperparameters_iterator = {'hidden_layer_sizes': [(7,), (7, 7), (7, 7, 7), (7, 7, 7, 7), ]}\n",
    "nn_hidden_layer_deepness = evaluator.evaluate2_mean(MLPClassifier, X_train_std, y_train, X_test_std, y_test,\n",
    "                                                    hyperparameters=hyperparameters,\n",
    "                                                    hyperparameters_iterate=hyperparameters_iterator, number_of_tests=5)\n",
    "evaluator.draw_diagram2_list({\"seattlecrime\": nn_hidden_layer_deepness}, x_axis='hidden_layer_sizes',\n",
    "                             y_axis=['accuracy', 'precision', 'recall', 'f1'], logaritmic=False)"
   ],
   "metadata": {
    "collapsed": false,
    "is_executing": true
   },
   "id": "6fde751bf80131b0"
  },
  {
   "cell_type": "code",
   "outputs": [],
   "source": [
    "reload(evaluator)\n",
    "hyperparameters = {\n",
    "    'solver': 'adam',\n",
    "    'activation': 'relu',\n",
    "    'learning_rate': 'constant',\n",
    "    'learning_rate_init': 1e-3,\n",
    "    'hidden_layer_sizes': (15, 15, 15),\n",
    "    #'random_state': 7895,\n",
    "    #'max_iter': 800,\n",
    "    'verbose': False,\n",
    "    #'tol': 5e-5\n",
    "}\n",
    "hyperparameters_iterator = {'max_iter': range(50, 1000, 10)}\n",
    "nn_max_iter = evaluator.evaluate2(MLPClassifier, X_train, y_train, X_test, y_test, hyperparameters=hyperparameters,\n",
    "                                  hyperparameters_iterate=hyperparameters_iterator)\n",
    "evaluator.draw_diagram2_list({\"seattlecrime\": nn_max_iter}, x_axis='max_iter',\n",
    "                             y_axis=['accuracy', 'precision', 'recall', 'f1', 'time'], logaritmic=False)"
   ],
   "metadata": {
    "collapsed": false,
    "is_executing": true
   },
   "id": "42c3db85292c168f"
  },
  {
   "cell_type": "code",
   "outputs": [],
   "source": [
    "evaluator.draw_diagram2_list({\"seattlecrime\": nn_max_iter}, x_axis='max_iter',\n",
    "                             y_axis=['accuracy', 'precision', 'recall', 'f1', 'time'], logaritmic=False)\n",
    "reload(evaluator)\n",
    "hyperparameters = {\n",
    "    'solver': 'adam',\n",
    "    #'activation': 'relu',\n",
    "    'learning_rate': 'constant',\n",
    "    'learning_rate_init': 1e-3,\n",
    "    'hidden_layer_sizes': (15, 15, 15),\n",
    "    #'random_state': 7895,\n",
    "    'max_iter': 1000,\n",
    "    'verbose': False,\n",
    "    #'tol': 5e-5\n",
    "}\n",
    "hyperparameters_iterator = {'activation': ['identity', 'logistic', 'tanh', 'relu']}\n",
    "act_function1 = evaluator.evaluate2(MLPClassifier, X_train, y_train, X_test, y_test, hyperparameters=hyperparameters,\n",
    "                                    hyperparameters_iterate=hyperparameters_iterator)\n",
    "act_function2 = evaluator.evaluate2(MLPClassifier, X_train, y_train, X_test, y_test, hyperparameters=hyperparameters,\n",
    "                                    hyperparameters_iterate=hyperparameters_iterator)\n",
    "act_function3 = evaluator.evaluate2(MLPClassifier, X_train, y_train, X_test, y_test, hyperparameters=hyperparameters,\n",
    "                                    hyperparameters_iterate=hyperparameters_iterator)\n",
    "evaluator.draw_diagram2_list({\"breast1\": act_function1, \"breats2\": act_function2, \"breast3\": act_function3},\n",
    "                             x_axis='activation', y_axis=['accuracy', 'precision', 'recall', 'f1', 'time'],\n",
    "                             logaritmic=False)"
   ],
   "metadata": {
    "collapsed": false,
    "is_executing": true
   },
   "id": "6415b75736f850a"
  },
  {
   "cell_type": "markdown",
   "source": [
    "## Random Forest"
   ],
   "metadata": {
    "collapsed": false
   },
   "id": "7e65920b81cd45ca"
  },
  {
   "cell_type": "code",
   "outputs": [],
   "source": [
    "from itertools import chain\n",
    "\n",
    "hyperparameters = {\n",
    "    #'n_estimators': 100,\n",
    "    'criterion': 'gini',  # entropy, log_loss\n",
    "    'verbose': False,\n",
    "}\n",
    "hyperparameters_iterator = {'n_estimators': chain(range(1, 25, 1), range(25, 200, 2))}\n",
    "rf_n_estimators = evaluator.evaluate2(RandomForestClassifier, X_train, y_train, X_test, y_test,\n",
    "                                      hyperparameters=hyperparameters,\n",
    "                                      hyperparameters_iterate=hyperparameters_iterator)\n",
    "evaluator.draw_diagram2_list({\"seattlecrime\": rf_n_estimators}, x_axis='n_estimators',\n",
    "                             y_axis=['accuracy', 'precision', 'recall', 'f1', 'time'], logaritmic=False)"
   ],
   "metadata": {
    "collapsed": false,
    "is_executing": true
   },
   "id": "ef8062e946c7409"
  },
  {
   "cell_type": "code",
   "outputs": [],
   "source": [
    "reload(evaluator)\n",
    "hyperparameters = {\n",
    "    'n_estimators': 5,\n",
    "    #'criterion': 'gini', # entropy, log_loss\n",
    "    'verbose': False,\n",
    "}\n",
    "hyperparameters_iterator = {'criterion': ['gini', 'entropy', 'log_loss']}\n",
    "rf_criterion = evaluator.evaluate2(RandomForestClassifier, X_train, y_train, X_test, y_test,\n",
    "                                   hyperparameters=hyperparameters,\n",
    "                                   hyperparameters_iterate=hyperparameters_iterator)\n",
    "rf_criterion2 = evaluator.evaluate2(RandomForestClassifier, X_train, y_train, X_test, y_test,\n",
    "                                    hyperparameters=hyperparameters,\n",
    "                                    hyperparameters_iterate=hyperparameters_iterator)\n",
    "rf_criterion3 = evaluator.evaluate2(RandomForestClassifier, X_train, y_train, X_test, y_test,\n",
    "                                    hyperparameters=hyperparameters,\n",
    "                                    hyperparameters_iterate=hyperparameters_iterator)\n",
    "evaluator.draw_diagram2_list({\"breast1\": rf_criterion, \"breast2\": rf_criterion2, \"breats3\": rf_criterion3},\n",
    "                             x_axis='criterion', y_axis=['accuracy', 'precision', 'recall', 'f1', 'time'],\n",
    "                             logaritmic=False)"
   ],
   "metadata": {
    "collapsed": false,
    "is_executing": true
   },
   "id": "92d6016e74a8993"
  },
  {
   "cell_type": "markdown",
   "source": [
    "## Bayes"
   ],
   "metadata": {
    "collapsed": false
   },
   "id": "58a2cb2d536087f7"
  },
  {
   "cell_type": "code",
   "outputs": [],
   "source": [
    "reload(evaluator)\n",
    "\n",
    "classifiers = [GaussianNB, MultinomialNB, BernoulliNB]\n",
    "names = ['GaussianNB', 'MultinomialNB', 'BernoulliNB']\n",
    "\n",
    "bayes_results = evaluator.evaluate_classifier(classifiers, X_train, y_train, X_test, y_test,\n",
    "                                              hyperparameters=[{}, {}, {}, ], names=names, number_of_tests=10)\n",
    "evaluator.draw_diagram2_list({\"seattlecrime\": bayes_results}, x_axis='classifier',\n",
    "                             y_axis=['accuracy', 'precision', 'recall', 'f1', 'time'], logaritmic=False)"
   ],
   "metadata": {
    "collapsed": false,
    "is_executing": true
   },
   "id": "d30fb60a5a6e1ce7"
  },
  {
   "cell_type": "markdown",
   "source": [
    "## evaluate scalers"
   ],
   "metadata": {
    "collapsed": false
   },
   "id": "d70c004ef1e0b302"
  },
  {
   "cell_type": "code",
   "outputs": [],
   "source": [
    "reload(evaluator)\n",
    "hyperparameters = {\n",
    "    'solver': 'adam',\n",
    "    'activation': 'relu',\n",
    "    'learning_rate': 'constant',\n",
    "    'learning_rate_init': 1e-3,\n",
    "    'hidden_layer_sizes': (15, 15, 15),\n",
    "    #'random_state': 7895,\n",
    "    'max_iter': 1000,\n",
    "    'verbose': False,\n",
    "    #'tol': 5e-5\n",
    "}\n",
    "\n",
    "scaler_result = evaluator.evaluate_scaler(MLPClassifier, X_train=[X_train, X_train_std], y_train=[y_train, y_train],\n",
    "                                          X_test=[X_test, X_test_std], y_test=[y_test, y_test],\n",
    "                                          hyperparameters=hyperparameters, names=['MinMaxScaler', 'StandardScaler'],\n",
    "                                          number_of_tests=10)\n",
    "evaluator.draw_diagram2_list({\"seattlecrime\": scaler_result}, x_axis='scaler',\n",
    "                             y_axis=['accuracy', 'precision', 'recall', 'f1', 'time'], logaritmic=False)"
   ],
   "metadata": {
    "collapsed": false,
    "is_executing": true
   },
   "id": "51ed60d2183b0d71"
  },
  {
   "cell_type": "code",
   "outputs": [],
   "source": [
    "combined_results_creditg = {\n",
    "    # NN\n",
    "    'nn_learning_rate': nn_learning_rate,\n",
    "    'nn_hidden_layer': nn_hidden_layer,\n",
    "    'nn_max_iter': nn_max_iter,\n",
    "    'act_function': act_function1,\n",
    "    # RF\n",
    "    'rf_n_estimators': rf_n_estimators,\n",
    "    'rf_criterion': rf_criterion,\n",
    "    # Bayes\n",
    "    'bayes_results': bayes_results,\n",
    "    'scaler_result': scaler_result\n",
    "}\n",
    "import pickle\n",
    "\n",
    "with open('seattle_crime_results.pkl', 'wb') as f:\n",
    "    pickle.dump(combined_results_creditg, f)"
   ],
   "metadata": {
    "collapsed": false,
    "is_executing": true
   },
   "id": "de6a95571a0ac489"
  }
 ],
 "metadata": {
  "kernelspec": {
   "display_name": "Python 3",
   "language": "python",
   "name": "python3"
  },
  "language_info": {
   "codemirror_mode": {
    "name": "ipython",
    "version": 2
   },
   "file_extension": ".py",
   "mimetype": "text/x-python",
   "name": "python",
   "nbconvert_exporter": "python",
   "pygments_lexer": "ipython2",
   "version": "2.7.6"
  }
 },
 "nbformat": 4,
 "nbformat_minor": 5
}
