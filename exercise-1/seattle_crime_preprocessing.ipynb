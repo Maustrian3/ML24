{
 "cells": [
  {
   "cell_type": "code",
   "execution_count": 8,
   "id": "initial_id",
   "metadata": {
    "collapsed": true,
    "ExecuteTime": {
     "end_time": "2024-04-10T18:51:49.570343Z",
     "start_time": "2024-04-10T18:51:41.080668Z"
    }
   },
   "outputs": [
    {
     "data": {
      "text/plain": "        Report_Number  Occurred_Time  Reported_Time  \\\n0        1.975000e+12          900.0         1500.0   \n1        1.976000e+12            1.0         2359.0   \n2        1.979000e+12         1600.0         1430.0   \n3        1.981000e+13         2029.0         2030.0   \n4        1.981000e+12         2000.0          435.0   \n...               ...            ...            ...   \n523585   2.019000e+12         1713.0         1713.0   \n523586   2.019000e+12          730.0         1721.0   \n523587   2.019000e+12         1724.0         1724.0   \n523588   2.019000e+12         1750.0         1904.0   \n523589   2.019000e+12         1800.0         2237.0   \n\n                Crime_Subcategory   Primary_Offense_Description   Precinct  \\\n0            BURGLARY-RESIDENTIAL            BURGLARY-FORCE-RES      SOUTH   \n1               SEX OFFENSE-OTHER     SEXOFF-INDECENT LIBERTIES    UNKNOWN   \n2                       CAR PROWL                THEFT-CARPROWL       EAST   \n3                        HOMICIDE  HOMICIDE-PREMEDITATED-WEAPON      SOUTH   \n4            BURGLARY-RESIDENTIAL            BURGLARY-FORCE-RES  SOUTHWEST   \n...                           ...                           ...        ...   \n523585  FAMILY OFFENSE-NONVIOLENT                   CHILD-OTHER      SOUTH   \n523586       BURGLARY-RESIDENTIAL            BURGLARY-FORCE-RES       EAST   \n523587         ROBBERY-COMMERCIAL    ROBBERY-BUSINESS-BODYFORCE      SOUTH   \n523588             THEFT-SHOPLIFT                THEFT-SHOPLIFT      NORTH   \n523589            THEFT-ALL OTHER                     THEFT-OTH      NORTH   \n\n       Sector Beat                    Neighborhood  \n0           R   R3            LAKEWOOD/SEWARD PARK  \n1           ?    ?                         UNKNOWN  \n2           G   G2        CENTRAL AREA/SQUIRE PARK  \n3           S   S2                 BRIGHTON/DUNLAP  \n4           W   W3  ROXHILL/WESTWOOD/ARBOR HEIGHTS  \n...       ...  ...                             ...  \n523585      O   O3                 MID BEACON HILL  \n523586      C   C2            MONTLAKE/PORTAGE BAY  \n523587      S   S2                   RAINIER BEACH  \n523588      L   L2                       NORTHGATE  \n523589      N   N1                      BITTERLAKE  \n\n[523590 rows x 9 columns]",
      "text/html": "<div>\n<style scoped>\n    .dataframe tbody tr th:only-of-type {\n        vertical-align: middle;\n    }\n\n    .dataframe tbody tr th {\n        vertical-align: top;\n    }\n\n    .dataframe thead th {\n        text-align: right;\n    }\n</style>\n<table border=\"1\" class=\"dataframe\">\n  <thead>\n    <tr style=\"text-align: right;\">\n      <th></th>\n      <th>Report_Number</th>\n      <th>Occurred_Time</th>\n      <th>Reported_Time</th>\n      <th>Crime_Subcategory</th>\n      <th>Primary_Offense_Description</th>\n      <th>Precinct</th>\n      <th>Sector</th>\n      <th>Beat</th>\n      <th>Neighborhood</th>\n    </tr>\n  </thead>\n  <tbody>\n    <tr>\n      <th>0</th>\n      <td>1.975000e+12</td>\n      <td>900.0</td>\n      <td>1500.0</td>\n      <td>BURGLARY-RESIDENTIAL</td>\n      <td>BURGLARY-FORCE-RES</td>\n      <td>SOUTH</td>\n      <td>R</td>\n      <td>R3</td>\n      <td>LAKEWOOD/SEWARD PARK</td>\n    </tr>\n    <tr>\n      <th>1</th>\n      <td>1.976000e+12</td>\n      <td>1.0</td>\n      <td>2359.0</td>\n      <td>SEX OFFENSE-OTHER</td>\n      <td>SEXOFF-INDECENT LIBERTIES</td>\n      <td>UNKNOWN</td>\n      <td>?</td>\n      <td>?</td>\n      <td>UNKNOWN</td>\n    </tr>\n    <tr>\n      <th>2</th>\n      <td>1.979000e+12</td>\n      <td>1600.0</td>\n      <td>1430.0</td>\n      <td>CAR PROWL</td>\n      <td>THEFT-CARPROWL</td>\n      <td>EAST</td>\n      <td>G</td>\n      <td>G2</td>\n      <td>CENTRAL AREA/SQUIRE PARK</td>\n    </tr>\n    <tr>\n      <th>3</th>\n      <td>1.981000e+13</td>\n      <td>2029.0</td>\n      <td>2030.0</td>\n      <td>HOMICIDE</td>\n      <td>HOMICIDE-PREMEDITATED-WEAPON</td>\n      <td>SOUTH</td>\n      <td>S</td>\n      <td>S2</td>\n      <td>BRIGHTON/DUNLAP</td>\n    </tr>\n    <tr>\n      <th>4</th>\n      <td>1.981000e+12</td>\n      <td>2000.0</td>\n      <td>435.0</td>\n      <td>BURGLARY-RESIDENTIAL</td>\n      <td>BURGLARY-FORCE-RES</td>\n      <td>SOUTHWEST</td>\n      <td>W</td>\n      <td>W3</td>\n      <td>ROXHILL/WESTWOOD/ARBOR HEIGHTS</td>\n    </tr>\n    <tr>\n      <th>...</th>\n      <td>...</td>\n      <td>...</td>\n      <td>...</td>\n      <td>...</td>\n      <td>...</td>\n      <td>...</td>\n      <td>...</td>\n      <td>...</td>\n      <td>...</td>\n    </tr>\n    <tr>\n      <th>523585</th>\n      <td>2.019000e+12</td>\n      <td>1713.0</td>\n      <td>1713.0</td>\n      <td>FAMILY OFFENSE-NONVIOLENT</td>\n      <td>CHILD-OTHER</td>\n      <td>SOUTH</td>\n      <td>O</td>\n      <td>O3</td>\n      <td>MID BEACON HILL</td>\n    </tr>\n    <tr>\n      <th>523586</th>\n      <td>2.019000e+12</td>\n      <td>730.0</td>\n      <td>1721.0</td>\n      <td>BURGLARY-RESIDENTIAL</td>\n      <td>BURGLARY-FORCE-RES</td>\n      <td>EAST</td>\n      <td>C</td>\n      <td>C2</td>\n      <td>MONTLAKE/PORTAGE BAY</td>\n    </tr>\n    <tr>\n      <th>523587</th>\n      <td>2.019000e+12</td>\n      <td>1724.0</td>\n      <td>1724.0</td>\n      <td>ROBBERY-COMMERCIAL</td>\n      <td>ROBBERY-BUSINESS-BODYFORCE</td>\n      <td>SOUTH</td>\n      <td>S</td>\n      <td>S2</td>\n      <td>RAINIER BEACH</td>\n    </tr>\n    <tr>\n      <th>523588</th>\n      <td>2.019000e+12</td>\n      <td>1750.0</td>\n      <td>1904.0</td>\n      <td>THEFT-SHOPLIFT</td>\n      <td>THEFT-SHOPLIFT</td>\n      <td>NORTH</td>\n      <td>L</td>\n      <td>L2</td>\n      <td>NORTHGATE</td>\n    </tr>\n    <tr>\n      <th>523589</th>\n      <td>2.019000e+12</td>\n      <td>1800.0</td>\n      <td>2237.0</td>\n      <td>THEFT-ALL OTHER</td>\n      <td>THEFT-OTH</td>\n      <td>NORTH</td>\n      <td>N</td>\n      <td>N1</td>\n      <td>BITTERLAKE</td>\n    </tr>\n  </tbody>\n</table>\n<p>523590 rows × 9 columns</p>\n</div>"
     },
     "execution_count": 8,
     "metadata": {},
     "output_type": "execute_result"
    }
   ],
   "source": [
    "from scipy.io import arff\n",
    "import pandas as pd\n",
    "import matplotlib.pyplot as plt\n",
    "from sklearn.model_selection import train_test_split\n",
    "from sklearn.preprocessing import LabelEncoder, OneHotEncoder, OrdinalEncoder\n",
    "\n",
    "path = \"../datasets/\"\n",
    "data = arff.loadarff('%sSeattle_Crime_Data_06-23-2019-4.arff' % path)\n",
    "df = pd.DataFrame(data[0])\n",
    "for column in df.columns:\n",
    "    # decode bytes to string for each column\n",
    "    df[column] = df[column].apply(lambda x: x.decode() if isinstance(x, bytes) else x)\n",
    "\n",
    "df"
   ]
  },
  {
   "cell_type": "code",
   "outputs": [
    {
     "name": "stdout",
     "output_type": "stream",
     "text": [
      "Report_Number========================================\n",
      "Report_Number\n",
      "1.975000e+12    1\n",
      "2.015000e+13    1\n",
      "2.015000e+13    1\n",
      "2.015000e+13    1\n",
      "2.015000e+13    1\n",
      "               ..\n",
      "2.012000e+13    1\n",
      "2.012000e+13    1\n",
      "2.012000e+13    1\n",
      "2.012000e+13    1\n",
      "2.019000e+12    1\n",
      "Name: count, Length: 523590, dtype: int64\n",
      "Occurred_Time========================================\n",
      "Occurred_Time\n",
      "2200.0    13858\n",
      "1800.0    13804\n",
      "0.0       13420\n",
      "2000.0    12836\n",
      "1200.0    12598\n",
      "          ...  \n",
      "649.0        40\n",
      "607.0        39\n",
      "546.0        39\n",
      "627.0        37\n",
      "551.0        36\n",
      "Name: count, Length: 1440, dtype: int64\n",
      "Reported_Time========================================\n",
      "Reported_Time\n",
      "1300.0    824\n",
      "1600.0    809\n",
      "1530.0    799\n",
      "1400.0    790\n",
      "1230.0    787\n",
      "         ... \n",
      "501.0      89\n",
      "333.0      89\n",
      "542.0      85\n",
      "417.0      85\n",
      "349.0      85\n",
      "Name: count, Length: 1440, dtype: int64\n",
      "Crime_Subcategory========================================\n",
      "Crime_Subcategory\n",
      "CAR PROWL                              148263\n",
      "THEFT-ALL OTHER                         54419\n",
      "THEFT-SHOPLIFT                          48638\n",
      "BURGLARY-RESIDENTIAL                    46843\n",
      "MOTOR VEHICLE THEFT                     43529\n",
      "BURGLARY-COMMERCIAL                     23531\n",
      "THEFT-BUILDING                          21438\n",
      "TRESPASS                                17722\n",
      "NARCOTIC                                17381\n",
      "AGGRAVATED ASSAULT                      15640\n",
      "DUI                                     12838\n",
      "ROBBERY-STREET                          11882\n",
      "THEFT-BICYCLE                           11091\n",
      "BURGLARY-RESIDENTIAL-SECURE PARKING      8852\n",
      "AGGRAVATED ASSAULT-DV                    6922\n",
      "FAMILY OFFENSE-NONVIOLENT                6855\n",
      "SEX OFFENSE-OTHER                        6396\n",
      "WEAPON                                   4987\n",
      "ROBBERY-COMMERCIAL                       4660\n",
      "PROSTITUTION                             3609\n",
      "RAPE                                     2023\n",
      "LIQUOR LAW VIOLATION                     1651\n",
      "BURGLARY-COMMERCIAL-SECURE PARKING       1164\n",
      "ARSON                                    1071\n",
      "ROBBERY-RESIDENTIAL                      1062\n",
      "DISORDERLY CONDUCT                        283\n",
      "HOMICIDE                                  275\n",
      "?                                         262\n",
      "PORNOGRAPHY                               195\n",
      "LOITERING                                  91\n",
      "GAMBLE                                     17\n",
      "Name: count, dtype: int64\n",
      "Primary_Offense_Description========================================\n",
      "Primary_Offense_Description\n",
      "THEFT-CARPROWL                   131297\n",
      "THEFT-SHOPLIFT                    48638\n",
      "THEFT-OTH                         47275\n",
      "VEH-THEFT-AUTO                    37840\n",
      "BURGLARY-FORCE-RES                27984\n",
      "                                  ...  \n",
      "NARC-SMUGGLE-HEROIN                   1\n",
      "HOMICIDE-NEG-MANS-GUN                 1\n",
      "NARC-SELL-BARBITUATE                  1\n",
      "NARC-MANUFACTURE-HALLUCINOGEN         1\n",
      "HOMICIDE-NEG-MANS-WEAPON              1\n",
      "Name: count, Length: 144, dtype: int64\n",
      "Precinct========================================\n",
      "Precinct\n",
      "NORTH        168392\n",
      "WEST         150613\n",
      "EAST          77475\n",
      "SOUTH         74426\n",
      "SOUTHWEST     49332\n",
      "UNKNOWN        3346\n",
      "?                 6\n",
      "Name: count, dtype: int64\n",
      "Sector========================================\n",
      "Sector\n",
      "M       42976\n",
      "U       40699\n",
      "K       38022\n",
      "B       37984\n",
      "D       35435\n",
      "E       35038\n",
      "Q       34180\n",
      "R       32278\n",
      "L       31833\n",
      "N       29150\n",
      "J       28726\n",
      "S       26476\n",
      "W       25745\n",
      "F       23587\n",
      "C       22597\n",
      "G       19840\n",
      "O       15672\n",
      "?        3346\n",
      "W2          1\n",
      "H           1\n",
      "SW          1\n",
      "6804        1\n",
      "SE          1\n",
      "9512        1\n",
      "Name: count, dtype: int64\n",
      "Beat========================================\n",
      "Beat\n",
      "K3      16939\n",
      "U1      14989\n",
      "M1      14547\n",
      "L2      14532\n",
      "Q3      14329\n",
      "        ...  \n",
      "H1          1\n",
      "CS          1\n",
      "LAPT        1\n",
      "WS          1\n",
      "K           1\n",
      "Name: count, Length: 65, dtype: int64\n",
      "Neighborhood========================================\n",
      "Neighborhood\n",
      "DOWNTOWN COMMERCIAL                 48942\n",
      "NORTHGATE                           30820\n",
      "CAPITOL HILL                        30735\n",
      "QUEEN ANNE                          27402\n",
      "SLU/CASCADE                         23343\n",
      "UNIVERSITY                          20868\n",
      "ROOSEVELT/RAVENNA                   19451\n",
      "BALLARD SOUTH                       15611\n",
      "CHINATOWN/INTERNATIONAL DISTRICT    15401\n",
      "BELLTOWN                            15370\n",
      "FIRST HILL                          13991\n",
      "LAKECITY                            13563\n",
      "CENTRAL AREA/SQUIRE PARK            12217\n",
      "GREENWOOD                           11405\n",
      "BALLARD NORTH                       11109\n",
      "SANDPOINT                           10649\n",
      "FREMONT                             10242\n",
      "WALLINGFORD                         10008\n",
      "BITTERLAKE                           9998\n",
      "NORTH BEACON HILL                    9282\n",
      "SODO                                 8889\n",
      "PIONEER SQUARE                       8817\n",
      "ROXHILL/WESTWOOD/ARBOR HEIGHTS       8220\n",
      "MAGNOLIA                             7875\n",
      "ALASKA JUNCTION                      7089\n",
      "BRIGHTON/DUNLAP                      7070\n",
      "MOUNT BAKER                          7029\n",
      "MADRONA/LESCHI                       6568\n",
      "GEORGETOWN                           6003\n",
      "RAINIER BEACH                        5880\n",
      "MID BEACON HILL                      5865\n",
      "HIGHLAND PARK                        5633\n",
      "RAINIER VIEW                         5492\n",
      "NORTH ADMIRAL                        4953\n",
      "PHINNEY RIDGE                        4675\n",
      "MORGAN                               4471\n",
      "JUDKINS PARK/NORTH BEACON HILL       4140\n",
      "SOUTH PARK                           4029\n",
      "MONTLAKE/PORTAGE BAY                 3719\n",
      "NORTH DELRIDGE                       3554\n",
      "EASTLAKE - WEST                      3465\n",
      "HIGH POINT                           3445\n",
      "MILLER PARK                          3433\n",
      "LAKEWOOD/SEWARD PARK                 3396\n",
      "COLUMBIA CITY                        3385\n",
      "UNKNOWN                              3366\n",
      "NEW HOLLY                            3194\n",
      "HILLMAN CITY                         2632\n",
      "CLAREMONT/RAINIER VISTA              2507\n",
      "ALKI                                 2485\n",
      "FAUNTLEROY SW                        2375\n",
      "SOUTH BEACON HILL                    2251\n",
      "SOUTH DELRIDGE                       1973\n",
      "MADISON PARK                         1789\n",
      "GENESEE                              1552\n",
      "EASTLAKE - EAST                       860\n",
      "PIGEON POINT                          609\n",
      "COMMERCIAL DUWAMISH                   318\n",
      "COMMERCIAL HARBOR ISLAND              177\n",
      "Name: count, dtype: int64\n"
     ]
    }
   ],
   "source": [
    "for column in df.columns:\n",
    "    if df.columns.dtype == object:\n",
    "        print(column + \"=\" * 40)\n",
    "        value_counts = df[column].value_counts()\n",
    "        print(value_counts)\n"
   ],
   "metadata": {
    "collapsed": false,
    "ExecuteTime": {
     "end_time": "2024-04-10T18:51:49.979208Z",
     "start_time": "2024-04-10T18:51:49.571859Z"
    }
   },
   "id": "d2af7d4eb4df59ab",
   "execution_count": 9
  },
  {
   "cell_type": "markdown",
   "source": [
    "# Preprocessing"
   ],
   "metadata": {
    "collapsed": false
   },
   "id": "6c0a35b0d88701ef"
  },
  {
   "cell_type": "code",
   "outputs": [
    {
     "name": "stdout",
     "output_type": "stream",
     "text": [
      "Index(['Report_Number', 'Occurred_Time', 'Reported_Time', 'Crime_Subcategory',\n",
      "       'Primary_Offense_Description', 'Precinct', 'Sector', 'Beat',\n",
      "       'Neighborhood'],\n",
      "      dtype='object')\n"
     ]
    },
    {
     "data": {
      "text/plain": "        Occurred_Time  Reported_Time          Crime_Subcategory  \\\n0               900.0         1500.0       BURGLARY-RESIDENTIAL   \n1                 1.0         2359.0          SEX OFFENSE-OTHER   \n2              1600.0         1430.0                  CAR PROWL   \n3              2029.0         2030.0                   HOMICIDE   \n4              2000.0          435.0       BURGLARY-RESIDENTIAL   \n...               ...            ...                        ...   \n523585         1713.0         1713.0  FAMILY OFFENSE-NONVIOLENT   \n523586          730.0         1721.0       BURGLARY-RESIDENTIAL   \n523587         1724.0         1724.0         ROBBERY-COMMERCIAL   \n523588         1750.0         1904.0             THEFT-SHOPLIFT   \n523589         1800.0         2237.0            THEFT-ALL OTHER   \n\n         Primary_Offense_Description   Precinct Sector Beat  \\\n0                 BURGLARY-FORCE-RES      SOUTH      R   R3   \n1          SEXOFF-INDECENT LIBERTIES    UNKNOWN      ?    ?   \n2                     THEFT-CARPROWL       EAST      G   G2   \n3       HOMICIDE-PREMEDITATED-WEAPON      SOUTH      S   S2   \n4                 BURGLARY-FORCE-RES  SOUTHWEST      W   W3   \n...                              ...        ...    ...  ...   \n523585                   CHILD-OTHER      SOUTH      O   O3   \n523586            BURGLARY-FORCE-RES       EAST      C   C2   \n523587    ROBBERY-BUSINESS-BODYFORCE      SOUTH      S   S2   \n523588                THEFT-SHOPLIFT      NORTH      L   L2   \n523589                     THEFT-OTH      NORTH      N   N1   \n\n                          Neighborhood  \n0                 LAKEWOOD/SEWARD PARK  \n1                              UNKNOWN  \n2             CENTRAL AREA/SQUIRE PARK  \n3                      BRIGHTON/DUNLAP  \n4       ROXHILL/WESTWOOD/ARBOR HEIGHTS  \n...                                ...  \n523585                 MID BEACON HILL  \n523586            MONTLAKE/PORTAGE BAY  \n523587                   RAINIER BEACH  \n523588                       NORTHGATE  \n523589                      BITTERLAKE  \n\n[523590 rows x 8 columns]",
      "text/html": "<div>\n<style scoped>\n    .dataframe tbody tr th:only-of-type {\n        vertical-align: middle;\n    }\n\n    .dataframe tbody tr th {\n        vertical-align: top;\n    }\n\n    .dataframe thead th {\n        text-align: right;\n    }\n</style>\n<table border=\"1\" class=\"dataframe\">\n  <thead>\n    <tr style=\"text-align: right;\">\n      <th></th>\n      <th>Occurred_Time</th>\n      <th>Reported_Time</th>\n      <th>Crime_Subcategory</th>\n      <th>Primary_Offense_Description</th>\n      <th>Precinct</th>\n      <th>Sector</th>\n      <th>Beat</th>\n      <th>Neighborhood</th>\n    </tr>\n  </thead>\n  <tbody>\n    <tr>\n      <th>0</th>\n      <td>900.0</td>\n      <td>1500.0</td>\n      <td>BURGLARY-RESIDENTIAL</td>\n      <td>BURGLARY-FORCE-RES</td>\n      <td>SOUTH</td>\n      <td>R</td>\n      <td>R3</td>\n      <td>LAKEWOOD/SEWARD PARK</td>\n    </tr>\n    <tr>\n      <th>1</th>\n      <td>1.0</td>\n      <td>2359.0</td>\n      <td>SEX OFFENSE-OTHER</td>\n      <td>SEXOFF-INDECENT LIBERTIES</td>\n      <td>UNKNOWN</td>\n      <td>?</td>\n      <td>?</td>\n      <td>UNKNOWN</td>\n    </tr>\n    <tr>\n      <th>2</th>\n      <td>1600.0</td>\n      <td>1430.0</td>\n      <td>CAR PROWL</td>\n      <td>THEFT-CARPROWL</td>\n      <td>EAST</td>\n      <td>G</td>\n      <td>G2</td>\n      <td>CENTRAL AREA/SQUIRE PARK</td>\n    </tr>\n    <tr>\n      <th>3</th>\n      <td>2029.0</td>\n      <td>2030.0</td>\n      <td>HOMICIDE</td>\n      <td>HOMICIDE-PREMEDITATED-WEAPON</td>\n      <td>SOUTH</td>\n      <td>S</td>\n      <td>S2</td>\n      <td>BRIGHTON/DUNLAP</td>\n    </tr>\n    <tr>\n      <th>4</th>\n      <td>2000.0</td>\n      <td>435.0</td>\n      <td>BURGLARY-RESIDENTIAL</td>\n      <td>BURGLARY-FORCE-RES</td>\n      <td>SOUTHWEST</td>\n      <td>W</td>\n      <td>W3</td>\n      <td>ROXHILL/WESTWOOD/ARBOR HEIGHTS</td>\n    </tr>\n    <tr>\n      <th>...</th>\n      <td>...</td>\n      <td>...</td>\n      <td>...</td>\n      <td>...</td>\n      <td>...</td>\n      <td>...</td>\n      <td>...</td>\n      <td>...</td>\n    </tr>\n    <tr>\n      <th>523585</th>\n      <td>1713.0</td>\n      <td>1713.0</td>\n      <td>FAMILY OFFENSE-NONVIOLENT</td>\n      <td>CHILD-OTHER</td>\n      <td>SOUTH</td>\n      <td>O</td>\n      <td>O3</td>\n      <td>MID BEACON HILL</td>\n    </tr>\n    <tr>\n      <th>523586</th>\n      <td>730.0</td>\n      <td>1721.0</td>\n      <td>BURGLARY-RESIDENTIAL</td>\n      <td>BURGLARY-FORCE-RES</td>\n      <td>EAST</td>\n      <td>C</td>\n      <td>C2</td>\n      <td>MONTLAKE/PORTAGE BAY</td>\n    </tr>\n    <tr>\n      <th>523587</th>\n      <td>1724.0</td>\n      <td>1724.0</td>\n      <td>ROBBERY-COMMERCIAL</td>\n      <td>ROBBERY-BUSINESS-BODYFORCE</td>\n      <td>SOUTH</td>\n      <td>S</td>\n      <td>S2</td>\n      <td>RAINIER BEACH</td>\n    </tr>\n    <tr>\n      <th>523588</th>\n      <td>1750.0</td>\n      <td>1904.0</td>\n      <td>THEFT-SHOPLIFT</td>\n      <td>THEFT-SHOPLIFT</td>\n      <td>NORTH</td>\n      <td>L</td>\n      <td>L2</td>\n      <td>NORTHGATE</td>\n    </tr>\n    <tr>\n      <th>523589</th>\n      <td>1800.0</td>\n      <td>2237.0</td>\n      <td>THEFT-ALL OTHER</td>\n      <td>THEFT-OTH</td>\n      <td>NORTH</td>\n      <td>N</td>\n      <td>N1</td>\n      <td>BITTERLAKE</td>\n    </tr>\n  </tbody>\n</table>\n<p>523590 rows × 8 columns</p>\n</div>"
     },
     "execution_count": 10,
     "metadata": {},
     "output_type": "execute_result"
    }
   ],
   "source": [
    "print(df.columns)\n",
    "df = df.drop('Report_Number', axis=1)\n",
    "df"
   ],
   "metadata": {
    "collapsed": false,
    "ExecuteTime": {
     "end_time": "2024-04-10T18:51:50.046108Z",
     "start_time": "2024-04-10T18:51:49.980284Z"
    }
   },
   "id": "e95f708475373d93",
   "execution_count": 10
  },
  {
   "cell_type": "code",
   "outputs": [
    {
     "data": {
      "text/plain": "        Occurred_Time  Reported_Time  Crime_Subcategory  \\\n0               900.0         1500.0                6.0   \n1                 1.0         2359.0               24.0   \n2              1600.0         1430.0                8.0   \n3              2029.0         2030.0               13.0   \n4              2000.0          435.0                6.0   \n...               ...            ...                ...   \n523585         1713.0         1713.0               11.0   \n523586          730.0         1721.0                6.0   \n523587         1724.0         1724.0               21.0   \n523588         1750.0         1904.0               28.0   \n523589         1800.0         2237.0               25.0   \n\n        Primary_Offense_Description  Sector  Beat  Neighborhood  Precinct_?  \\\n0                              18.0    17.0  50.0          28.0         0.0   \n1                             112.0     2.0   0.0          57.0         0.0   \n2                             123.0     8.0  20.0           8.0         0.0   \n3                              43.0    18.0  53.0           6.0         0.0   \n4                              18.0    22.0  62.0          49.0         0.0   \n...                             ...     ...   ...           ...         ...   \n523585                         29.0    15.0  44.0          32.0         0.0   \n523586                         18.0     4.0   5.0          34.0         0.0   \n523587                         99.0    18.0  53.0          46.0         0.0   \n523588                        130.0    12.0  32.0          41.0         0.0   \n523589                        127.0    14.0  39.0           5.0         0.0   \n\n        Precinct_EAST  Precinct_NORTH  Precinct_SOUTH  Precinct_SOUTHWEST  \\\n0                 0.0             0.0             1.0                 0.0   \n1                 0.0             0.0             0.0                 0.0   \n2                 1.0             0.0             0.0                 0.0   \n3                 0.0             0.0             1.0                 0.0   \n4                 0.0             0.0             0.0                 1.0   \n...               ...             ...             ...                 ...   \n523585            0.0             0.0             1.0                 0.0   \n523586            1.0             0.0             0.0                 0.0   \n523587            0.0             0.0             1.0                 0.0   \n523588            0.0             1.0             0.0                 0.0   \n523589            0.0             1.0             0.0                 0.0   \n\n        Precinct_UNKNOWN  Precinct_WEST  \n0                    0.0            0.0  \n1                    1.0            0.0  \n2                    0.0            0.0  \n3                    0.0            0.0  \n4                    0.0            0.0  \n...                  ...            ...  \n523585               0.0            0.0  \n523586               0.0            0.0  \n523587               0.0            0.0  \n523588               0.0            0.0  \n523589               0.0            0.0  \n\n[523590 rows x 14 columns]",
      "text/html": "<div>\n<style scoped>\n    .dataframe tbody tr th:only-of-type {\n        vertical-align: middle;\n    }\n\n    .dataframe tbody tr th {\n        vertical-align: top;\n    }\n\n    .dataframe thead th {\n        text-align: right;\n    }\n</style>\n<table border=\"1\" class=\"dataframe\">\n  <thead>\n    <tr style=\"text-align: right;\">\n      <th></th>\n      <th>Occurred_Time</th>\n      <th>Reported_Time</th>\n      <th>Crime_Subcategory</th>\n      <th>Primary_Offense_Description</th>\n      <th>Sector</th>\n      <th>Beat</th>\n      <th>Neighborhood</th>\n      <th>Precinct_?</th>\n      <th>Precinct_EAST</th>\n      <th>Precinct_NORTH</th>\n      <th>Precinct_SOUTH</th>\n      <th>Precinct_SOUTHWEST</th>\n      <th>Precinct_UNKNOWN</th>\n      <th>Precinct_WEST</th>\n    </tr>\n  </thead>\n  <tbody>\n    <tr>\n      <th>0</th>\n      <td>900.0</td>\n      <td>1500.0</td>\n      <td>6.0</td>\n      <td>18.0</td>\n      <td>17.0</td>\n      <td>50.0</td>\n      <td>28.0</td>\n      <td>0.0</td>\n      <td>0.0</td>\n      <td>0.0</td>\n      <td>1.0</td>\n      <td>0.0</td>\n      <td>0.0</td>\n      <td>0.0</td>\n    </tr>\n    <tr>\n      <th>1</th>\n      <td>1.0</td>\n      <td>2359.0</td>\n      <td>24.0</td>\n      <td>112.0</td>\n      <td>2.0</td>\n      <td>0.0</td>\n      <td>57.0</td>\n      <td>0.0</td>\n      <td>0.0</td>\n      <td>0.0</td>\n      <td>0.0</td>\n      <td>0.0</td>\n      <td>1.0</td>\n      <td>0.0</td>\n    </tr>\n    <tr>\n      <th>2</th>\n      <td>1600.0</td>\n      <td>1430.0</td>\n      <td>8.0</td>\n      <td>123.0</td>\n      <td>8.0</td>\n      <td>20.0</td>\n      <td>8.0</td>\n      <td>0.0</td>\n      <td>1.0</td>\n      <td>0.0</td>\n      <td>0.0</td>\n      <td>0.0</td>\n      <td>0.0</td>\n      <td>0.0</td>\n    </tr>\n    <tr>\n      <th>3</th>\n      <td>2029.0</td>\n      <td>2030.0</td>\n      <td>13.0</td>\n      <td>43.0</td>\n      <td>18.0</td>\n      <td>53.0</td>\n      <td>6.0</td>\n      <td>0.0</td>\n      <td>0.0</td>\n      <td>0.0</td>\n      <td>1.0</td>\n      <td>0.0</td>\n      <td>0.0</td>\n      <td>0.0</td>\n    </tr>\n    <tr>\n      <th>4</th>\n      <td>2000.0</td>\n      <td>435.0</td>\n      <td>6.0</td>\n      <td>18.0</td>\n      <td>22.0</td>\n      <td>62.0</td>\n      <td>49.0</td>\n      <td>0.0</td>\n      <td>0.0</td>\n      <td>0.0</td>\n      <td>0.0</td>\n      <td>1.0</td>\n      <td>0.0</td>\n      <td>0.0</td>\n    </tr>\n    <tr>\n      <th>...</th>\n      <td>...</td>\n      <td>...</td>\n      <td>...</td>\n      <td>...</td>\n      <td>...</td>\n      <td>...</td>\n      <td>...</td>\n      <td>...</td>\n      <td>...</td>\n      <td>...</td>\n      <td>...</td>\n      <td>...</td>\n      <td>...</td>\n      <td>...</td>\n    </tr>\n    <tr>\n      <th>523585</th>\n      <td>1713.0</td>\n      <td>1713.0</td>\n      <td>11.0</td>\n      <td>29.0</td>\n      <td>15.0</td>\n      <td>44.0</td>\n      <td>32.0</td>\n      <td>0.0</td>\n      <td>0.0</td>\n      <td>0.0</td>\n      <td>1.0</td>\n      <td>0.0</td>\n      <td>0.0</td>\n      <td>0.0</td>\n    </tr>\n    <tr>\n      <th>523586</th>\n      <td>730.0</td>\n      <td>1721.0</td>\n      <td>6.0</td>\n      <td>18.0</td>\n      <td>4.0</td>\n      <td>5.0</td>\n      <td>34.0</td>\n      <td>0.0</td>\n      <td>1.0</td>\n      <td>0.0</td>\n      <td>0.0</td>\n      <td>0.0</td>\n      <td>0.0</td>\n      <td>0.0</td>\n    </tr>\n    <tr>\n      <th>523587</th>\n      <td>1724.0</td>\n      <td>1724.0</td>\n      <td>21.0</td>\n      <td>99.0</td>\n      <td>18.0</td>\n      <td>53.0</td>\n      <td>46.0</td>\n      <td>0.0</td>\n      <td>0.0</td>\n      <td>0.0</td>\n      <td>1.0</td>\n      <td>0.0</td>\n      <td>0.0</td>\n      <td>0.0</td>\n    </tr>\n    <tr>\n      <th>523588</th>\n      <td>1750.0</td>\n      <td>1904.0</td>\n      <td>28.0</td>\n      <td>130.0</td>\n      <td>12.0</td>\n      <td>32.0</td>\n      <td>41.0</td>\n      <td>0.0</td>\n      <td>0.0</td>\n      <td>1.0</td>\n      <td>0.0</td>\n      <td>0.0</td>\n      <td>0.0</td>\n      <td>0.0</td>\n    </tr>\n    <tr>\n      <th>523589</th>\n      <td>1800.0</td>\n      <td>2237.0</td>\n      <td>25.0</td>\n      <td>127.0</td>\n      <td>14.0</td>\n      <td>39.0</td>\n      <td>5.0</td>\n      <td>0.0</td>\n      <td>0.0</td>\n      <td>1.0</td>\n      <td>0.0</td>\n      <td>0.0</td>\n      <td>0.0</td>\n      <td>0.0</td>\n    </tr>\n  </tbody>\n</table>\n<p>523590 rows × 14 columns</p>\n</div>"
     },
     "execution_count": 11,
     "metadata": {},
     "output_type": "execute_result"
    }
   ],
   "source": [
    "one_hot_encoding_limit = 10\n",
    "\n",
    "ordinal_Encoder = OrdinalEncoder()\n",
    "one_hot_encoder = OneHotEncoder()\n",
    "\n",
    "for column in df.columns:\n",
    "    if column in ['Occurred_Time', 'Reported_Time']:\n",
    "        continue\n",
    "\n",
    "    unique_values = df[column].nunique()\n",
    "\n",
    "    if unique_values == 1:\n",
    "        data.drop(column)\n",
    "        continue\n",
    "    if unique_values <= one_hot_encoding_limit:\n",
    "        encoded_features = one_hot_encoder.fit_transform(df[[column]])\n",
    "        encoded_features_df = pd.DataFrame(encoded_features.toarray(),\n",
    "                                           columns=one_hot_encoder.get_feature_names_out([column]))\n",
    "        df = pd.concat([df, encoded_features_df], axis=1)\n",
    "        df.drop(column, axis=1, inplace=True)\n",
    "    else:\n",
    "        df[column] = ordinal_Encoder.fit_transform(df[[column]])\n",
    "\n",
    "df"
   ],
   "metadata": {
    "collapsed": false,
    "ExecuteTime": {
     "end_time": "2024-04-10T18:51:51.432345Z",
     "start_time": "2024-04-10T18:51:50.048124Z"
    }
   },
   "id": "fc7a5108075763f7",
   "execution_count": 11
  },
  {
   "cell_type": "code",
   "outputs": [
    {
     "data": {
      "text/plain": "        Occurred_Time  Reported_Time  Crime_Subcategory  Sector  Beat  \\\n6916           2108.0         2108.0               17.0    14.0  41.0   \n70131          2100.0          623.0                6.0    14.0  40.0   \n64578          2130.0         1033.0               16.0     5.0  11.0   \n30304          2150.0         2335.0               17.0    18.0  52.0   \n218777         1858.0         1858.0               25.0    18.0  53.0   \n...               ...            ...                ...     ...   ...   \n259178          711.0          711.0                2.0    10.0  26.0   \n365838          500.0          822.0                8.0    10.0  26.0   \n131932         1135.0         1151.0               28.0    13.0  37.0   \n146867         2100.0          105.0                6.0    21.0  56.0   \n121958         1952.0         1952.0                1.0    13.0  37.0   \n\n        Neighborhood  Precinct_?  Precinct_EAST  Precinct_NORTH  \\\n6916            41.0         0.0            0.0             1.0   \n70131            5.0         0.0            0.0             1.0   \n64578           51.0         0.0            0.0             0.0   \n30304           37.0         0.0            0.0             0.0   \n218777           6.0         0.0            0.0             0.0   \n...              ...         ...            ...             ...   \n259178          22.0         0.0            0.0             1.0   \n365838          48.0         0.0            0.0             1.0   \n131932          14.0         0.0            0.0             0.0   \n146867          48.0         0.0            0.0             1.0   \n121958          14.0         0.0            0.0             0.0   \n\n        Precinct_SOUTH  Precinct_SOUTHWEST  Precinct_UNKNOWN  Precinct_WEST  \n6916               0.0                 0.0               0.0            0.0  \n70131              0.0                 0.0               0.0            0.0  \n64578              0.0                 0.0               0.0            1.0  \n30304              1.0                 0.0               0.0            0.0  \n218777             1.0                 0.0               0.0            0.0  \n...                ...                 ...               ...            ...  \n259178             0.0                 0.0               0.0            0.0  \n365838             0.0                 0.0               0.0            0.0  \n131932             0.0                 0.0               0.0            1.0  \n146867             0.0                 0.0               0.0            0.0  \n121958             0.0                 0.0               0.0            1.0  \n\n[418872 rows x 13 columns]",
      "text/html": "<div>\n<style scoped>\n    .dataframe tbody tr th:only-of-type {\n        vertical-align: middle;\n    }\n\n    .dataframe tbody tr th {\n        vertical-align: top;\n    }\n\n    .dataframe thead th {\n        text-align: right;\n    }\n</style>\n<table border=\"1\" class=\"dataframe\">\n  <thead>\n    <tr style=\"text-align: right;\">\n      <th></th>\n      <th>Occurred_Time</th>\n      <th>Reported_Time</th>\n      <th>Crime_Subcategory</th>\n      <th>Sector</th>\n      <th>Beat</th>\n      <th>Neighborhood</th>\n      <th>Precinct_?</th>\n      <th>Precinct_EAST</th>\n      <th>Precinct_NORTH</th>\n      <th>Precinct_SOUTH</th>\n      <th>Precinct_SOUTHWEST</th>\n      <th>Precinct_UNKNOWN</th>\n      <th>Precinct_WEST</th>\n    </tr>\n  </thead>\n  <tbody>\n    <tr>\n      <th>6916</th>\n      <td>2108.0</td>\n      <td>2108.0</td>\n      <td>17.0</td>\n      <td>14.0</td>\n      <td>41.0</td>\n      <td>41.0</td>\n      <td>0.0</td>\n      <td>0.0</td>\n      <td>1.0</td>\n      <td>0.0</td>\n      <td>0.0</td>\n      <td>0.0</td>\n      <td>0.0</td>\n    </tr>\n    <tr>\n      <th>70131</th>\n      <td>2100.0</td>\n      <td>623.0</td>\n      <td>6.0</td>\n      <td>14.0</td>\n      <td>40.0</td>\n      <td>5.0</td>\n      <td>0.0</td>\n      <td>0.0</td>\n      <td>1.0</td>\n      <td>0.0</td>\n      <td>0.0</td>\n      <td>0.0</td>\n      <td>0.0</td>\n    </tr>\n    <tr>\n      <th>64578</th>\n      <td>2130.0</td>\n      <td>1033.0</td>\n      <td>16.0</td>\n      <td>5.0</td>\n      <td>11.0</td>\n      <td>51.0</td>\n      <td>0.0</td>\n      <td>0.0</td>\n      <td>0.0</td>\n      <td>0.0</td>\n      <td>0.0</td>\n      <td>0.0</td>\n      <td>1.0</td>\n    </tr>\n    <tr>\n      <th>30304</th>\n      <td>2150.0</td>\n      <td>2335.0</td>\n      <td>17.0</td>\n      <td>18.0</td>\n      <td>52.0</td>\n      <td>37.0</td>\n      <td>0.0</td>\n      <td>0.0</td>\n      <td>0.0</td>\n      <td>1.0</td>\n      <td>0.0</td>\n      <td>0.0</td>\n      <td>0.0</td>\n    </tr>\n    <tr>\n      <th>218777</th>\n      <td>1858.0</td>\n      <td>1858.0</td>\n      <td>25.0</td>\n      <td>18.0</td>\n      <td>53.0</td>\n      <td>6.0</td>\n      <td>0.0</td>\n      <td>0.0</td>\n      <td>0.0</td>\n      <td>1.0</td>\n      <td>0.0</td>\n      <td>0.0</td>\n      <td>0.0</td>\n    </tr>\n    <tr>\n      <th>...</th>\n      <td>...</td>\n      <td>...</td>\n      <td>...</td>\n      <td>...</td>\n      <td>...</td>\n      <td>...</td>\n      <td>...</td>\n      <td>...</td>\n      <td>...</td>\n      <td>...</td>\n      <td>...</td>\n      <td>...</td>\n      <td>...</td>\n    </tr>\n    <tr>\n      <th>259178</th>\n      <td>711.0</td>\n      <td>711.0</td>\n      <td>2.0</td>\n      <td>10.0</td>\n      <td>26.0</td>\n      <td>22.0</td>\n      <td>0.0</td>\n      <td>0.0</td>\n      <td>1.0</td>\n      <td>0.0</td>\n      <td>0.0</td>\n      <td>0.0</td>\n      <td>0.0</td>\n    </tr>\n    <tr>\n      <th>365838</th>\n      <td>500.0</td>\n      <td>822.0</td>\n      <td>8.0</td>\n      <td>10.0</td>\n      <td>26.0</td>\n      <td>48.0</td>\n      <td>0.0</td>\n      <td>0.0</td>\n      <td>1.0</td>\n      <td>0.0</td>\n      <td>0.0</td>\n      <td>0.0</td>\n      <td>0.0</td>\n    </tr>\n    <tr>\n      <th>131932</th>\n      <td>1135.0</td>\n      <td>1151.0</td>\n      <td>28.0</td>\n      <td>13.0</td>\n      <td>37.0</td>\n      <td>14.0</td>\n      <td>0.0</td>\n      <td>0.0</td>\n      <td>0.0</td>\n      <td>0.0</td>\n      <td>0.0</td>\n      <td>0.0</td>\n      <td>1.0</td>\n    </tr>\n    <tr>\n      <th>146867</th>\n      <td>2100.0</td>\n      <td>105.0</td>\n      <td>6.0</td>\n      <td>21.0</td>\n      <td>56.0</td>\n      <td>48.0</td>\n      <td>0.0</td>\n      <td>0.0</td>\n      <td>1.0</td>\n      <td>0.0</td>\n      <td>0.0</td>\n      <td>0.0</td>\n      <td>0.0</td>\n    </tr>\n    <tr>\n      <th>121958</th>\n      <td>1952.0</td>\n      <td>1952.0</td>\n      <td>1.0</td>\n      <td>13.0</td>\n      <td>37.0</td>\n      <td>14.0</td>\n      <td>0.0</td>\n      <td>0.0</td>\n      <td>0.0</td>\n      <td>0.0</td>\n      <td>0.0</td>\n      <td>0.0</td>\n      <td>1.0</td>\n    </tr>\n  </tbody>\n</table>\n<p>418872 rows × 13 columns</p>\n</div>"
     },
     "execution_count": 12,
     "metadata": {},
     "output_type": "execute_result"
    }
   ],
   "source": [
    "# split dataframe to features and target\n",
    "X = df.drop('Primary_Offense_Description', axis=1)  # Features\n",
    "y = df['Primary_Offense_Description']            #target \n",
    "\n",
    "# split into training and test set\n",
    "X_train, X_test, y_train, y_test = train_test_split(X, y, test_size=0.2, random_state=42)\n",
    "X_train"
   ],
   "metadata": {
    "collapsed": false,
    "ExecuteTime": {
     "end_time": "2024-04-10T18:51:51.614854Z",
     "start_time": "2024-04-10T18:51:51.433356Z"
    }
   },
   "id": "976989cbaf0a08e6",
   "execution_count": 12
  }
 ],
 "metadata": {
  "kernelspec": {
   "display_name": "Python 3",
   "language": "python",
   "name": "python3"
  },
  "language_info": {
   "codemirror_mode": {
    "name": "ipython",
    "version": 2
   },
   "file_extension": ".py",
   "mimetype": "text/x-python",
   "name": "python",
   "nbconvert_exporter": "python",
   "pygments_lexer": "ipython2",
   "version": "2.7.6"
  }
 },
 "nbformat": 4,
 "nbformat_minor": 5
}
