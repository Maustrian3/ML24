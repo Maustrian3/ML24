{
 "cells": [
  {
   "cell_type": "code",
   "outputs": [],
   "source": [
    "from importlib import reload\n",
    "import pandas as pd\n",
    "from scipy.io import arff\n",
    "from sklearn.compose import ColumnTransformer\n",
    "from sklearn.model_selection import train_test_split\n",
    "from sklearn.pipeline import Pipeline\n",
    "from sklearn.preprocessing import MinMaxScaler, OrdinalEncoder, OneHotEncoder\n",
    "from knn import CustomKNeighborsRegressor\n",
    "from sklearn import tree, neighbors\n",
    "\n",
    "from evaluation import evaluator\n",
    "\n",
    "reload(evaluator)\n",
    "\n",
    "from sklearn.linear_model import SGDRegressor\n",
    "from sklearn.metrics import mean_squared_error\n",
    "from gradient import MyGDRegressor\n",
    "\n",
    "from evaluation import evaluator\n",
    "\n",
    "from importlib import reload"
   ],
   "metadata": {
    "collapsed": false,
    "ExecuteTime": {
     "end_time": "2024-05-24T10:52:38.252141700Z",
     "start_time": "2024-05-24T10:52:35.441776900Z"
    }
   },
   "id": "258f8f50e6cfef49",
   "execution_count": 69
  },
  {
   "cell_type": "markdown",
   "source": [
    "# Infrared Thermography Temperature"
   ],
   "metadata": {
    "collapsed": false
   },
   "id": "4f69772941bce81"
  },
  {
   "cell_type": "code",
   "outputs": [],
   "source": [
    "infrared_df = pd.read_csv(\"./infrared/FLIR_groups1and2.csv\", header=None)\n",
    "# Get actual header\n",
    "infrared_headers = infrared_df.iloc[2]\n",
    "# Remove Round header and measurements generic term\n",
    "infrared_df = infrared_df[3:]\n",
    "infrared_df.columns = infrared_headers\n",
    "\n",
    "# Drop NaN columns and NaN rows\n",
    "infrared_df = infrared_df.dropna(axis=1, how='all')\n",
    "infrared_df = infrared_df.dropna()\n",
    "# Remove all but one Round and insignificant columns\n",
    "filtered_columns = [col for col in infrared_df.columns if\n",
    "                    not col.endswith(('2', '3', '4')) and col not in [\"Cosmetics\", \"Time\", \"Date\", \"SubjectID\"]]\n",
    "infrared_df = infrared_df[filtered_columns]\n",
    "\n",
    "infrared_df = infrared_df.reset_index(drop=True)\n",
    "\n",
    "for col in infrared_df.columns:\n",
    "    try:\n",
    "        infrared_df[col] = pd.to_numeric(infrared_df[col])\n",
    "    except ValueError:\n",
    "        print(col)"
   ],
   "metadata": {
    "collapsed": false
   },
   "id": "144210710312abf9"
  },
  {
   "cell_type": "code",
   "outputs": [],
   "source": [
    "print(infrared_df['Age'].unique())\n",
    "print(infrared_df['Ethnicity'].unique())\n",
    "print(infrared_df['Gender'].unique())"
   ],
   "metadata": {
    "collapsed": false
   },
   "id": "b500cef85ba6a461"
  },
  {
   "cell_type": "code",
   "outputs": [],
   "source": [
    "infrared_df['Age'] = infrared_df['Age'].replace(['21-25', '26-30'], '21-30')\n",
    "print(infrared_df['Age'].unique())"
   ],
   "metadata": {
    "collapsed": false
   },
   "id": "d0b0b5a63d209faf"
  },
  {
   "cell_type": "code",
   "outputs": [],
   "source": [
    "feature_mappings = {\n",
    "    'Age': ['18-20', '21-30', '31-40', '41-50', '51-60', '>60']\n",
    "}\n",
    "ordinal_cols = ['Age']\n",
    "one_hot_cols = ['Ethnicity', 'Gender']\n",
    "ordinal_categories = [feature_mappings[col] for col in ordinal_cols]\n",
    "\n",
    "numerical_cols = infrared_df.select_dtypes(include=\"number\").columns\n",
    "# convert numerical columns to list\n",
    "numerical_cols = numerical_cols.tolist()\n",
    "\n",
    "preprocessor = ColumnTransformer([\n",
    "    ('ordinal', OrdinalEncoder(categories=ordinal_categories), ordinal_cols),\n",
    "    ('categorical', OneHotEncoder(handle_unknown=\"ignore\"), one_hot_cols)\n",
    "],\n",
    "    remainder='passthrough'  # passthrough columns not listed in any pipeline\n",
    ")\n",
    "\n",
    "pipeline = Pipeline([\n",
    "    ('preprocessor', preprocessor),\n",
    "    ('scaler', MinMaxScaler())\n",
    "])\n",
    "\n",
    "ordinal_categories"
   ],
   "metadata": {
    "collapsed": false
   },
   "id": "c06bf80e5d431975"
  },
  {
   "cell_type": "code",
   "outputs": [],
   "source": [
    "infrared_df = infrared_df.drop('aveOralF', axis=1)  # Set has two targets so drop one and chose the other\n",
    "X = infrared_df.drop('aveOralM', axis=1)\n",
    "y = infrared_df[('aveOralM')]\n",
    "\n",
    "ir_X_train, ir_X_test, ir_y_train, ir_y_test = train_test_split(X, y, test_size=0.2, random_state=42)"
   ],
   "metadata": {
    "collapsed": false
   },
   "id": "27e159fe8487c2e9"
  },
  {
   "cell_type": "code",
   "outputs": [],
   "source": [
    "ir_X_train = pipeline.fit_transform(ir_X_train)\n",
    "ir_X_test = pipeline.transform(ir_X_test)\n",
    "ir_X_train"
   ],
   "metadata": {
    "collapsed": false
   },
   "id": "9d21074cb3da4c4f"
  },
  {
   "cell_type": "markdown",
   "source": [
    "# Black Friday"
   ],
   "metadata": {
    "collapsed": false
   },
   "id": "99c2b214783d4e81"
  },
  {
   "cell_type": "code",
   "outputs": [],
   "source": [
    "data, meta = arff.loadarff(\"./black_friday.arff\")\n",
    "black_df = pd.DataFrame(data)\n",
    "\n",
    "for column in black_df.columns:\n",
    "    # replace missing values with pd.NA\n",
    "    black_df[column] = black_df[column].replace(b'?', pd.NA)\n",
    "    black_df[column] = black_df[column].replace(b'', pd.NA)\n",
    "    black_df[column] = black_df[column].replace(b'NONE', pd.NA)\n",
    "    # decode bytes to string for each column\n",
    "    black_df[column] = black_df[column].apply(lambda x: x.decode() if isinstance(x, bytes) else x)\n",
    "black_df"
   ],
   "metadata": {
    "collapsed": false
   },
   "id": "92a69a12c8524d1d"
  },
  {
   "cell_type": "code",
   "outputs": [],
   "source": [
    "y = black_df[('Purchase')]\n",
    "X = black_df.drop('Purchase', axis=1)  # Features\n",
    "\n",
    "bf_X_train, bf_X_test, bf_y_train, bf_y_test = train_test_split(X, y, test_size=0.2, random_state=42)"
   ],
   "metadata": {
    "collapsed": false
   },
   "id": "c029e52fcb6e6f73"
  },
  {
   "cell_type": "code",
   "outputs": [],
   "source": [
    "print(black_df['Age'].unique())"
   ],
   "metadata": {
    "collapsed": false
   },
   "id": "86e5b541fb82c889"
  },
  {
   "cell_type": "code",
   "outputs": [],
   "source": [
    "feature_mappings = {\n",
    "    'Age': ['0-17', '18-25', '26-35', '36-45', '46-50', '51-55', '55+']\n",
    "}\n",
    "ordinal_cols = ['Age']\n",
    "one_hot_cols = ['City_Category', 'Gender', 'Stay_In_Current_City_Years']\n",
    "ordinal_categories = [feature_mappings[col] for col in ordinal_cols]\n",
    "\n",
    "numerical_cols = [col for col in infrared_df.select_dtypes(include=\"number\").columns if col != 'Purchase']\n",
    "\n",
    "preprocessor = ColumnTransformer([\n",
    "    ('ordinal', OrdinalEncoder(categories=ordinal_categories), ordinal_cols),\n",
    "    ('categorical', OneHotEncoder(handle_unknown=\"ignore\"), one_hot_cols),\n",
    "],\n",
    "    remainder='passthrough'  # passthrough columns not listed in any pipeline\n",
    ")\n",
    "\n",
    "pipeline = Pipeline([\n",
    "    ('preprocessor', preprocessor),\n",
    "    ('scaler', MinMaxScaler())\n",
    "])\n",
    "\n"
   ],
   "metadata": {
    "collapsed": false
   },
   "id": "2c595faebca3f50f"
  },
  {
   "cell_type": "code",
   "outputs": [],
   "source": [
    "\n",
    "bf_X_train = pipeline.fit_transform(bf_X_train)\n",
    "bf_X_test = pipeline.transform(bf_X_test)\n",
    "bf_X_train"
   ],
   "metadata": {
    "collapsed": false
   },
   "id": "dc49d2df40a3d110"
  },
  {
   "cell_type": "markdown",
   "source": [
    "# Power plant"
   ],
   "metadata": {
    "collapsed": false
   },
   "id": "2437a6c3ae33e484"
  },
  {
   "cell_type": "code",
   "outputs": [],
   "source": [
    "ccpp_df = pd.read_excel(\"./CCPP/Folds5x2_pp.xlsx\")\n",
    "ccpp_df"
   ],
   "metadata": {
    "collapsed": false
   },
   "id": "5bcf4d958392bbfe"
  },
  {
   "cell_type": "code",
   "outputs": [],
   "source": [
    "X = ccpp_df.drop('PE', axis=1)\n",
    "y = ccpp_df.PE\n",
    "# Split for training\n",
    "ccpp_X_train, ccpp_X_test, ccpp_y_train, ccpp_y_test = train_test_split(X, y, test_size=0.2, random_state=42)"
   ],
   "metadata": {
    "collapsed": false
   },
   "id": "f5b51779692676a6"
  },
  {
   "cell_type": "code",
   "outputs": [],
   "source": [
    "cols_to_scale = remaining_columns = [col for col in ccpp_df.columns if col != \"PE\"]\n",
    "preprocessor = ColumnTransformer(\n",
    "    transformers=[('scaler', MinMaxScaler(), cols_to_scale)],\n",
    "    remainder='passthrough')\n",
    "\n",
    "ccpp_X_train = preprocessor.fit_transform(ccpp_X_train)\n",
    "ccpp_X_test = preprocessor.transform(ccpp_X_test)\n",
    "ccpp_X_train"
   ],
   "metadata": {
    "collapsed": false
   },
   "id": "c13758db6ff8bd37"
  },
  {
   "cell_type": "markdown",
   "source": [
    "## knn evaluation"
   ],
   "metadata": {
    "collapsed": false
   },
   "id": "2562cb24fa25e4be"
  },
  {
   "cell_type": "markdown",
   "source": [
    "### neighbors"
   ],
   "metadata": {
    "collapsed": false
   },
   "id": "2aa1a786bc77c849"
  },
  {
   "cell_type": "markdown",
   "source": [
    "### metric"
   ],
   "metadata": {
    "collapsed": false
   },
   "id": "301cd7c2b4e929d5"
  },
  {
   "cell_type": "markdown",
   "source": [
    "### leaf size"
   ],
   "metadata": {
    "collapsed": false
   },
   "id": "cd9f47e5362428fb"
  },
  {
   "cell_type": "markdown",
   "source": [
    "## gradient"
   ],
   "metadata": {
    "collapsed": false
   },
   "id": "6153b0f834d23eb7"
  },
  {
   "cell_type": "markdown",
   "source": [
    "# datasets"
   ],
   "metadata": {
    "collapsed": false
   },
   "id": "2de7ff8e551d8069"
  },
  {
   "cell_type": "code",
   "outputs": [],
   "source": [
    "## Decision Tree Regressor\n",
    "## Gradient Descent\n",
    "## KNN"
   ],
   "metadata": {
    "collapsed": false
   },
   "id": "cdd370ce30ecfd1c"
  },
  {
   "cell_type": "markdown",
   "source": [
    "## Infrared Thermo Temperature"
   ],
   "metadata": {
    "collapsed": false
   },
   "id": "65a9323993b8b58"
  },
  {
   "cell_type": "code",
   "outputs": [],
   "source": [
    "tree_reg = tree.DecisionTreeRegressor()\n",
    "knn_reg = neighbors.KNeighborsRegressor(20)"
   ],
   "metadata": {
    "collapsed": false
   },
   "id": "13d6cac78a7a9a36"
  },
  {
   "cell_type": "markdown",
   "source": [
    "## Black Friday"
   ],
   "metadata": {
    "collapsed": false
   },
   "id": "e0aafe533c2da454"
  },
  {
   "cell_type": "code",
   "outputs": [],
   "source": [
    "tree_reg = tree.DecisionTreeRegressor()\n",
    "knn_reg = neighbors.KNeighborsRegressor(20)"
   ],
   "metadata": {
    "collapsed": false
   },
   "id": "c7422ddabef6b94f"
  },
  {
   "cell_type": "markdown",
   "source": [
    "## Power Plant"
   ],
   "metadata": {
    "collapsed": false
   },
   "id": "df99142e0114f421"
  },
  {
   "cell_type": "code",
   "outputs": [],
   "source": [
    "tree_reg = tree.DecisionTreeRegressor()\n",
    "knn_reg = neighbors.KNeighborsRegressor(20)"
   ],
   "metadata": {
    "collapsed": false
   },
   "id": "f0f82f41cb9208b4"
  },
  {
   "cell_type": "markdown",
   "source": [
    "## Gradient Descent Evaluation"
   ],
   "metadata": {
    "collapsed": false
   },
   "id": "291fc2f320fa3373"
  },
  {
   "cell_type": "markdown",
   "source": [
    "### Learning rate"
   ],
   "metadata": {
    "collapsed": false
   },
   "id": "5a11a1bf2894dd05"
  },
  {
   "cell_type": "code",
   "outputs": [
    {
     "name": "stdout",
     "output_type": "stream",
     "text": [
      "================================================================================\n",
      "Evaluating Model:  MyGDRegressor\n",
      "Hyperparameters:  {'alpha': 0.001}\n",
      "========================================\n",
      "Hyperparameter  max_iter  value:  100\n",
      "R2:  -309.7947884679558\n",
      "MSE:  64.38848746742305\n",
      "========================================\n",
      "Hyperparameter  max_iter  value:  200\n",
      "R2:  -124.96654295362427\n",
      "MSE:  26.096947160104325\n",
      "========================================\n",
      "Hyperparameter  max_iter  value:  500\n",
      "R2:  -106.65905894218082\n",
      "MSE:  22.304119067195643\n",
      "================================================================================\n",
      "================================================================================\n",
      "Evaluating Model:  SGDRegressor\n",
      "Hyperparameters:  {'alpha': 0.001, 'eta0': 0.001, 'loss': 'squared_error', 'learning_rate': 'constant', 'tol': None, 'shuffle': False, 'penalty': None}\n",
      "========================================\n",
      "Hyperparameter  max_iter  value:  100\n",
      "R2:  -1.2664117340085461\n",
      "MSE:  0.46954076756108754\n",
      "========================================\n",
      "Hyperparameter  max_iter  value:  200\n",
      "R2:  0.1974607647165052\n",
      "MSE:  0.16626497422267558\n",
      "========================================\n",
      "Hyperparameter  max_iter  value:  500\n",
      "R2:  0.5703394315133632\n",
      "MSE:  0.0890143437270026\n",
      "================================================================================\n"
     ]
    },
    {
     "ename": "KeyboardInterrupt",
     "evalue": "",
     "output_type": "error",
     "traceback": [
      "\u001B[1;31m---------------------------------------------------------------------------\u001B[0m",
      "\u001B[1;31mIndexError\u001B[0m                                Traceback (most recent call last)",
      "    \u001B[1;31m[... skipping hidden 1 frame]\u001B[0m\n",
      "Cell \u001B[1;32mIn[82], line 49\u001B[0m\n\u001B[0;32m     47\u001B[0m \u001B[38;5;66;03m# evaluator.draw_diagram2_list({\"gradient\": ir_max_iter_my_sg_regressor}, x_axis='max_iter', y_axis=['R2', 'MSE', 'time'], logaritmic=True)\u001B[39;00m\n\u001B[1;32m---> 49\u001B[0m \u001B[43mevaluator\u001B[49m\u001B[38;5;241;43m.\u001B[39;49m\u001B[43mdraw_diagram2_with_multiple_lines\u001B[49m\u001B[43m(\u001B[49m\u001B[43m[\u001B[49m\u001B[43mir_max_iter_my_sg_regressor\u001B[49m\u001B[43m,\u001B[49m\u001B[43m \u001B[49m\u001B[43mir_max_iter_sgd_regressor\u001B[49m\u001B[43m]\u001B[49m\u001B[43m,\u001B[49m\u001B[43m \u001B[49m\u001B[43mx_axis\u001B[49m\u001B[38;5;241;43m=\u001B[39;49m\u001B[38;5;124;43m'\u001B[39;49m\u001B[38;5;124;43mmax_iter\u001B[39;49m\u001B[38;5;124;43m'\u001B[39;49m\u001B[43m,\u001B[49m\u001B[43m \u001B[49m\u001B[43my_axis\u001B[49m\u001B[38;5;241;43m=\u001B[39;49m\u001B[43m[\u001B[49m\u001B[38;5;124;43m'\u001B[39;49m\u001B[38;5;124;43mR2\u001B[39;49m\u001B[38;5;124;43m'\u001B[39;49m\u001B[43m,\u001B[49m\u001B[43m \u001B[49m\u001B[38;5;124;43m'\u001B[39;49m\u001B[38;5;124;43mMSE\u001B[39;49m\u001B[38;5;124;43m'\u001B[39;49m\u001B[43m,\u001B[49m\u001B[43m \u001B[49m\u001B[38;5;124;43m'\u001B[39;49m\u001B[38;5;124;43mtime\u001B[39;49m\u001B[38;5;124;43m'\u001B[39;49m\u001B[43m]\u001B[49m\u001B[43m,\u001B[49m\u001B[43mlogaritmic\u001B[49m\u001B[38;5;241;43m=\u001B[39;49m\u001B[38;5;28;43;01mTrue\u001B[39;49;00m\u001B[43m)\u001B[49m\n",
      "File \u001B[1;32m~\\PycharmProjects\\ML24\\exercise-2\\evaluation\\evaluator.py:492\u001B[0m, in \u001B[0;36mdraw_diagram2_with_multiple_lines\u001B[1;34m(evaluation_results_list, x_axis, y_axis, figsize, title, logaritmic, line, subplots)\u001B[0m\n\u001B[0;32m    491\u001B[0m results \u001B[38;5;241m=\u001B[39m evaluation_results[dataset_name]\n\u001B[1;32m--> 492\u001B[0m x_values \u001B[38;5;241m=\u001B[39m [metrics[x_axis] \u001B[38;5;28;01mfor\u001B[39;00m metrics \u001B[38;5;129;01min\u001B[39;00m results\u001B[38;5;241m.\u001B[39mvalues()]\n\u001B[0;32m    493\u001B[0m y_values \u001B[38;5;241m=\u001B[39m [metrics[y_axis] \u001B[38;5;28;01mfor\u001B[39;00m metrics \u001B[38;5;129;01min\u001B[39;00m results\u001B[38;5;241m.\u001B[39mvalues()]\n",
      "File \u001B[1;32m~\\PycharmProjects\\ML24\\exercise-2\\evaluation\\evaluator.py:492\u001B[0m, in \u001B[0;36m<listcomp>\u001B[1;34m(.0)\u001B[0m\n\u001B[0;32m    491\u001B[0m results \u001B[38;5;241m=\u001B[39m evaluation_results[dataset_name]\n\u001B[1;32m--> 492\u001B[0m x_values \u001B[38;5;241m=\u001B[39m [\u001B[43mmetrics\u001B[49m\u001B[43m[\u001B[49m\u001B[43mx_axis\u001B[49m\u001B[43m]\u001B[49m \u001B[38;5;28;01mfor\u001B[39;00m metrics \u001B[38;5;129;01min\u001B[39;00m results\u001B[38;5;241m.\u001B[39mvalues()]\n\u001B[0;32m    493\u001B[0m y_values \u001B[38;5;241m=\u001B[39m [metrics[y_axis] \u001B[38;5;28;01mfor\u001B[39;00m metrics \u001B[38;5;129;01min\u001B[39;00m results\u001B[38;5;241m.\u001B[39mvalues()]\n",
      "\u001B[1;31mIndexError\u001B[0m: invalid index to scalar variable.",
      "\nDuring handling of the above exception, another exception occurred:\n",
      "\u001B[1;31mKeyboardInterrupt\u001B[0m                         Traceback (most recent call last)",
      "    \u001B[1;31m[... skipping hidden 2 frame]\u001B[0m\n",
      "File \u001B[1;32m_pydevd_bundle\\pydevd_cython_win32_310_64.pyx:1187\u001B[0m, in \u001B[0;36m_pydevd_bundle.pydevd_cython_win32_310_64.SafeCallWrapper.__call__\u001B[1;34m()\u001B[0m\n",
      "File \u001B[1;32m_pydevd_bundle\\pydevd_cython_win32_310_64.pyx:627\u001B[0m, in \u001B[0;36m_pydevd_bundle.pydevd_cython_win32_310_64.PyDBFrame.trace_dispatch\u001B[1;34m()\u001B[0m\n",
      "File \u001B[1;32m_pydevd_bundle\\pydevd_cython_win32_310_64.pyx:1103\u001B[0m, in \u001B[0;36m_pydevd_bundle.pydevd_cython_win32_310_64.PyDBFrame.trace_dispatch\u001B[1;34m()\u001B[0m\n",
      "File \u001B[1;32m_pydevd_bundle\\pydevd_cython_win32_310_64.pyx:1065\u001B[0m, in \u001B[0;36m_pydevd_bundle.pydevd_cython_win32_310_64.PyDBFrame.trace_dispatch\u001B[1;34m()\u001B[0m\n",
      "File \u001B[1;32m_pydevd_bundle\\pydevd_cython_win32_310_64.pyx:585\u001B[0m, in \u001B[0;36m_pydevd_bundle.pydevd_cython_win32_310_64.PyDBFrame.do_wait_suspend\u001B[1;34m()\u001B[0m\n",
      "File \u001B[1;32mC:\\Program Files\\JetBrains\\PyCharm 2023.3.2\\plugins\\python\\helpers\\pydev\\pydevd.py:1184\u001B[0m, in \u001B[0;36mPyDB.do_wait_suspend\u001B[1;34m(self, thread, frame, event, arg, send_suspend_message, is_unhandled_exception)\u001B[0m\n\u001B[0;32m   1181\u001B[0m         from_this_thread\u001B[38;5;241m.\u001B[39mappend(frame_id)\n\u001B[0;32m   1183\u001B[0m \u001B[38;5;28;01mwith\u001B[39;00m \u001B[38;5;28mself\u001B[39m\u001B[38;5;241m.\u001B[39m_threads_suspended_single_notification\u001B[38;5;241m.\u001B[39mnotify_thread_suspended(thread_id, stop_reason):\n\u001B[1;32m-> 1184\u001B[0m     \u001B[38;5;28;43mself\u001B[39;49m\u001B[38;5;241;43m.\u001B[39;49m\u001B[43m_do_wait_suspend\u001B[49m\u001B[43m(\u001B[49m\u001B[43mthread\u001B[49m\u001B[43m,\u001B[49m\u001B[43m \u001B[49m\u001B[43mframe\u001B[49m\u001B[43m,\u001B[49m\u001B[43m \u001B[49m\u001B[43mevent\u001B[49m\u001B[43m,\u001B[49m\u001B[43m \u001B[49m\u001B[43marg\u001B[49m\u001B[43m,\u001B[49m\u001B[43m \u001B[49m\u001B[43msuspend_type\u001B[49m\u001B[43m,\u001B[49m\u001B[43m \u001B[49m\u001B[43mfrom_this_thread\u001B[49m\u001B[43m)\u001B[49m\n",
      "File \u001B[1;32mC:\\Program Files\\JetBrains\\PyCharm 2023.3.2\\plugins\\python\\helpers\\pydev\\pydevd.py:1199\u001B[0m, in \u001B[0;36mPyDB._do_wait_suspend\u001B[1;34m(self, thread, frame, event, arg, suspend_type, from_this_thread)\u001B[0m\n\u001B[0;32m   1196\u001B[0m             \u001B[38;5;28mself\u001B[39m\u001B[38;5;241m.\u001B[39m_call_mpl_hook()\n\u001B[0;32m   1198\u001B[0m         \u001B[38;5;28mself\u001B[39m\u001B[38;5;241m.\u001B[39mprocess_internal_commands()\n\u001B[1;32m-> 1199\u001B[0m         \u001B[43mtime\u001B[49m\u001B[38;5;241;43m.\u001B[39;49m\u001B[43msleep\u001B[49m\u001B[43m(\u001B[49m\u001B[38;5;241;43m0.01\u001B[39;49m\u001B[43m)\u001B[49m\n\u001B[0;32m   1201\u001B[0m \u001B[38;5;28mself\u001B[39m\u001B[38;5;241m.\u001B[39mcancel_async_evaluation(get_current_thread_id(thread), \u001B[38;5;28mstr\u001B[39m(\u001B[38;5;28mid\u001B[39m(frame)))\n\u001B[0;32m   1203\u001B[0m \u001B[38;5;66;03m# process any stepping instructions\u001B[39;00m\n",
      "\u001B[1;31mKeyboardInterrupt\u001B[0m: "
     ]
    },
    {
     "data": {
      "text/plain": "<Figure size 1000x600 with 1 Axes>",
      "image/png": "[encoded data removed]"
     },
     "metadata": {},
     "output_type": "display_data"
    }
   ],
   "source": [
    "import numpy as np\n",
    "\n",
    "reload(evaluator)\n",
    "\n",
    "ir_y_train = ir_y_train.astype(float)\n",
    "ir_y_test = ir_y_test.astype(float)\n",
    "\n",
    "alpha = 0.001\n",
    "\n",
    "hyperparameters_my_gd = {\n",
    "    #'max_iter': 1000,\n",
    "    'alpha': alpha,\n",
    "}\n",
    "\n",
    "hyperparameters_sgd = {\n",
    "    #'max_iter':1000, \n",
    "    'alpha': alpha,\n",
    "    'eta0': alpha,\n",
    "    'loss': 'squared_error',\n",
    "    'learning_rate': 'constant',\n",
    "    'tol': None,\n",
    "    'shuffle':False,\n",
    "    'penalty': None,\n",
    "}\n",
    "\n",
    "\n",
    "base_values = [100, 200, 500]\n",
    "scaled_values = base_values.copy()\n",
    "# for i in range(1, 3):\n",
    "#     for value in base_values:\n",
    "#         scaled_values.append(value * (10 ** i))\n",
    "# scaled_values.append(100000)\n",
    "# scaled_values.pop(0)  # Remove 100 as its not a useful max_iter value\n",
    "\n",
    "hyperparameters_iterator = {'max_iter': scaled_values}\n",
    "\n",
    "ir_max_iter_my_sg_regressor = evaluator.evaluate2(MyGDRegressor,\n",
    "                                                  ir_X_train, ir_y_train, ir_X_test, ir_y_test,\n",
    "                                                  hyperparameters=hyperparameters_my_gd,\n",
    "                                                  hyperparameters_iterate=hyperparameters_iterator)\n",
    "\n",
    "ir_max_iter_sgd_regressor = evaluator.evaluate2(SGDRegressor,\n",
    "                                                ir_X_train, ir_y_train, ir_X_test, ir_y_test,\n",
    "                                                hyperparameters=hyperparameters_sgd,\n",
    "                                                hyperparameters_iterate=hyperparameters_iterator)\n",
    "\n",
    "# evaluator.draw_diagram2_list({\"gradient\": ir_max_iter_my_sg_regressor}, x_axis='max_iter', y_axis=['R2', 'MSE', 'time'], logaritmic=True)\n",
    "\n",
    "evaluator.draw_diagram2_with_multiple_lines([ir_max_iter_my_sg_regressor, ir_max_iter_sgd_regressor], x_axis='max_iter', y_axis=['R2', 'MSE', 'time'],logaritmic=True)\n"
   ],
   "metadata": {
    "collapsed": false,
    "ExecuteTime": {
     "end_time": "2024-05-24T13:25:39.800415500Z",
     "start_time": "2024-05-24T11:32:25.901404Z"
    }
   },
   "id": "3db7d2e61431f7ef",
   "execution_count": 82
  },
  {
   "cell_type": "markdown",
   "source": [
    "### Max Iterations"
   ],
   "metadata": {
    "collapsed": false
   },
   "id": "95c316c8549a062e"
  },
  {
   "cell_type": "code",
   "outputs": [],
   "source": [],
   "metadata": {
    "collapsed": false
   },
   "id": "395d5395b46f27b0"
  },
  {
   "cell_type": "markdown",
   "source": [
    "### Runtime comparison"
   ],
   "metadata": {
    "collapsed": false
   },
   "id": "6d44d2930f419b21"
  },
  {
   "cell_type": "code",
   "outputs": [],
   "source": [],
   "metadata": {
    "collapsed": false
   },
   "id": "c1259756778d0c7f"
  },
  {
   "cell_type": "markdown",
   "source": [
    "### Best run comparison"
   ],
   "metadata": {
    "collapsed": false
   },
   "id": "cd957cc79f3c2239"
  },
  {
   "cell_type": "code",
   "outputs": [],
   "source": [],
   "metadata": {
    "collapsed": false
   },
   "id": "715ed54655575dac"
  },
  {
   "cell_type": "code",
   "outputs": [],
   "source": [
    "# ir_X_train, ir_X_test, ir_y_train, ir_y_test\n",
    "\n",
    "ir_y_train = ir_y_train.astype(float)\n",
    "ir_y_test = ir_y_test.astype(float)\n",
    "\n",
    "max_iter = 1000\n",
    "alpha = 0.0001\n",
    "\n",
    "sgd_regressor = SGDRegressor(max_iter=max_iter, alpha=alpha, eta0=alpha,\n",
    "                             loss='squared_error',\n",
    "                             learning_rate='constant', tol=None,\n",
    "                             shuffle=False,\n",
    "                             penalty=None\n",
    "                             )\n",
    "sgd_regressor.fit(ir_X_train, ir_y_train)\n",
    "sgd_y_pred = sgd_regressor.predict(ir_X_test)\n",
    "\n",
    "my_gd_regressor = MyGDRegressor(max_iter=max_iter, alpha=alpha)\n",
    "my_gd_regressor.fit(ir_X_train, ir_y_train)\n",
    "my_y_pred = my_gd_regressor.predict(ir_X_test)\n",
    "\n",
    "# Calc mean squared error for evaluation\n",
    "sgd_mse = mean_squared_error(ir_y_test, sgd_y_pred)\n",
    "my_mse = mean_squared_error(ir_y_test, my_y_pred)\n",
    "print(\"sklearn sgd regressor: \", sgd_mse)\n",
    "print(\"my regressor: \", my_mse)"
   ],
   "metadata": {
    "collapsed": false
   },
   "id": "5bb4d8a93e47a824"
  },
  {
   "cell_type": "code",
   "outputs": [],
   "source": [],
   "metadata": {
    "collapsed": false
   },
   "id": "3a26392e14fee104"
  }
 ],
 "metadata": {
  "kernelspec": {
   "display_name": "Python 3",
   "language": "python",
   "name": "python3"
  },
  "language_info": {
   "codemirror_mode": {
    "name": "ipython",
    "version": 2
   },
   "file_extension": ".py",
   "mimetype": "text/x-python",
   "name": "python",
   "nbconvert_exporter": "python",
   "pygments_lexer": "ipython2",
   "version": "2.7.6"
  }
 },
 "nbformat": 4,
 "nbformat_minor": 5
}
