{
 "cells": [
  {
   "cell_type": "code",
   "id": "initial_id",
   "metadata": {
    "collapsed": true,
    "ExecuteTime": {
     "end_time": "2024-05-24T09:06:36.065967Z",
     "start_time": "2024-05-24T09:06:35.980220Z"
    }
   },
   "source": [
    "from importlib import reload\n",
    "import numpy\n",
    "import pandas as pd\n",
    "from scipy.io import arff\n",
    "from sklearn.compose import ColumnTransformer\n",
    "from sklearn.model_selection import train_test_split\n",
    "from sklearn.pipeline import Pipeline\n",
    "from sklearn.preprocessing import MinMaxScaler, OrdinalEncoder, OneHotEncoder\n",
    "from knn import CustomKNeighborsRegressor\n",
    "from evaluation import evaluator\n",
    "reload(evaluator)"
   ],
   "outputs": [
    {
     "data": {
      "text/plain": [
       "<module 'evaluation.evaluator' from '/home/alex/code/ML/ML24/exercise-2/evaluation/evaluator.py'>"
      ]
     },
     "execution_count": 1,
     "metadata": {},
     "output_type": "execute_result"
    }
   ],
   "execution_count": 1
  },
  {
   "cell_type": "markdown",
   "source": [
    "# Infrared Thermography Temperature"
   ],
   "metadata": {
    "collapsed": false
   },
   "id": "86b49521987034a6"
  },
  {
   "cell_type": "code",
   "source": [
    "infrared_df = pd.read_csv(\"./infrared/FLIR_groups1and2.csv\", header=None)\n",
    "# Get actual header\n",
    "infrared_headers = infrared_df.iloc[2]\n",
    "# Remove Round header and measurements generic term\n",
    "infrared_df = infrared_df[3:]\n",
    "infrared_df.columns = infrared_headers\n",
    "\n",
    "# Drop NaN columns and NaN rows\n",
    "infrared_df = infrared_df.dropna(axis=1, how='all')\n",
    "infrared_df = infrared_df.dropna()\n",
    "# Remove all but one Round and insignificant columns\n",
    "filtered_columns = [col for col in infrared_df.columns if\n",
    "                    not col.endswith(('2', '3', '4')) and col not in [\"Cosmetics\", \"Time\", \"Date\", \"SubjectID\"]]\n",
    "infrared_df = infrared_df[filtered_columns]\n",
    "\n",
    "infrared_df = infrared_df.reset_index(drop=True)\n",
    "infrared_df"
   ],
   "metadata": {
    "collapsed": false,
    "ExecuteTime": {
     "end_time": "2024-05-24T09:06:38.082212Z",
     "start_time": "2024-05-24T09:06:38.032811Z"
    }
   },
   "id": "19ea17727ff493ce",
   "outputs": [
    {
     "data": {
      "text/plain": [
       "2   T_offset1 Max1R13_1 Max1L13_1 aveAllR13_1 aveAllL13_1  T_RC1 T_RC_Dry1  \\\n",
       "0        0.17     34.92     35.09       34.53       34.67  34.93     34.92   \n",
       "1        0.92     36.12     35.87       35.50       35.27  36.08     36.08   \n",
       "2        0.82     35.05     35.05       33.72       34.29  35.14     35.06   \n",
       "3        0.88     35.90     35.71       34.99       35.27  35.88     35.88   \n",
       "4        0.63     34.99     34.43       34.61       33.72  34.97     34.97   \n",
       "..        ...       ...       ...         ...         ...    ...       ...   \n",
       "928      1.15     36.05     36.08       35.17       35.28  36.05     36.04   \n",
       "929      1.27     35.51     35.64       34.74       35.08  35.68     35.51   \n",
       "930      1.45     35.98     35.84       35.35       35.16  35.97     35.97   \n",
       "931     -0.07     36.36     36.25       35.67       35.76  36.34     36.34   \n",
       "932      0.80     35.62     35.58       34.85       35.29  35.62     35.61   \n",
       "\n",
       "2   T_RC_Wet1 T_RC_Max1  T_LC1  ...  T_OR1 T_OR_Max1 aveOralF aveOralM  \\\n",
       "0       34.89     34.96  35.08  ...  34.13     34.16    36.85    36.64   \n",
       "1       35.68     36.12  35.79  ...  34.95     34.98    36.95    37.14   \n",
       "2       35.14     35.15  35.06  ...  34.40     34.41    36.65    36.59   \n",
       "3       35.68     35.90  35.65  ...  35.90     35.94    37.40    37.39   \n",
       "4       34.87     34.99  34.57  ...  35.25     35.28    36.65    36.49   \n",
       "..        ...       ...    ...  ...    ...       ...      ...      ...   \n",
       "928     36.04     36.05  36.11  ...  36.12     36.13    36.95    36.99   \n",
       "929     35.68     35.70  35.81  ...  35.02     35.04    36.95    36.99   \n",
       "930     35.88     36.01  35.84  ...  36.58     36.60    37.25    37.19   \n",
       "931     36.31     36.36  36.18  ...  35.53     35.57    37.35    37.59   \n",
       "932     35.61     35.63  35.56  ...  35.51     35.53    37.05    37.19   \n",
       "\n",
       "2    Gender    Age                  Ethnicity T_atm Humidity Distance  \n",
       "0    Female  18-20                      Asian  22.5     34.5      0.8  \n",
       "1    Female  18-20            Hispanic/Latino  23.4     27.3      0.8  \n",
       "2    Female  18-20                      Asian  23.2     27.2      0.8  \n",
       "3      Male  21-25                      White  23.1       27      0.8  \n",
       "4      Male    >60                      Asian  22.8       33      0.8  \n",
       "..      ...    ...                        ...   ...      ...      ...  \n",
       "928  Female  21-25            Hispanic/Latino  25.7     50.8      0.6  \n",
       "929  Female  21-25                      Asian  25.7     50.8      0.6  \n",
       "930  Female  21-25                      White  25.7     50.8      0.6  \n",
       "931  Female  18-20  Black or African-American    28     24.3      0.6  \n",
       "932  Female  18-20                      White  23.8     45.6      0.6  \n",
       "\n",
       "[933 rows x 35 columns]"
      ],
      "text/html": [
       "<div>\n",
       "<style scoped>\n",
       "    .dataframe tbody tr th:only-of-type {\n",
       "        vertical-align: middle;\n",
       "    }\n",
       "\n",
       "    .dataframe tbody tr th {\n",
       "        vertical-align: top;\n",
       "    }\n",
       "\n",
       "    .dataframe thead th {\n",
       "        text-align: right;\n",
       "    }\n",
       "</style>\n",
       "<table border=\"1\" class=\"dataframe\">\n",
       "  <thead>\n",
       "    <tr style=\"text-align: right;\">\n",
       "      <th>2</th>\n",
       "      <th>T_offset1</th>\n",
       "      <th>Max1R13_1</th>\n",
       "      <th>Max1L13_1</th>\n",
       "      <th>aveAllR13_1</th>\n",
       "      <th>aveAllL13_1</th>\n",
       "      <th>T_RC1</th>\n",
       "      <th>T_RC_Dry1</th>\n",
       "      <th>T_RC_Wet1</th>\n",
       "      <th>T_RC_Max1</th>\n",
       "      <th>T_LC1</th>\n",
       "      <th>...</th>\n",
       "      <th>T_OR1</th>\n",
       "      <th>T_OR_Max1</th>\n",
       "      <th>aveOralF</th>\n",
       "      <th>aveOralM</th>\n",
       "      <th>Gender</th>\n",
       "      <th>Age</th>\n",
       "      <th>Ethnicity</th>\n",
       "      <th>T_atm</th>\n",
       "      <th>Humidity</th>\n",
       "      <th>Distance</th>\n",
       "    </tr>\n",
       "  </thead>\n",
       "  <tbody>\n",
       "    <tr>\n",
       "      <th>0</th>\n",
       "      <td>0.17</td>\n",
       "      <td>34.92</td>\n",
       "      <td>35.09</td>\n",
       "      <td>34.53</td>\n",
       "      <td>34.67</td>\n",
       "      <td>34.93</td>\n",
       "      <td>34.92</td>\n",
       "      <td>34.89</td>\n",
       "      <td>34.96</td>\n",
       "      <td>35.08</td>\n",
       "      <td>...</td>\n",
       "      <td>34.13</td>\n",
       "      <td>34.16</td>\n",
       "      <td>36.85</td>\n",
       "      <td>36.64</td>\n",
       "      <td>Female</td>\n",
       "      <td>18-20</td>\n",
       "      <td>Asian</td>\n",
       "      <td>22.5</td>\n",
       "      <td>34.5</td>\n",
       "      <td>0.8</td>\n",
       "    </tr>\n",
       "    <tr>\n",
       "      <th>1</th>\n",
       "      <td>0.92</td>\n",
       "      <td>36.12</td>\n",
       "      <td>35.87</td>\n",
       "      <td>35.50</td>\n",
       "      <td>35.27</td>\n",
       "      <td>36.08</td>\n",
       "      <td>36.08</td>\n",
       "      <td>35.68</td>\n",
       "      <td>36.12</td>\n",
       "      <td>35.79</td>\n",
       "      <td>...</td>\n",
       "      <td>34.95</td>\n",
       "      <td>34.98</td>\n",
       "      <td>36.95</td>\n",
       "      <td>37.14</td>\n",
       "      <td>Female</td>\n",
       "      <td>18-20</td>\n",
       "      <td>Hispanic/Latino</td>\n",
       "      <td>23.4</td>\n",
       "      <td>27.3</td>\n",
       "      <td>0.8</td>\n",
       "    </tr>\n",
       "    <tr>\n",
       "      <th>2</th>\n",
       "      <td>0.82</td>\n",
       "      <td>35.05</td>\n",
       "      <td>35.05</td>\n",
       "      <td>33.72</td>\n",
       "      <td>34.29</td>\n",
       "      <td>35.14</td>\n",
       "      <td>35.06</td>\n",
       "      <td>35.14</td>\n",
       "      <td>35.15</td>\n",
       "      <td>35.06</td>\n",
       "      <td>...</td>\n",
       "      <td>34.40</td>\n",
       "      <td>34.41</td>\n",
       "      <td>36.65</td>\n",
       "      <td>36.59</td>\n",
       "      <td>Female</td>\n",
       "      <td>18-20</td>\n",
       "      <td>Asian</td>\n",
       "      <td>23.2</td>\n",
       "      <td>27.2</td>\n",
       "      <td>0.8</td>\n",
       "    </tr>\n",
       "    <tr>\n",
       "      <th>3</th>\n",
       "      <td>0.88</td>\n",
       "      <td>35.90</td>\n",
       "      <td>35.71</td>\n",
       "      <td>34.99</td>\n",
       "      <td>35.27</td>\n",
       "      <td>35.88</td>\n",
       "      <td>35.88</td>\n",
       "      <td>35.68</td>\n",
       "      <td>35.90</td>\n",
       "      <td>35.65</td>\n",
       "      <td>...</td>\n",
       "      <td>35.90</td>\n",
       "      <td>35.94</td>\n",
       "      <td>37.40</td>\n",
       "      <td>37.39</td>\n",
       "      <td>Male</td>\n",
       "      <td>21-25</td>\n",
       "      <td>White</td>\n",
       "      <td>23.1</td>\n",
       "      <td>27</td>\n",
       "      <td>0.8</td>\n",
       "    </tr>\n",
       "    <tr>\n",
       "      <th>4</th>\n",
       "      <td>0.63</td>\n",
       "      <td>34.99</td>\n",
       "      <td>34.43</td>\n",
       "      <td>34.61</td>\n",
       "      <td>33.72</td>\n",
       "      <td>34.97</td>\n",
       "      <td>34.97</td>\n",
       "      <td>34.87</td>\n",
       "      <td>34.99</td>\n",
       "      <td>34.57</td>\n",
       "      <td>...</td>\n",
       "      <td>35.25</td>\n",
       "      <td>35.28</td>\n",
       "      <td>36.65</td>\n",
       "      <td>36.49</td>\n",
       "      <td>Male</td>\n",
       "      <td>&gt;60</td>\n",
       "      <td>Asian</td>\n",
       "      <td>22.8</td>\n",
       "      <td>33</td>\n",
       "      <td>0.8</td>\n",
       "    </tr>\n",
       "    <tr>\n",
       "      <th>...</th>\n",
       "      <td>...</td>\n",
       "      <td>...</td>\n",
       "      <td>...</td>\n",
       "      <td>...</td>\n",
       "      <td>...</td>\n",
       "      <td>...</td>\n",
       "      <td>...</td>\n",
       "      <td>...</td>\n",
       "      <td>...</td>\n",
       "      <td>...</td>\n",
       "      <td>...</td>\n",
       "      <td>...</td>\n",
       "      <td>...</td>\n",
       "      <td>...</td>\n",
       "      <td>...</td>\n",
       "      <td>...</td>\n",
       "      <td>...</td>\n",
       "      <td>...</td>\n",
       "      <td>...</td>\n",
       "      <td>...</td>\n",
       "      <td>...</td>\n",
       "    </tr>\n",
       "    <tr>\n",
       "      <th>928</th>\n",
       "      <td>1.15</td>\n",
       "      <td>36.05</td>\n",
       "      <td>36.08</td>\n",
       "      <td>35.17</td>\n",
       "      <td>35.28</td>\n",
       "      <td>36.05</td>\n",
       "      <td>36.04</td>\n",
       "      <td>36.04</td>\n",
       "      <td>36.05</td>\n",
       "      <td>36.11</td>\n",
       "      <td>...</td>\n",
       "      <td>36.12</td>\n",
       "      <td>36.13</td>\n",
       "      <td>36.95</td>\n",
       "      <td>36.99</td>\n",
       "      <td>Female</td>\n",
       "      <td>21-25</td>\n",
       "      <td>Hispanic/Latino</td>\n",
       "      <td>25.7</td>\n",
       "      <td>50.8</td>\n",
       "      <td>0.6</td>\n",
       "    </tr>\n",
       "    <tr>\n",
       "      <th>929</th>\n",
       "      <td>1.27</td>\n",
       "      <td>35.51</td>\n",
       "      <td>35.64</td>\n",
       "      <td>34.74</td>\n",
       "      <td>35.08</td>\n",
       "      <td>35.68</td>\n",
       "      <td>35.51</td>\n",
       "      <td>35.68</td>\n",
       "      <td>35.70</td>\n",
       "      <td>35.81</td>\n",
       "      <td>...</td>\n",
       "      <td>35.02</td>\n",
       "      <td>35.04</td>\n",
       "      <td>36.95</td>\n",
       "      <td>36.99</td>\n",
       "      <td>Female</td>\n",
       "      <td>21-25</td>\n",
       "      <td>Asian</td>\n",
       "      <td>25.7</td>\n",
       "      <td>50.8</td>\n",
       "      <td>0.6</td>\n",
       "    </tr>\n",
       "    <tr>\n",
       "      <th>930</th>\n",
       "      <td>1.45</td>\n",
       "      <td>35.98</td>\n",
       "      <td>35.84</td>\n",
       "      <td>35.35</td>\n",
       "      <td>35.16</td>\n",
       "      <td>35.97</td>\n",
       "      <td>35.97</td>\n",
       "      <td>35.88</td>\n",
       "      <td>36.01</td>\n",
       "      <td>35.84</td>\n",
       "      <td>...</td>\n",
       "      <td>36.58</td>\n",
       "      <td>36.60</td>\n",
       "      <td>37.25</td>\n",
       "      <td>37.19</td>\n",
       "      <td>Female</td>\n",
       "      <td>21-25</td>\n",
       "      <td>White</td>\n",
       "      <td>25.7</td>\n",
       "      <td>50.8</td>\n",
       "      <td>0.6</td>\n",
       "    </tr>\n",
       "    <tr>\n",
       "      <th>931</th>\n",
       "      <td>-0.07</td>\n",
       "      <td>36.36</td>\n",
       "      <td>36.25</td>\n",
       "      <td>35.67</td>\n",
       "      <td>35.76</td>\n",
       "      <td>36.34</td>\n",
       "      <td>36.34</td>\n",
       "      <td>36.31</td>\n",
       "      <td>36.36</td>\n",
       "      <td>36.18</td>\n",
       "      <td>...</td>\n",
       "      <td>35.53</td>\n",
       "      <td>35.57</td>\n",
       "      <td>37.35</td>\n",
       "      <td>37.59</td>\n",
       "      <td>Female</td>\n",
       "      <td>18-20</td>\n",
       "      <td>Black or African-American</td>\n",
       "      <td>28</td>\n",
       "      <td>24.3</td>\n",
       "      <td>0.6</td>\n",
       "    </tr>\n",
       "    <tr>\n",
       "      <th>932</th>\n",
       "      <td>0.80</td>\n",
       "      <td>35.62</td>\n",
       "      <td>35.58</td>\n",
       "      <td>34.85</td>\n",
       "      <td>35.29</td>\n",
       "      <td>35.62</td>\n",
       "      <td>35.61</td>\n",
       "      <td>35.61</td>\n",
       "      <td>35.63</td>\n",
       "      <td>35.56</td>\n",
       "      <td>...</td>\n",
       "      <td>35.51</td>\n",
       "      <td>35.53</td>\n",
       "      <td>37.05</td>\n",
       "      <td>37.19</td>\n",
       "      <td>Female</td>\n",
       "      <td>18-20</td>\n",
       "      <td>White</td>\n",
       "      <td>23.8</td>\n",
       "      <td>45.6</td>\n",
       "      <td>0.6</td>\n",
       "    </tr>\n",
       "  </tbody>\n",
       "</table>\n",
       "<p>933 rows × 35 columns</p>\n",
       "</div>"
      ]
     },
     "execution_count": 2,
     "metadata": {},
     "output_type": "execute_result"
    }
   ],
   "execution_count": 2
  },
  {
   "cell_type": "code",
   "source": [
    "print(infrared_df['Age'].unique())\n",
    "print(infrared_df['Ethnicity'].unique())\n",
    "print(infrared_df['Gender'].unique())"
   ],
   "metadata": {
    "collapsed": false,
    "ExecuteTime": {
     "end_time": "2024-05-24T09:06:38.266042Z",
     "start_time": "2024-05-24T09:06:38.263255Z"
    }
   },
   "id": "5ea11070a6659b41",
   "outputs": [
    {
     "name": "stdout",
     "output_type": "stream",
     "text": [
      "['18-20' '21-25' '>60' '26-30' '31-40' '51-60' '41-50' '21-30']\n",
      "['Asian' 'Hispanic/Latino' 'White' 'Black or African-American'\n",
      " 'Multiracial' 'American Indian or Alaskan Native']\n",
      "['Female' 'Male']\n"
     ]
    }
   ],
   "execution_count": 3
  },
  {
   "cell_type": "code",
   "source": [
    "infrared_df['Age'] = infrared_df['Age'].replace(['21-25', '26-30'], '21-30')\n",
    "print(infrared_df['Age'].unique())"
   ],
   "metadata": {
    "collapsed": false,
    "ExecuteTime": {
     "end_time": "2024-05-24T09:06:38.355798Z",
     "start_time": "2024-05-24T09:06:38.351988Z"
    }
   },
   "id": "23dc5212b5f9f282",
   "outputs": [
    {
     "name": "stdout",
     "output_type": "stream",
     "text": [
      "['18-20' '21-30' '>60' '31-40' '51-60' '41-50']\n"
     ]
    }
   ],
   "execution_count": 4
  },
  {
   "cell_type": "code",
   "source": [
    "feature_mappings = {\n",
    "    'Age': ['18-20', '21-30', '31-40', '41-50', '51-60', '>60']\n",
    "}\n",
    "ordinal_cols = ['Age']\n",
    "one_hot_cols = ['Ethnicity', 'Gender']\n",
    "ordinal_categories = [feature_mappings[col] for col in ordinal_cols]\n",
    "\n",
    "numerical_cols = infrared_df.select_dtypes(include=\"number\").columns\n",
    "# convert numerical columns to list\n",
    "numerical_cols = numerical_cols.tolist()\n",
    "\n",
    "preprocessor = ColumnTransformer([\n",
    "    ('ordinal', OrdinalEncoder(categories=ordinal_categories), ordinal_cols),\n",
    "    ('categorical', OneHotEncoder(handle_unknown=\"ignore\"), one_hot_cols)\n",
    "],\n",
    "    remainder='passthrough'  # passthrough columns not listed in any pipeline\n",
    ")\n",
    "\n",
    "pipeline = Pipeline([\n",
    "    ('preprocessor', preprocessor),\n",
    "    ('scaler', MinMaxScaler())\n",
    "])\n",
    "\n",
    "ordinal_categories"
   ],
   "metadata": {
    "collapsed": false,
    "ExecuteTime": {
     "end_time": "2024-05-24T09:06:38.474737Z",
     "start_time": "2024-05-24T09:06:38.470138Z"
    }
   },
   "id": "228a53d1473daaf1",
   "outputs": [
    {
     "data": {
      "text/plain": [
       "[['18-20', '21-30', '31-40', '41-50', '51-60', '>60']]"
      ]
     },
     "execution_count": 5,
     "metadata": {},
     "output_type": "execute_result"
    }
   ],
   "execution_count": 5
  },
  {
   "cell_type": "code",
   "source": [
    "infrared_df = infrared_df.drop('aveOralF',axis=1) # Set has two targets so drop one and chose the other\n",
    "X = infrared_df.drop('aveOralM', axis=1) \n",
    "y = infrared_df[('aveOralM')] \n",
    "\n",
    "ir_X_train, ir_X_test, ir_y_train, ir_y_test = train_test_split(X, y, test_size=0.2, random_state=42)"
   ],
   "metadata": {
    "collapsed": false,
    "ExecuteTime": {
     "end_time": "2024-05-24T09:06:38.599020Z",
     "start_time": "2024-05-24T09:06:38.593407Z"
    }
   },
   "id": "35417a0dc9067cf5",
   "outputs": [],
   "execution_count": 6
  },
  {
   "cell_type": "code",
   "source": [
    "ir_X_train = pipeline.fit_transform(ir_X_train)\n",
    "ir_X_test = pipeline.transform(ir_X_test)\n",
    "\n",
    "ir_y_train = ir_y_train.to_numpy()\n",
    "ir_y_test = ir_y_test.to_numpy()\n",
    "ir_X_train"
   ],
   "metadata": {
    "collapsed": false,
    "ExecuteTime": {
     "end_time": "2024-05-24T09:06:38.778082Z",
     "start_time": "2024-05-24T09:06:38.761527Z"
    }
   },
   "id": "6bc03e2b2d128bf7",
   "outputs": [
    {
     "data": {
      "text/plain": [
       "array([[2.00000000e-01, 0.00000000e+00, 0.00000000e+00, ...,\n",
       "        3.57142857e-01, 7.11462451e-01, 7.64720877e-04],\n",
       "       [2.00000000e-01, 0.00000000e+00, 0.00000000e+00, ...,\n",
       "        1.42857143e-01, 3.10276680e-01, 3.05888351e-03],\n",
       "       [0.00000000e+00, 0.00000000e+00, 0.00000000e+00, ...,\n",
       "        5.95238095e-01, 3.26086957e-01, 7.64720877e-04],\n",
       "       ...,\n",
       "       [2.00000000e-01, 0.00000000e+00, 1.00000000e+00, ...,\n",
       "        3.69047619e-01, 1.56126482e-01, 7.64720877e-04],\n",
       "       [0.00000000e+00, 0.00000000e+00, 1.00000000e+00, ...,\n",
       "        7.14285714e-01, 2.13438735e-01, 7.64720877e-04],\n",
       "       [2.00000000e-01, 0.00000000e+00, 0.00000000e+00, ...,\n",
       "        4.52380952e-01, 3.16205534e-01, 3.18633699e-03]])"
      ]
     },
     "execution_count": 7,
     "metadata": {},
     "output_type": "execute_result"
    }
   ],
   "execution_count": 7
  },
  {
   "cell_type": "markdown",
   "source": [
    "# Black Friday"
   ],
   "metadata": {
    "collapsed": false
   },
   "id": "d956b6bb02ec994b"
  },
  {
   "cell_type": "code",
   "source": [
    "data, meta = arff.loadarff(\"./black_friday.arff\")\n",
    "black_df = pd.DataFrame(data)\n",
    "\n",
    "for column in black_df.columns:\n",
    "    # replace missing values with pd.NA\n",
    "    black_df[column] = black_df[column].replace(b'?', pd.NA)\n",
    "    black_df[column] = black_df[column].replace(b'', pd.NA)\n",
    "    black_df[column] = black_df[column].replace(b'NONE', pd.NA)\n",
    "    # decode bytes to string for each column\n",
    "    black_df[column] = black_df[column].apply(lambda x: x.decode() if isinstance(x, bytes) else x)\n",
    "black_df"
   ],
   "metadata": {
    "collapsed": false,
    "ExecuteTime": {
     "end_time": "2024-05-24T09:06:40.420690Z",
     "start_time": "2024-05-24T09:06:38.974050Z"
    }
   },
   "id": "7c323817f811d4b0",
   "outputs": [
    {
     "data": {
      "text/plain": [
       "       Gender    Age  Occupation City_Category Stay_In_Current_City_Years  \\\n",
       "0           F   0-17        10.0             A                          2   \n",
       "1           M  46-50         7.0             B                          2   \n",
       "2           M  26-35        20.0             A                          1   \n",
       "3           F  51-55         9.0             A                          1   \n",
       "4           F  51-55         9.0             A                          1   \n",
       "...       ...    ...         ...           ...                        ...   \n",
       "166816      F  46-50         0.0             B                         4+   \n",
       "166817      M  26-35         6.0             B                          2   \n",
       "166818      M  26-35         6.0             B                          2   \n",
       "166819      M  26-35         6.0             B                          2   \n",
       "166820      M  26-35         6.0             B                          2   \n",
       "\n",
       "        Marital_Status  Product_Category_1  Product_Category_2  \\\n",
       "0                  0.0                 1.0                 6.0   \n",
       "1                  1.0                 1.0                 8.0   \n",
       "2                  1.0                 1.0                 2.0   \n",
       "3                  0.0                 5.0                 8.0   \n",
       "4                  0.0                 2.0                 3.0   \n",
       "...                ...                 ...                 ...   \n",
       "166816             1.0                 3.0                 4.0   \n",
       "166817             0.0                 6.0                 8.0   \n",
       "166818             0.0                 2.0                 3.0   \n",
       "166819             0.0                 1.0                 2.0   \n",
       "166820             0.0                 1.0                 2.0   \n",
       "\n",
       "        Product_Category_3  Purchase  \n",
       "0                     14.0   15200.0  \n",
       "1                     17.0   19215.0  \n",
       "2                      5.0   15665.0  \n",
       "3                     14.0    5378.0  \n",
       "4                      4.0   13055.0  \n",
       "...                    ...       ...  \n",
       "166816                12.0    8047.0  \n",
       "166817                14.0   16493.0  \n",
       "166818                10.0    3425.0  \n",
       "166819                15.0   15694.0  \n",
       "166820                11.0   11640.0  \n",
       "\n",
       "[166821 rows x 10 columns]"
      ],
      "text/html": [
       "<div>\n",
       "<style scoped>\n",
       "    .dataframe tbody tr th:only-of-type {\n",
       "        vertical-align: middle;\n",
       "    }\n",
       "\n",
       "    .dataframe tbody tr th {\n",
       "        vertical-align: top;\n",
       "    }\n",
       "\n",
       "    .dataframe thead th {\n",
       "        text-align: right;\n",
       "    }\n",
       "</style>\n",
       "<table border=\"1\" class=\"dataframe\">\n",
       "  <thead>\n",
       "    <tr style=\"text-align: right;\">\n",
       "      <th></th>\n",
       "      <th>Gender</th>\n",
       "      <th>Age</th>\n",
       "      <th>Occupation</th>\n",
       "      <th>City_Category</th>\n",
       "      <th>Stay_In_Current_City_Years</th>\n",
       "      <th>Marital_Status</th>\n",
       "      <th>Product_Category_1</th>\n",
       "      <th>Product_Category_2</th>\n",
       "      <th>Product_Category_3</th>\n",
       "      <th>Purchase</th>\n",
       "    </tr>\n",
       "  </thead>\n",
       "  <tbody>\n",
       "    <tr>\n",
       "      <th>0</th>\n",
       "      <td>F</td>\n",
       "      <td>0-17</td>\n",
       "      <td>10.0</td>\n",
       "      <td>A</td>\n",
       "      <td>2</td>\n",
       "      <td>0.0</td>\n",
       "      <td>1.0</td>\n",
       "      <td>6.0</td>\n",
       "      <td>14.0</td>\n",
       "      <td>15200.0</td>\n",
       "    </tr>\n",
       "    <tr>\n",
       "      <th>1</th>\n",
       "      <td>M</td>\n",
       "      <td>46-50</td>\n",
       "      <td>7.0</td>\n",
       "      <td>B</td>\n",
       "      <td>2</td>\n",
       "      <td>1.0</td>\n",
       "      <td>1.0</td>\n",
       "      <td>8.0</td>\n",
       "      <td>17.0</td>\n",
       "      <td>19215.0</td>\n",
       "    </tr>\n",
       "    <tr>\n",
       "      <th>2</th>\n",
       "      <td>M</td>\n",
       "      <td>26-35</td>\n",
       "      <td>20.0</td>\n",
       "      <td>A</td>\n",
       "      <td>1</td>\n",
       "      <td>1.0</td>\n",
       "      <td>1.0</td>\n",
       "      <td>2.0</td>\n",
       "      <td>5.0</td>\n",
       "      <td>15665.0</td>\n",
       "    </tr>\n",
       "    <tr>\n",
       "      <th>3</th>\n",
       "      <td>F</td>\n",
       "      <td>51-55</td>\n",
       "      <td>9.0</td>\n",
       "      <td>A</td>\n",
       "      <td>1</td>\n",
       "      <td>0.0</td>\n",
       "      <td>5.0</td>\n",
       "      <td>8.0</td>\n",
       "      <td>14.0</td>\n",
       "      <td>5378.0</td>\n",
       "    </tr>\n",
       "    <tr>\n",
       "      <th>4</th>\n",
       "      <td>F</td>\n",
       "      <td>51-55</td>\n",
       "      <td>9.0</td>\n",
       "      <td>A</td>\n",
       "      <td>1</td>\n",
       "      <td>0.0</td>\n",
       "      <td>2.0</td>\n",
       "      <td>3.0</td>\n",
       "      <td>4.0</td>\n",
       "      <td>13055.0</td>\n",
       "    </tr>\n",
       "    <tr>\n",
       "      <th>...</th>\n",
       "      <td>...</td>\n",
       "      <td>...</td>\n",
       "      <td>...</td>\n",
       "      <td>...</td>\n",
       "      <td>...</td>\n",
       "      <td>...</td>\n",
       "      <td>...</td>\n",
       "      <td>...</td>\n",
       "      <td>...</td>\n",
       "      <td>...</td>\n",
       "    </tr>\n",
       "    <tr>\n",
       "      <th>166816</th>\n",
       "      <td>F</td>\n",
       "      <td>46-50</td>\n",
       "      <td>0.0</td>\n",
       "      <td>B</td>\n",
       "      <td>4+</td>\n",
       "      <td>1.0</td>\n",
       "      <td>3.0</td>\n",
       "      <td>4.0</td>\n",
       "      <td>12.0</td>\n",
       "      <td>8047.0</td>\n",
       "    </tr>\n",
       "    <tr>\n",
       "      <th>166817</th>\n",
       "      <td>M</td>\n",
       "      <td>26-35</td>\n",
       "      <td>6.0</td>\n",
       "      <td>B</td>\n",
       "      <td>2</td>\n",
       "      <td>0.0</td>\n",
       "      <td>6.0</td>\n",
       "      <td>8.0</td>\n",
       "      <td>14.0</td>\n",
       "      <td>16493.0</td>\n",
       "    </tr>\n",
       "    <tr>\n",
       "      <th>166818</th>\n",
       "      <td>M</td>\n",
       "      <td>26-35</td>\n",
       "      <td>6.0</td>\n",
       "      <td>B</td>\n",
       "      <td>2</td>\n",
       "      <td>0.0</td>\n",
       "      <td>2.0</td>\n",
       "      <td>3.0</td>\n",
       "      <td>10.0</td>\n",
       "      <td>3425.0</td>\n",
       "    </tr>\n",
       "    <tr>\n",
       "      <th>166819</th>\n",
       "      <td>M</td>\n",
       "      <td>26-35</td>\n",
       "      <td>6.0</td>\n",
       "      <td>B</td>\n",
       "      <td>2</td>\n",
       "      <td>0.0</td>\n",
       "      <td>1.0</td>\n",
       "      <td>2.0</td>\n",
       "      <td>15.0</td>\n",
       "      <td>15694.0</td>\n",
       "    </tr>\n",
       "    <tr>\n",
       "      <th>166820</th>\n",
       "      <td>M</td>\n",
       "      <td>26-35</td>\n",
       "      <td>6.0</td>\n",
       "      <td>B</td>\n",
       "      <td>2</td>\n",
       "      <td>0.0</td>\n",
       "      <td>1.0</td>\n",
       "      <td>2.0</td>\n",
       "      <td>11.0</td>\n",
       "      <td>11640.0</td>\n",
       "    </tr>\n",
       "  </tbody>\n",
       "</table>\n",
       "<p>166821 rows × 10 columns</p>\n",
       "</div>"
      ]
     },
     "execution_count": 8,
     "metadata": {},
     "output_type": "execute_result"
    }
   ],
   "execution_count": 8
  },
  {
   "cell_type": "code",
   "source": [
    "y = black_df[('Purchase')] \n",
    "X = black_df.drop('Purchase', axis=1)  # Features\n",
    "\n",
    "bf_X_train, bf_X_test, bf_y_train, bf_y_test = train_test_split(X, y, test_size=0.2, random_state=42)"
   ],
   "metadata": {
    "collapsed": false,
    "ExecuteTime": {
     "end_time": "2024-05-24T09:06:40.455027Z",
     "start_time": "2024-05-24T09:06:40.421614Z"
    }
   },
   "id": "4846891a4115c5cb",
   "outputs": [],
   "execution_count": 9
  },
  {
   "metadata": {
    "ExecuteTime": {
     "end_time": "2024-05-24T09:06:40.463249Z",
     "start_time": "2024-05-24T09:06:40.455775Z"
    }
   },
   "cell_type": "code",
   "source": "print(black_df['Age'].unique())",
   "id": "d4d93397403d4f2d",
   "outputs": [
    {
     "name": "stdout",
     "output_type": "stream",
     "text": [
      "['0-17' '46-50' '26-35' '51-55' '36-45' '18-25' '55+']\n"
     ]
    }
   ],
   "execution_count": 10
  },
  {
   "metadata": {
    "ExecuteTime": {
     "end_time": "2024-05-24T09:06:40.485882Z",
     "start_time": "2024-05-24T09:06:40.464156Z"
    }
   },
   "cell_type": "code",
   "source": [
    "feature_mappings = {\n",
    "    'Age': ['0-17','18-25','26-35', '36-45', '46-50', '51-55', '55+']\n",
    "}\n",
    "ordinal_cols = ['Age']\n",
    "one_hot_cols = ['City_Category', 'Gender', 'Stay_In_Current_City_Years']\n",
    "ordinal_categories = [feature_mappings[col] for col in ordinal_cols]\n",
    "\n",
    "numerical_cols = [col for col in black_df.select_dtypes(include=\"number\").columns if col != 'Purchase']\n",
    "\n",
    "preprocessor = ColumnTransformer([\n",
    "    ('ordinal', OrdinalEncoder(categories=ordinal_categories), ordinal_cols),\n",
    "    ('categorical', OneHotEncoder(handle_unknown=\"ignore\"), one_hot_cols),\n",
    "],\n",
    "    remainder='passthrough'  # passthrough columns not listed in any pipeline\n",
    ")\n",
    "\n",
    "pipeline = Pipeline([\n",
    "    ('preprocessor', preprocessor),\n",
    "    ('scaler', MinMaxScaler())\n",
    "])\n",
    "\n"
   ],
   "id": "d1cb199d073fff53",
   "outputs": [],
   "execution_count": 11
  },
  {
   "metadata": {
    "ExecuteTime": {
     "end_time": "2024-05-24T09:06:40.641780Z",
     "start_time": "2024-05-24T09:06:40.486605Z"
    }
   },
   "cell_type": "code",
   "source": [
    "\n",
    "bf_X_train = pipeline.fit_transform(bf_X_train)\n",
    "bf_X_test = pipeline.transform(bf_X_test)\n",
    "bf_y_train = bf_y_train.to_numpy()\n",
    "bf_y_test = bf_y_test.to_numpy()\n",
    "bf_X_train"
   ],
   "id": "1f0049ec9b466cb0",
   "outputs": [
    {
     "data": {
      "text/plain": [
       "array([[0.33333333, 1.        , 0.        , ..., 0.5       , 0.85714286,\n",
       "        0.86666667],\n",
       "       [0.33333333, 1.        , 0.        , ..., 0.85714286, 0.92857143,\n",
       "        0.86666667],\n",
       "       [0.33333333, 0.        , 1.        , ..., 0.        , 0.28571429,\n",
       "        0.73333333],\n",
       "       ...,\n",
       "       [0.16666667, 0.        , 1.        , ..., 0.        , 0.28571429,\n",
       "        0.73333333],\n",
       "       [0.5       , 1.        , 0.        , ..., 0.07142857, 0.14285714,\n",
       "        0.13333333],\n",
       "       [0.66666667, 0.        , 1.        , ..., 0.        , 0.        ,\n",
       "        0.13333333]])"
      ]
     },
     "execution_count": 12,
     "metadata": {},
     "output_type": "execute_result"
    }
   ],
   "execution_count": 12
  },
  {
   "cell_type": "markdown",
   "source": [
    "# Power plant"
   ],
   "metadata": {
    "collapsed": false
   },
   "id": "f0fb525e03fde08d"
  },
  {
   "cell_type": "code",
   "source": [
    "ccpp_df = pd.read_excel(\"./CCPP/Folds5x2_pp.xlsx\")\n",
    "ccpp_df"
   ],
   "metadata": {
    "collapsed": false,
    "ExecuteTime": {
     "end_time": "2024-05-24T09:06:41.174044Z",
     "start_time": "2024-05-24T09:06:40.642627Z"
    }
   },
   "id": "e36f1174b2578075",
   "outputs": [
    {
     "data": {
      "text/plain": [
       "         AT      V       AP     RH      PE\n",
       "0     14.96  41.76  1024.07  73.17  463.26\n",
       "1     25.18  62.96  1020.04  59.08  444.37\n",
       "2      5.11  39.40  1012.16  92.14  488.56\n",
       "3     20.86  57.32  1010.24  76.64  446.48\n",
       "4     10.82  37.50  1009.23  96.62  473.90\n",
       "...     ...    ...      ...    ...     ...\n",
       "9563  16.65  49.69  1014.01  91.00  460.03\n",
       "9564  13.19  39.18  1023.67  66.78  469.62\n",
       "9565  31.32  74.33  1012.92  36.48  429.57\n",
       "9566  24.48  69.45  1013.86  62.39  435.74\n",
       "9567  21.60  62.52  1017.23  67.87  453.28\n",
       "\n",
       "[9568 rows x 5 columns]"
      ],
      "text/html": [
       "<div>\n",
       "<style scoped>\n",
       "    .dataframe tbody tr th:only-of-type {\n",
       "        vertical-align: middle;\n",
       "    }\n",
       "\n",
       "    .dataframe tbody tr th {\n",
       "        vertical-align: top;\n",
       "    }\n",
       "\n",
       "    .dataframe thead th {\n",
       "        text-align: right;\n",
       "    }\n",
       "</style>\n",
       "<table border=\"1\" class=\"dataframe\">\n",
       "  <thead>\n",
       "    <tr style=\"text-align: right;\">\n",
       "      <th></th>\n",
       "      <th>AT</th>\n",
       "      <th>V</th>\n",
       "      <th>AP</th>\n",
       "      <th>RH</th>\n",
       "      <th>PE</th>\n",
       "    </tr>\n",
       "  </thead>\n",
       "  <tbody>\n",
       "    <tr>\n",
       "      <th>0</th>\n",
       "      <td>14.96</td>\n",
       "      <td>41.76</td>\n",
       "      <td>1024.07</td>\n",
       "      <td>73.17</td>\n",
       "      <td>463.26</td>\n",
       "    </tr>\n",
       "    <tr>\n",
       "      <th>1</th>\n",
       "      <td>25.18</td>\n",
       "      <td>62.96</td>\n",
       "      <td>1020.04</td>\n",
       "      <td>59.08</td>\n",
       "      <td>444.37</td>\n",
       "    </tr>\n",
       "    <tr>\n",
       "      <th>2</th>\n",
       "      <td>5.11</td>\n",
       "      <td>39.40</td>\n",
       "      <td>1012.16</td>\n",
       "      <td>92.14</td>\n",
       "      <td>488.56</td>\n",
       "    </tr>\n",
       "    <tr>\n",
       "      <th>3</th>\n",
       "      <td>20.86</td>\n",
       "      <td>57.32</td>\n",
       "      <td>1010.24</td>\n",
       "      <td>76.64</td>\n",
       "      <td>446.48</td>\n",
       "    </tr>\n",
       "    <tr>\n",
       "      <th>4</th>\n",
       "      <td>10.82</td>\n",
       "      <td>37.50</td>\n",
       "      <td>1009.23</td>\n",
       "      <td>96.62</td>\n",
       "      <td>473.90</td>\n",
       "    </tr>\n",
       "    <tr>\n",
       "      <th>...</th>\n",
       "      <td>...</td>\n",
       "      <td>...</td>\n",
       "      <td>...</td>\n",
       "      <td>...</td>\n",
       "      <td>...</td>\n",
       "    </tr>\n",
       "    <tr>\n",
       "      <th>9563</th>\n",
       "      <td>16.65</td>\n",
       "      <td>49.69</td>\n",
       "      <td>1014.01</td>\n",
       "      <td>91.00</td>\n",
       "      <td>460.03</td>\n",
       "    </tr>\n",
       "    <tr>\n",
       "      <th>9564</th>\n",
       "      <td>13.19</td>\n",
       "      <td>39.18</td>\n",
       "      <td>1023.67</td>\n",
       "      <td>66.78</td>\n",
       "      <td>469.62</td>\n",
       "    </tr>\n",
       "    <tr>\n",
       "      <th>9565</th>\n",
       "      <td>31.32</td>\n",
       "      <td>74.33</td>\n",
       "      <td>1012.92</td>\n",
       "      <td>36.48</td>\n",
       "      <td>429.57</td>\n",
       "    </tr>\n",
       "    <tr>\n",
       "      <th>9566</th>\n",
       "      <td>24.48</td>\n",
       "      <td>69.45</td>\n",
       "      <td>1013.86</td>\n",
       "      <td>62.39</td>\n",
       "      <td>435.74</td>\n",
       "    </tr>\n",
       "    <tr>\n",
       "      <th>9567</th>\n",
       "      <td>21.60</td>\n",
       "      <td>62.52</td>\n",
       "      <td>1017.23</td>\n",
       "      <td>67.87</td>\n",
       "      <td>453.28</td>\n",
       "    </tr>\n",
       "  </tbody>\n",
       "</table>\n",
       "<p>9568 rows × 5 columns</p>\n",
       "</div>"
      ]
     },
     "execution_count": 13,
     "metadata": {},
     "output_type": "execute_result"
    }
   ],
   "execution_count": 13
  },
  {
   "cell_type": "code",
   "source": [
    "X = ccpp_df.drop('PE', axis=1)\n",
    "y = ccpp_df.PE\n",
    "# Split for training\n",
    "ccpp_X_train, ccpp_X_test, ccpp_y_train, ccpp_y_test = train_test_split(X, y, test_size=0.2, random_state=42)"
   ],
   "metadata": {
    "collapsed": false,
    "ExecuteTime": {
     "end_time": "2024-05-24T09:06:41.584077Z",
     "start_time": "2024-05-24T09:06:41.579215Z"
    }
   },
   "id": "7854b4c2a383983",
   "outputs": [],
   "execution_count": 14
  },
  {
   "cell_type": "code",
   "source": [
    "cols_to_scale = remaining_columns = [col for col in ccpp_df.columns if col != \"PE\"]\n",
    "preprocessor = ColumnTransformer(\n",
    "    transformers=[('scaler', MinMaxScaler(), cols_to_scale)],\n",
    "    remainder='passthrough')\n",
    "\n",
    "ccpp_X_train = preprocessor.fit_transform(ccpp_X_train)\n",
    "ccpp_X_test = preprocessor.transform(ccpp_X_test)\n",
    "ccpp_y_train = ccpp_y_train.to_numpy()\n",
    "ccpp_y_test = ccpp_y_test.to_numpy()\n",
    "ccpp_X_train"
   ],
   "metadata": {
    "collapsed": false,
    "ExecuteTime": {
     "end_time": "2024-05-24T09:06:41.607355Z",
     "start_time": "2024-05-24T09:06:41.584629Z"
    }
   },
   "id": "3c0ad6d50eb52a53",
   "outputs": [
    {
     "data": {
      "text/plain": [
       "array([[0.59585185, 0.42099644, 0.40584014, 0.84294611],\n",
       "       [0.27496296, 0.26814947, 0.80623608, 0.65894936],\n",
       "       [0.19792593, 0.25355872, 0.69685721, 0.83184403],\n",
       "       ...,\n",
       "       [0.76977778, 0.78060498, 0.49418461, 0.26279448],\n",
       "       [0.30962963, 0.28718861, 0.54392477, 0.85445437],\n",
       "       [0.29451852, 0.2702847 , 0.62360802, 0.96669374]])"
      ]
     },
     "execution_count": 15,
     "metadata": {},
     "output_type": "execute_result"
    }
   ],
   "execution_count": 15
  },
  {
   "cell_type": "markdown",
   "source": [
    "## knn evaluation"
   ],
   "metadata": {
    "collapsed": false
   },
   "id": "a065f5bf581cc231"
  },
  {
   "metadata": {
    "ExecuteTime": {
     "end_time": "2024-05-24T09:06:42.686046Z",
     "start_time": "2024-05-24T09:06:42.681605Z"
    }
   },
   "cell_type": "code",
   "source": "### neighbors",
   "id": "e8c1adda1f8e42f0",
   "outputs": [],
   "execution_count": 16
  },
  {
   "metadata": {
    "ExecuteTime": {
     "end_time": "2024-05-24T09:09:09.956873Z",
     "start_time": "2024-05-24T09:08:51.999678Z"
    }
   },
   "cell_type": "code",
   "source": [
    "\n",
    "hyperparameters = {\n",
    "    #'n_neighbors': 5,\n",
    "    'algorithm': 'kd_tree',\n",
    "    'metric': 'minkowski',\n",
    "    'leaf_size': 30\n",
    "}\n",
    "hyperparameters_iterator = {'n_neighbors': [1, 3, 5, 7, 9, 11, 13, 15, 17, 19]}\n",
    "knn_neigh_ccpp = evaluator.evaluate2(CustomKNeighborsRegressor, ccpp_X_train, ccpp_y_train, ccpp_X_test, ccpp_y_test, hyperparameters=hyperparameters,\n",
    "                           hyperparameters_iterate=hyperparameters_iterator)\n",
    "\n",
    "knn_neigh_bf = evaluator.evaluate2(CustomKNeighborsRegressor, bf_X_train, bf_y_train, bf_X_test, bf_y_test, hyperparameters=hyperparameters,\n",
    "                           hyperparameters_iterate=hyperparameters_iterator)\n",
    "\n",
    "knn_neigh_ir = evaluator.evaluate2(CustomKNeighborsRegressor, ir_X_train, ir_y_train, ir_X_test, ir_y_test, hyperparameters=hyperparameters,    \n",
    "                           hyperparameters_iterate=hyperparameters_iterator)\n"
   ],
   "id": "b7da21515063a4a3",
   "outputs": [
    {
     "name": "stdout",
     "output_type": "stream",
     "text": [
      "================================================================================\n",
      "Evaluating Model:  CustomKNeighborsRegressor\n",
      "Hyperparameters:  {'algorithm': 'kd_tree', 'metric': 'minkowski', 'leaf_size': 30}\n",
      "========================================\n",
      "Hyperparameter  n_neighbors  value:  1\n",
      "R2:  0.9385833229321203\n",
      "MSE:  17.814397283176586\n",
      "========================================\n",
      "Hyperparameter  n_neighbors  value:  3\n",
      "R2:  0.9523652741949353\n",
      "MSE:  13.81683234064786\n",
      "========================================\n",
      "Hyperparameter  n_neighbors  value:  5\n",
      "R2:  0.952596495260365\n",
      "MSE:  13.749764825496353\n",
      "================================================================================\n"
     ]
    },
    {
     "data": {
      "text/plain": [
       "<Figure size 1000x600 with 1 Axes>"
      ],
      "image/png": "[encoded data removed]"
     },
     "metadata": {},
     "output_type": "display_data"
    },
    {
     "data": {
      "text/plain": [
       "<Figure size 1000x600 with 1 Axes>"
      ],
      "image/png": "[encoded data removed]"
     },
     "metadata": {},
     "output_type": "display_data"
    },
    {
     "data": {
      "text/plain": [
       "<Figure size 1000x600 with 1 Axes>"
      ],
      "image/png": "[encoded data removed]"
     },
     "metadata": {},
     "output_type": "display_data"
    }
   ],
   "execution_count": 18
  },
  {
   "metadata": {},
   "cell_type": "code",
   "outputs": [],
   "execution_count": null,
   "source": "evaluator.draw_diagram2_list({\"knn_neigh_ccpp\": knn_neigh_ccpp}, x_axis='n_neighbors', y_axis=['R2', \"MSE\" ,'time'], logaritmic=False)",
   "id": "8bfeeb001d57aec8"
  },
  {
   "cell_type": "markdown",
   "source": [
    "### metric"
   ],
   "metadata": {
    "collapsed": false
   },
   "id": "5b5a09f7bb10bb86"
  },
  {
   "cell_type": "markdown",
   "source": [
    "### leaf size"
   ],
   "metadata": {
    "collapsed": false
   },
   "id": "a4d71fe8a068f838"
  },
  {
   "cell_type": "markdown",
   "source": [
    "## gradient"
   ],
   "metadata": {
    "collapsed": false
   },
   "id": "9650a43f00b0d93d"
  },
  {
   "cell_type": "markdown",
   "source": [
    "# datasets"
   ],
   "metadata": {
    "collapsed": false
   },
   "id": "216a70b5aa56f8c9"
  },
  {
   "cell_type": "code",
   "outputs": [],
   "source": [],
   "metadata": {
    "collapsed": false
   },
   "id": "9023bdaa6e718057",
   "execution_count": null
  },
  {
   "cell_type": "markdown",
   "source": [
    "## Gradient Descent Evaluation"
   ],
   "metadata": {
    "collapsed": false
   },
   "id": "52359ec1314cebca"
  },
  {
   "cell_type": "markdown",
   "source": [
    "### Learning rate"
   ],
   "metadata": {
    "collapsed": false
   },
   "id": "f1f8e9c9b38ceae5"
  },
  {
   "cell_type": "code",
   "outputs": [],
   "source": [],
   "metadata": {
    "collapsed": false
   },
   "id": "8d736ea0afc68635",
   "execution_count": null
  },
  {
   "cell_type": "markdown",
   "source": [
    "### Max Iterations"
   ],
   "metadata": {
    "collapsed": false
   },
   "id": "37927c2945ad0be3"
  },
  {
   "cell_type": "code",
   "outputs": [],
   "source": [],
   "metadata": {
    "collapsed": false
   },
   "id": "aa35c61b6e8af51",
   "execution_count": null
  },
  {
   "cell_type": "markdown",
   "source": [
    "### Runtime comparison"
   ],
   "metadata": {
    "collapsed": false
   },
   "id": "d847d795e1346f5a"
  },
  {
   "cell_type": "code",
   "outputs": [],
   "source": [],
   "metadata": {
    "collapsed": false
   },
   "id": "598014cece5e06ad",
   "execution_count": null
  },
  {
   "cell_type": "markdown",
   "source": [
    "### Best run comparison"
   ],
   "metadata": {
    "collapsed": false
   },
   "id": "feaf6ffca55e66c"
  },
  {
   "cell_type": "code",
   "outputs": [],
   "source": [],
   "metadata": {
    "collapsed": false
   },
   "id": "d2fc59cd57c8fc00",
   "execution_count": null
  },
  {
   "cell_type": "code",
   "outputs": [
    {
     "name": "stdout",
     "output_type": "stream",
     "text": [
      "sklearn sgd regressor:  21540622.412840787\n",
      "my regressor:  63425169.15540652\n"
     ]
    }
   ],
   "source": [
    "from sklearn.linear_model import SGDRegressor\n",
    "from sklearn.metrics import mean_squared_error\n",
    "from gradient import MyGDRegressor\n",
    "\n",
    "# bf_X_train, bf_X_test, bf_y_train, bf_y_test\n",
    "\n",
    "max_iter = 1000\n",
    "alpha = 0.0001\n",
    "\n",
    "sgd_regressor = SGDRegressor(max_iter=max_iter, alpha=alpha, eta0=alpha,\n",
    "                             loss='squared_error',\n",
    "                             learning_rate='constant', tol=None,\n",
    "                             shuffle=False,\n",
    "                             penalty=None\n",
    "                             )\n",
    "sgd_regressor.fit(bf_X_train, bf_y_train)\n",
    "sgd_y_pred = sgd_regressor.predict(bf_X_test)\n",
    "\n",
    "my_gd_regressor = MyGDRegressor(max_iter=max_iter, alpha=alpha)\n",
    "my_gd_regressor.fit(bf_X_train, bf_y_train)\n",
    "my_y_pred = my_gd_regressor.predict(bf_X_test)\n",
    "\n",
    "# Calc mean squared error for evaluation\n",
    "sgd_mse = mean_squared_error(bf_y_test, sgd_y_pred)\n",
    "my_mse = mean_squared_error(bf_y_test, my_y_pred)\n",
    "print(\"sklearn sgd regressor: \", sgd_mse)\n",
    "print(\"my regressor: \", my_mse)"
   ],
   "metadata": {
    "collapsed": false,
    "ExecuteTime": {
     "end_time": "2024-05-24T07:56:07.820550600Z",
     "start_time": "2024-05-24T07:55:57.937798400Z"
    }
   },
   "id": "da3f8b1ff8fead1a",
   "execution_count": 10
  },
  {
   "cell_type": "code",
   "outputs": [],
   "source": [],
   "metadata": {
    "collapsed": false
   },
   "id": "3a26392e14fee104",
   "execution_count": null
  }
 ],
 "metadata": {
  "kernelspec": {
   "display_name": "Python 3",
   "language": "python",
   "name": "python3"
  },
  "language_info": {
   "codemirror_mode": {
    "name": "ipython",
    "version": 2
   },
   "file_extension": ".py",
   "mimetype": "text/x-python",
   "name": "python",
   "nbconvert_exporter": "python",
   "pygments_lexer": "ipython2",
   "version": "2.7.6"
  }
 },
 "nbformat": 4,
 "nbformat_minor": 5
}
