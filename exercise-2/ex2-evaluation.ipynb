{
 "cells": [
  {
   "cell_type": "code",
   "execution_count": 94,
   "id": "initial_id",
   "metadata": {
    "collapsed": true,
    "ExecuteTime": {
     "end_time": "2024-05-20T14:49:50.367802Z",
     "start_time": "2024-05-20T14:49:50.363292Z"
    }
   },
   "outputs": [],
   "source": [
    "import numpy\n",
    "import pandas as pd\n",
    "from scipy.io import arff\n",
    "from sklearn.compose import ColumnTransformer\n",
    "from sklearn.model_selection import train_test_split\n",
    "from sklearn.pipeline import Pipeline\n",
    "from sklearn.preprocessing import MinMaxScaler, OrdinalEncoder, OneHotEncoder"
   ]
  },
  {
   "cell_type": "markdown",
   "source": [
    "# Infrared Thermography Temperature"
   ],
   "metadata": {
    "collapsed": false
   },
   "id": "86b49521987034a6"
  },
  {
   "cell_type": "code",
   "outputs": [
    {
     "data": {
      "text/plain": "2   T_offset1 Max1R13_1 Max1L13_1 aveAllR13_1 aveAllL13_1  T_RC1 T_RC_Dry1  \\\n0        0.17     34.92     35.09       34.53       34.67  34.93     34.92   \n1        0.92     36.12     35.87       35.50       35.27  36.08     36.08   \n2        0.82     35.05     35.05       33.72       34.29  35.14     35.06   \n3        0.88     35.90     35.71       34.99       35.27  35.88     35.88   \n4        0.63     34.99     34.43       34.61       33.72  34.97     34.97   \n..        ...       ...       ...         ...         ...    ...       ...   \n928      1.15     36.05     36.08       35.17       35.28  36.05     36.04   \n929      1.27     35.51     35.64       34.74       35.08  35.68     35.51   \n930      1.45     35.98     35.84       35.35       35.16  35.97     35.97   \n931     -0.07     36.36     36.25       35.67       35.76  36.34     36.34   \n932      0.80     35.62     35.58       34.85       35.29  35.62     35.61   \n\n2   T_RC_Wet1 T_RC_Max1  T_LC1  ...  T_OR1 T_OR_Max1 aveOralF aveOralM  \\\n0       34.89     34.96  35.08  ...  34.13     34.16    36.85    36.64   \n1       35.68     36.12  35.79  ...  34.95     34.98    36.95    37.14   \n2       35.14     35.15  35.06  ...  34.40     34.41    36.65    36.59   \n3       35.68     35.90  35.65  ...  35.90     35.94    37.40    37.39   \n4       34.87     34.99  34.57  ...  35.25     35.28    36.65    36.49   \n..        ...       ...    ...  ...    ...       ...      ...      ...   \n928     36.04     36.05  36.11  ...  36.12     36.13    36.95    36.99   \n929     35.68     35.70  35.81  ...  35.02     35.04    36.95    36.99   \n930     35.88     36.01  35.84  ...  36.58     36.60    37.25    37.19   \n931     36.31     36.36  36.18  ...  35.53     35.57    37.35    37.59   \n932     35.61     35.63  35.56  ...  35.51     35.53    37.05    37.19   \n\n2    Gender    Age                  Ethnicity T_atm Humidity Distance  \n0    Female  18-20                      Asian  22.5     34.5      0.8  \n1    Female  18-20            Hispanic/Latino  23.4     27.3      0.8  \n2    Female  18-20                      Asian  23.2     27.2      0.8  \n3      Male  21-25                      White  23.1       27      0.8  \n4      Male    >60                      Asian  22.8       33      0.8  \n..      ...    ...                        ...   ...      ...      ...  \n928  Female  21-25            Hispanic/Latino  25.7     50.8      0.6  \n929  Female  21-25                      Asian  25.7     50.8      0.6  \n930  Female  21-25                      White  25.7     50.8      0.6  \n931  Female  18-20  Black or African-American    28     24.3      0.6  \n932  Female  18-20                      White  23.8     45.6      0.6  \n\n[933 rows x 35 columns]",
      "text/html": "<div>\n<style scoped>\n    .dataframe tbody tr th:only-of-type {\n        vertical-align: middle;\n    }\n\n    .dataframe tbody tr th {\n        vertical-align: top;\n    }\n\n    .dataframe thead th {\n        text-align: right;\n    }\n</style>\n<table border=\"1\" class=\"dataframe\">\n  <thead>\n    <tr style=\"text-align: right;\">\n      <th>2</th>\n      <th>T_offset1</th>\n      <th>Max1R13_1</th>\n      <th>Max1L13_1</th>\n      <th>aveAllR13_1</th>\n      <th>aveAllL13_1</th>\n      <th>T_RC1</th>\n      <th>T_RC_Dry1</th>\n      <th>T_RC_Wet1</th>\n      <th>T_RC_Max1</th>\n      <th>T_LC1</th>\n      <th>...</th>\n      <th>T_OR1</th>\n      <th>T_OR_Max1</th>\n      <th>aveOralF</th>\n      <th>aveOralM</th>\n      <th>Gender</th>\n      <th>Age</th>\n      <th>Ethnicity</th>\n      <th>T_atm</th>\n      <th>Humidity</th>\n      <th>Distance</th>\n    </tr>\n  </thead>\n  <tbody>\n    <tr>\n      <th>0</th>\n      <td>0.17</td>\n      <td>34.92</td>\n      <td>35.09</td>\n      <td>34.53</td>\n      <td>34.67</td>\n      <td>34.93</td>\n      <td>34.92</td>\n      <td>34.89</td>\n      <td>34.96</td>\n      <td>35.08</td>\n      <td>...</td>\n      <td>34.13</td>\n      <td>34.16</td>\n      <td>36.85</td>\n      <td>36.64</td>\n      <td>Female</td>\n      <td>18-20</td>\n      <td>Asian</td>\n      <td>22.5</td>\n      <td>34.5</td>\n      <td>0.8</td>\n    </tr>\n    <tr>\n      <th>1</th>\n      <td>0.92</td>\n      <td>36.12</td>\n      <td>35.87</td>\n      <td>35.50</td>\n      <td>35.27</td>\n      <td>36.08</td>\n      <td>36.08</td>\n      <td>35.68</td>\n      <td>36.12</td>\n      <td>35.79</td>\n      <td>...</td>\n      <td>34.95</td>\n      <td>34.98</td>\n      <td>36.95</td>\n      <td>37.14</td>\n      <td>Female</td>\n      <td>18-20</td>\n      <td>Hispanic/Latino</td>\n      <td>23.4</td>\n      <td>27.3</td>\n      <td>0.8</td>\n    </tr>\n    <tr>\n      <th>2</th>\n      <td>0.82</td>\n      <td>35.05</td>\n      <td>35.05</td>\n      <td>33.72</td>\n      <td>34.29</td>\n      <td>35.14</td>\n      <td>35.06</td>\n      <td>35.14</td>\n      <td>35.15</td>\n      <td>35.06</td>\n      <td>...</td>\n      <td>34.40</td>\n      <td>34.41</td>\n      <td>36.65</td>\n      <td>36.59</td>\n      <td>Female</td>\n      <td>18-20</td>\n      <td>Asian</td>\n      <td>23.2</td>\n      <td>27.2</td>\n      <td>0.8</td>\n    </tr>\n    <tr>\n      <th>3</th>\n      <td>0.88</td>\n      <td>35.90</td>\n      <td>35.71</td>\n      <td>34.99</td>\n      <td>35.27</td>\n      <td>35.88</td>\n      <td>35.88</td>\n      <td>35.68</td>\n      <td>35.90</td>\n      <td>35.65</td>\n      <td>...</td>\n      <td>35.90</td>\n      <td>35.94</td>\n      <td>37.40</td>\n      <td>37.39</td>\n      <td>Male</td>\n      <td>21-25</td>\n      <td>White</td>\n      <td>23.1</td>\n      <td>27</td>\n      <td>0.8</td>\n    </tr>\n    <tr>\n      <th>4</th>\n      <td>0.63</td>\n      <td>34.99</td>\n      <td>34.43</td>\n      <td>34.61</td>\n      <td>33.72</td>\n      <td>34.97</td>\n      <td>34.97</td>\n      <td>34.87</td>\n      <td>34.99</td>\n      <td>34.57</td>\n      <td>...</td>\n      <td>35.25</td>\n      <td>35.28</td>\n      <td>36.65</td>\n      <td>36.49</td>\n      <td>Male</td>\n      <td>&gt;60</td>\n      <td>Asian</td>\n      <td>22.8</td>\n      <td>33</td>\n      <td>0.8</td>\n    </tr>\n    <tr>\n      <th>...</th>\n      <td>...</td>\n      <td>...</td>\n      <td>...</td>\n      <td>...</td>\n      <td>...</td>\n      <td>...</td>\n      <td>...</td>\n      <td>...</td>\n      <td>...</td>\n      <td>...</td>\n      <td>...</td>\n      <td>...</td>\n      <td>...</td>\n      <td>...</td>\n      <td>...</td>\n      <td>...</td>\n      <td>...</td>\n      <td>...</td>\n      <td>...</td>\n      <td>...</td>\n      <td>...</td>\n    </tr>\n    <tr>\n      <th>928</th>\n      <td>1.15</td>\n      <td>36.05</td>\n      <td>36.08</td>\n      <td>35.17</td>\n      <td>35.28</td>\n      <td>36.05</td>\n      <td>36.04</td>\n      <td>36.04</td>\n      <td>36.05</td>\n      <td>36.11</td>\n      <td>...</td>\n      <td>36.12</td>\n      <td>36.13</td>\n      <td>36.95</td>\n      <td>36.99</td>\n      <td>Female</td>\n      <td>21-25</td>\n      <td>Hispanic/Latino</td>\n      <td>25.7</td>\n      <td>50.8</td>\n      <td>0.6</td>\n    </tr>\n    <tr>\n      <th>929</th>\n      <td>1.27</td>\n      <td>35.51</td>\n      <td>35.64</td>\n      <td>34.74</td>\n      <td>35.08</td>\n      <td>35.68</td>\n      <td>35.51</td>\n      <td>35.68</td>\n      <td>35.70</td>\n      <td>35.81</td>\n      <td>...</td>\n      <td>35.02</td>\n      <td>35.04</td>\n      <td>36.95</td>\n      <td>36.99</td>\n      <td>Female</td>\n      <td>21-25</td>\n      <td>Asian</td>\n      <td>25.7</td>\n      <td>50.8</td>\n      <td>0.6</td>\n    </tr>\n    <tr>\n      <th>930</th>\n      <td>1.45</td>\n      <td>35.98</td>\n      <td>35.84</td>\n      <td>35.35</td>\n      <td>35.16</td>\n      <td>35.97</td>\n      <td>35.97</td>\n      <td>35.88</td>\n      <td>36.01</td>\n      <td>35.84</td>\n      <td>...</td>\n      <td>36.58</td>\n      <td>36.60</td>\n      <td>37.25</td>\n      <td>37.19</td>\n      <td>Female</td>\n      <td>21-25</td>\n      <td>White</td>\n      <td>25.7</td>\n      <td>50.8</td>\n      <td>0.6</td>\n    </tr>\n    <tr>\n      <th>931</th>\n      <td>-0.07</td>\n      <td>36.36</td>\n      <td>36.25</td>\n      <td>35.67</td>\n      <td>35.76</td>\n      <td>36.34</td>\n      <td>36.34</td>\n      <td>36.31</td>\n      <td>36.36</td>\n      <td>36.18</td>\n      <td>...</td>\n      <td>35.53</td>\n      <td>35.57</td>\n      <td>37.35</td>\n      <td>37.59</td>\n      <td>Female</td>\n      <td>18-20</td>\n      <td>Black or African-American</td>\n      <td>28</td>\n      <td>24.3</td>\n      <td>0.6</td>\n    </tr>\n    <tr>\n      <th>932</th>\n      <td>0.80</td>\n      <td>35.62</td>\n      <td>35.58</td>\n      <td>34.85</td>\n      <td>35.29</td>\n      <td>35.62</td>\n      <td>35.61</td>\n      <td>35.61</td>\n      <td>35.63</td>\n      <td>35.56</td>\n      <td>...</td>\n      <td>35.51</td>\n      <td>35.53</td>\n      <td>37.05</td>\n      <td>37.19</td>\n      <td>Female</td>\n      <td>18-20</td>\n      <td>White</td>\n      <td>23.8</td>\n      <td>45.6</td>\n      <td>0.6</td>\n    </tr>\n  </tbody>\n</table>\n<p>933 rows × 35 columns</p>\n</div>"
     },
     "execution_count": 95,
     "metadata": {},
     "output_type": "execute_result"
    }
   ],
   "source": [
    "infrared_df = pd.read_csv(\"./infrared/FLIR_groups1and2.csv\", header=None)\n",
    "# Get actual header\n",
    "infrared_headers = infrared_df.iloc[2]\n",
    "# Remove Round header and measurements generic term\n",
    "infrared_df = infrared_df[3:]\n",
    "infrared_df.columns = infrared_headers\n",
    "\n",
    "# Drop NaN columns and NaN rows\n",
    "infrared_df = infrared_df.dropna(axis=1, how='all')\n",
    "infrared_df = infrared_df.dropna()\n",
    "# Remove all but one Round and insignificant columns\n",
    "filtered_columns = [col for col in infrared_df.columns if\n",
    "                    not col.endswith(('2', '3', '4')) and col not in [\"Cosmetics\", \"Time\", \"Date\", \"SubjectID\"]]\n",
    "infrared_df = infrared_df[filtered_columns]\n",
    "\n",
    "infrared_df = infrared_df.reset_index(drop=True)\n",
    "infrared_df"
   ],
   "metadata": {
    "collapsed": false,
    "ExecuteTime": {
     "end_time": "2024-05-20T14:49:50.474471Z",
     "start_time": "2024-05-20T14:49:50.417914Z"
    }
   },
   "id": "19ea17727ff493ce",
   "execution_count": 95
  },
  {
   "cell_type": "code",
   "outputs": [
    {
     "name": "stdout",
     "output_type": "stream",
     "text": [
      "['18-20' '21-25' '>60' '26-30' '31-40' '51-60' '41-50' '21-30']\n",
      "['Asian' 'Hispanic/Latino' 'White' 'Black or African-American'\n",
      " 'Multiracial' 'American Indian or Alaskan Native']\n",
      "['Female' 'Male']\n"
     ]
    }
   ],
   "source": [
    "print(infrared_df['Age'].unique())\n",
    "print(infrared_df['Ethnicity'].unique())\n",
    "print(infrared_df['Gender'].unique())"
   ],
   "metadata": {
    "collapsed": false,
    "ExecuteTime": {
     "end_time": "2024-05-20T14:49:50.481046Z",
     "start_time": "2024-05-20T14:49:50.476479Z"
    }
   },
   "id": "5ea11070a6659b41",
   "execution_count": 96
  },
  {
   "cell_type": "code",
   "outputs": [
    {
     "name": "stdout",
     "output_type": "stream",
     "text": [
      "['18-20' '21-30' '>60' '31-40' '51-60' '41-50']\n"
     ]
    }
   ],
   "source": [
    "infrared_df['Age'] = infrared_df['Age'].replace(['21-25', '26-30'], '21-30')\n",
    "print(infrared_df['Age'].unique())"
   ],
   "metadata": {
    "collapsed": false,
    "ExecuteTime": {
     "end_time": "2024-05-20T14:49:50.487771Z",
     "start_time": "2024-05-20T14:49:50.482053Z"
    }
   },
   "id": "23dc5212b5f9f282",
   "execution_count": 97
  },
  {
   "cell_type": "code",
   "outputs": [
    {
     "data": {
      "text/plain": "[['18-20', '21-30', '31-40', '41-50', '51-60', '>60']]"
     },
     "execution_count": 98,
     "metadata": {},
     "output_type": "execute_result"
    }
   ],
   "source": [
    "feature_mappings = {\n",
    "    'Age': ['18-20', '21-30', '31-40', '41-50', '51-60', '>60']\n",
    "}\n",
    "ordinal_cols = ['Age']\n",
    "one_hot_cols = ['Ethnicity', 'Gender']\n",
    "ordinal_categories = [feature_mappings[col] for col in ordinal_cols]\n",
    "\n",
    "numerical_cols = infrared_df.select_dtypes(include=\"number\").columns\n",
    "# convert numerical columns to list\n",
    "numerical_cols = numerical_cols.tolist()\n",
    "\n",
    "preprocessor = ColumnTransformer([\n",
    "    ('ordinal', OrdinalEncoder(categories=ordinal_categories), ordinal_cols),\n",
    "    ('categorical', OneHotEncoder(handle_unknown=\"ignore\"), one_hot_cols),\n",
    "    ('scaler', MinMaxScaler(), numerical_cols)\n",
    "],\n",
    "    remainder='passthrough'  # passthrough columns not listed in any pipeline\n",
    ")\n",
    "ordinal_categories"
   ],
   "metadata": {
    "collapsed": false,
    "ExecuteTime": {
     "end_time": "2024-05-20T14:49:50.496838Z",
     "start_time": "2024-05-20T14:49:50.489784Z"
    }
   },
   "id": "228a53d1473daaf1",
   "execution_count": 98
  },
  {
   "cell_type": "code",
   "outputs": [],
   "source": [],
   "metadata": {
    "collapsed": false,
    "ExecuteTime": {
     "end_time": "2024-05-20T14:49:50.500747Z",
     "start_time": "2024-05-20T14:49:50.497847Z"
    }
   },
   "id": "35417a0dc9067cf5",
   "execution_count": 98
  },
  {
   "cell_type": "code",
   "outputs": [
    {
     "data": {
      "text/plain": "array([[0.0, 0.0, 1.0, ..., '22.5', '34.5', '0.8'],\n       [0.0, 0.0, 0.0, ..., '23.4', '27.3', '0.8'],\n       [0.0, 0.0, 1.0, ..., '23.2', '27.2', '0.8'],\n       ...,\n       [1.0, 0.0, 0.0, ..., '25.7', '50.8', '0.6'],\n       [0.0, 0.0, 0.0, ..., '28', '24.3', '0.6'],\n       [0.0, 0.0, 0.0, ..., '23.8', '45.6', '0.6']], dtype=object)"
     },
     "execution_count": 99,
     "metadata": {},
     "output_type": "execute_result"
    }
   ],
   "source": [
    "# X,y split\n",
    "\n",
    "# transform dataframe\n",
    "infrared_df_transformed = preprocessor.fit_transform(infrared_df)\n",
    "infrared_df_transformed"
   ],
   "metadata": {
    "collapsed": false,
    "ExecuteTime": {
     "end_time": "2024-05-20T14:49:50.513152Z",
     "start_time": "2024-05-20T14:49:50.501755Z"
    }
   },
   "id": "6bc03e2b2d128bf7",
   "execution_count": 99
  },
  {
   "cell_type": "markdown",
   "source": [
    "# Black Friday"
   ],
   "metadata": {
    "collapsed": false
   },
   "id": "d956b6bb02ec994b"
  },
  {
   "cell_type": "code",
   "outputs": [
    {
     "data": {
      "text/plain": "       Gender    Age  Occupation City_Category Stay_In_Current_City_Years  \\\n0           F   0-17        10.0             A                          2   \n1           M  46-50         7.0             B                          2   \n2           M  26-35        20.0             A                          1   \n3           F  51-55         9.0             A                          1   \n4           F  51-55         9.0             A                          1   \n...       ...    ...         ...           ...                        ...   \n166816      F  46-50         0.0             B                         4+   \n166817      M  26-35         6.0             B                          2   \n166818      M  26-35         6.0             B                          2   \n166819      M  26-35         6.0             B                          2   \n166820      M  26-35         6.0             B                          2   \n\n        Marital_Status  Product_Category_1  Product_Category_2  \\\n0                  0.0                 1.0                 6.0   \n1                  1.0                 1.0                 8.0   \n2                  1.0                 1.0                 2.0   \n3                  0.0                 5.0                 8.0   \n4                  0.0                 2.0                 3.0   \n...                ...                 ...                 ...   \n166816             1.0                 3.0                 4.0   \n166817             0.0                 6.0                 8.0   \n166818             0.0                 2.0                 3.0   \n166819             0.0                 1.0                 2.0   \n166820             0.0                 1.0                 2.0   \n\n        Product_Category_3  Purchase  \n0                     14.0   15200.0  \n1                     17.0   19215.0  \n2                      5.0   15665.0  \n3                     14.0    5378.0  \n4                      4.0   13055.0  \n...                    ...       ...  \n166816                12.0    8047.0  \n166817                14.0   16493.0  \n166818                10.0    3425.0  \n166819                15.0   15694.0  \n166820                11.0   11640.0  \n\n[166821 rows x 10 columns]",
      "text/html": "<div>\n<style scoped>\n    .dataframe tbody tr th:only-of-type {\n        vertical-align: middle;\n    }\n\n    .dataframe tbody tr th {\n        vertical-align: top;\n    }\n\n    .dataframe thead th {\n        text-align: right;\n    }\n</style>\n<table border=\"1\" class=\"dataframe\">\n  <thead>\n    <tr style=\"text-align: right;\">\n      <th></th>\n      <th>Gender</th>\n      <th>Age</th>\n      <th>Occupation</th>\n      <th>City_Category</th>\n      <th>Stay_In_Current_City_Years</th>\n      <th>Marital_Status</th>\n      <th>Product_Category_1</th>\n      <th>Product_Category_2</th>\n      <th>Product_Category_3</th>\n      <th>Purchase</th>\n    </tr>\n  </thead>\n  <tbody>\n    <tr>\n      <th>0</th>\n      <td>F</td>\n      <td>0-17</td>\n      <td>10.0</td>\n      <td>A</td>\n      <td>2</td>\n      <td>0.0</td>\n      <td>1.0</td>\n      <td>6.0</td>\n      <td>14.0</td>\n      <td>15200.0</td>\n    </tr>\n    <tr>\n      <th>1</th>\n      <td>M</td>\n      <td>46-50</td>\n      <td>7.0</td>\n      <td>B</td>\n      <td>2</td>\n      <td>1.0</td>\n      <td>1.0</td>\n      <td>8.0</td>\n      <td>17.0</td>\n      <td>19215.0</td>\n    </tr>\n    <tr>\n      <th>2</th>\n      <td>M</td>\n      <td>26-35</td>\n      <td>20.0</td>\n      <td>A</td>\n      <td>1</td>\n      <td>1.0</td>\n      <td>1.0</td>\n      <td>2.0</td>\n      <td>5.0</td>\n      <td>15665.0</td>\n    </tr>\n    <tr>\n      <th>3</th>\n      <td>F</td>\n      <td>51-55</td>\n      <td>9.0</td>\n      <td>A</td>\n      <td>1</td>\n      <td>0.0</td>\n      <td>5.0</td>\n      <td>8.0</td>\n      <td>14.0</td>\n      <td>5378.0</td>\n    </tr>\n    <tr>\n      <th>4</th>\n      <td>F</td>\n      <td>51-55</td>\n      <td>9.0</td>\n      <td>A</td>\n      <td>1</td>\n      <td>0.0</td>\n      <td>2.0</td>\n      <td>3.0</td>\n      <td>4.0</td>\n      <td>13055.0</td>\n    </tr>\n    <tr>\n      <th>...</th>\n      <td>...</td>\n      <td>...</td>\n      <td>...</td>\n      <td>...</td>\n      <td>...</td>\n      <td>...</td>\n      <td>...</td>\n      <td>...</td>\n      <td>...</td>\n      <td>...</td>\n    </tr>\n    <tr>\n      <th>166816</th>\n      <td>F</td>\n      <td>46-50</td>\n      <td>0.0</td>\n      <td>B</td>\n      <td>4+</td>\n      <td>1.0</td>\n      <td>3.0</td>\n      <td>4.0</td>\n      <td>12.0</td>\n      <td>8047.0</td>\n    </tr>\n    <tr>\n      <th>166817</th>\n      <td>M</td>\n      <td>26-35</td>\n      <td>6.0</td>\n      <td>B</td>\n      <td>2</td>\n      <td>0.0</td>\n      <td>6.0</td>\n      <td>8.0</td>\n      <td>14.0</td>\n      <td>16493.0</td>\n    </tr>\n    <tr>\n      <th>166818</th>\n      <td>M</td>\n      <td>26-35</td>\n      <td>6.0</td>\n      <td>B</td>\n      <td>2</td>\n      <td>0.0</td>\n      <td>2.0</td>\n      <td>3.0</td>\n      <td>10.0</td>\n      <td>3425.0</td>\n    </tr>\n    <tr>\n      <th>166819</th>\n      <td>M</td>\n      <td>26-35</td>\n      <td>6.0</td>\n      <td>B</td>\n      <td>2</td>\n      <td>0.0</td>\n      <td>1.0</td>\n      <td>2.0</td>\n      <td>15.0</td>\n      <td>15694.0</td>\n    </tr>\n    <tr>\n      <th>166820</th>\n      <td>M</td>\n      <td>26-35</td>\n      <td>6.0</td>\n      <td>B</td>\n      <td>2</td>\n      <td>0.0</td>\n      <td>1.0</td>\n      <td>2.0</td>\n      <td>11.0</td>\n      <td>11640.0</td>\n    </tr>\n  </tbody>\n</table>\n<p>166821 rows × 10 columns</p>\n</div>"
     },
     "execution_count": 100,
     "metadata": {},
     "output_type": "execute_result"
    }
   ],
   "source": [
    "data, meta = arff.loadarff(\"./black_friday.arff\")\n",
    "black_df = pd.DataFrame(data)\n",
    "\n",
    "for column in black_df.columns:\n",
    "    # replace missing values with pd.NA\n",
    "    black_df[column] = black_df[column].replace(b'?', pd.NA)\n",
    "    black_df[column] = black_df[column].replace(b'', pd.NA)\n",
    "    black_df[column] = black_df[column].replace(b'NONE', pd.NA)\n",
    "    # decode bytes to string for each column\n",
    "    black_df[column] = black_df[column].apply(lambda x: x.decode() if isinstance(x, bytes) else x)\n",
    "black_df"
   ],
   "metadata": {
    "collapsed": false,
    "ExecuteTime": {
     "end_time": "2024-05-20T14:49:52.946835Z",
     "start_time": "2024-05-20T14:49:50.514160Z"
    }
   },
   "id": "7c323817f811d4b0",
   "execution_count": 100
  },
  {
   "cell_type": "code",
   "outputs": [
    {
     "name": "stdout",
     "output_type": "stream",
     "text": [
      "['0-17' '46-50' '26-35' '51-55' '36-45' '18-25' '55+']\n"
     ]
    }
   ],
   "source": [
    "print(black_df['Age'].unique())"
   ],
   "metadata": {
    "collapsed": false,
    "ExecuteTime": {
     "end_time": "2024-05-20T19:28:04.271909Z",
     "start_time": "2024-05-20T19:28:04.256900Z"
    }
   },
   "id": "d4d93397403d4f2d",
   "execution_count": 104
  },
  {
   "cell_type": "code",
   "outputs": [
    {
     "data": {
      "text/plain": "[['0-17', '18-25', '26-35', '36-45', '46-50', '51-55', '55+']]"
     },
     "execution_count": 106,
     "metadata": {},
     "output_type": "execute_result"
    }
   ],
   "source": [
    "feature_mappings = {\n",
    "    'Age': ['0-17','18-25','26-35', '36-45', '46-50', '51-55', '55+']\n",
    "}\n",
    "ordinal_cols = ['Age']\n",
    "one_hot_cols = ['City_Category', 'Gender', 'Stay_In_Current_City_Years']\n",
    "ordinal_categories = [feature_mappings[col] for col in ordinal_cols]\n",
    "\n",
    "numerical_cols = [col for col in infrared_df.select_dtypes(include=\"number\").columns if col != 'Purchase']\n",
    "\n",
    "preprocessor = ColumnTransformer([\n",
    "    ('ordinal', OrdinalEncoder(categories=ordinal_categories), ordinal_cols),\n",
    "    ('categorical', OneHotEncoder(handle_unknown=\"ignore\"), one_hot_cols),\n",
    "    ('scaler', MinMaxScaler(), numerical_cols)\n",
    "],\n",
    "    remainder='passthrough'  # passthrough columns not listed in any pipeline\n",
    ")\n",
    "ordinal_categories"
   ],
   "metadata": {
    "collapsed": false,
    "ExecuteTime": {
     "end_time": "2024-05-20T19:33:55.318891Z",
     "start_time": "2024-05-20T19:33:55.311627Z"
    }
   },
   "id": "d1cb199d073fff53",
   "execution_count": 106
  },
  {
   "cell_type": "code",
   "outputs": [
    {
     "data": {
      "text/plain": "array([[0.0000e+00, 1.0000e+00, 0.0000e+00, ..., 6.0000e+00, 1.4000e+01,\n        1.5200e+04],\n       [4.0000e+00, 0.0000e+00, 1.0000e+00, ..., 8.0000e+00, 1.7000e+01,\n        1.9215e+04],\n       [2.0000e+00, 1.0000e+00, 0.0000e+00, ..., 2.0000e+00, 5.0000e+00,\n        1.5665e+04],\n       ...,\n       [2.0000e+00, 0.0000e+00, 1.0000e+00, ..., 3.0000e+00, 1.0000e+01,\n        3.4250e+03],\n       [2.0000e+00, 0.0000e+00, 1.0000e+00, ..., 2.0000e+00, 1.5000e+01,\n        1.5694e+04],\n       [2.0000e+00, 0.0000e+00, 1.0000e+00, ..., 2.0000e+00, 1.1000e+01,\n        1.1640e+04]])"
     },
     "execution_count": 108,
     "metadata": {},
     "output_type": "execute_result"
    }
   ],
   "source": [
    "# X,y split\n",
    "\n",
    "# transform dataframe\n",
    "black_df_transformed = preprocessor.fit_transform(black_df)\n",
    "black_df_transformed"
   ],
   "metadata": {
    "collapsed": false,
    "ExecuteTime": {
     "end_time": "2024-05-20T19:34:32.069640Z",
     "start_time": "2024-05-20T19:34:31.915839Z"
    }
   },
   "id": "1f0049ec9b466cb0",
   "execution_count": 108
  },
  {
   "cell_type": "markdown",
   "source": [
    "# Power plant"
   ],
   "metadata": {
    "collapsed": false
   },
   "id": "f0fb525e03fde08d"
  },
  {
   "cell_type": "code",
   "outputs": [
    {
     "data": {
      "text/plain": "         AT      V       AP     RH      PE\n0     14.96  41.76  1024.07  73.17  463.26\n1     25.18  62.96  1020.04  59.08  444.37\n2      5.11  39.40  1012.16  92.14  488.56\n3     20.86  57.32  1010.24  76.64  446.48\n4     10.82  37.50  1009.23  96.62  473.90\n...     ...    ...      ...    ...     ...\n9563  16.65  49.69  1014.01  91.00  460.03\n9564  13.19  39.18  1023.67  66.78  469.62\n9565  31.32  74.33  1012.92  36.48  429.57\n9566  24.48  69.45  1013.86  62.39  435.74\n9567  21.60  62.52  1017.23  67.87  453.28\n\n[9568 rows x 5 columns]",
      "text/html": "<div>\n<style scoped>\n    .dataframe tbody tr th:only-of-type {\n        vertical-align: middle;\n    }\n\n    .dataframe tbody tr th {\n        vertical-align: top;\n    }\n\n    .dataframe thead th {\n        text-align: right;\n    }\n</style>\n<table border=\"1\" class=\"dataframe\">\n  <thead>\n    <tr style=\"text-align: right;\">\n      <th></th>\n      <th>AT</th>\n      <th>V</th>\n      <th>AP</th>\n      <th>RH</th>\n      <th>PE</th>\n    </tr>\n  </thead>\n  <tbody>\n    <tr>\n      <th>0</th>\n      <td>14.96</td>\n      <td>41.76</td>\n      <td>1024.07</td>\n      <td>73.17</td>\n      <td>463.26</td>\n    </tr>\n    <tr>\n      <th>1</th>\n      <td>25.18</td>\n      <td>62.96</td>\n      <td>1020.04</td>\n      <td>59.08</td>\n      <td>444.37</td>\n    </tr>\n    <tr>\n      <th>2</th>\n      <td>5.11</td>\n      <td>39.40</td>\n      <td>1012.16</td>\n      <td>92.14</td>\n      <td>488.56</td>\n    </tr>\n    <tr>\n      <th>3</th>\n      <td>20.86</td>\n      <td>57.32</td>\n      <td>1010.24</td>\n      <td>76.64</td>\n      <td>446.48</td>\n    </tr>\n    <tr>\n      <th>4</th>\n      <td>10.82</td>\n      <td>37.50</td>\n      <td>1009.23</td>\n      <td>96.62</td>\n      <td>473.90</td>\n    </tr>\n    <tr>\n      <th>...</th>\n      <td>...</td>\n      <td>...</td>\n      <td>...</td>\n      <td>...</td>\n      <td>...</td>\n    </tr>\n    <tr>\n      <th>9563</th>\n      <td>16.65</td>\n      <td>49.69</td>\n      <td>1014.01</td>\n      <td>91.00</td>\n      <td>460.03</td>\n    </tr>\n    <tr>\n      <th>9564</th>\n      <td>13.19</td>\n      <td>39.18</td>\n      <td>1023.67</td>\n      <td>66.78</td>\n      <td>469.62</td>\n    </tr>\n    <tr>\n      <th>9565</th>\n      <td>31.32</td>\n      <td>74.33</td>\n      <td>1012.92</td>\n      <td>36.48</td>\n      <td>429.57</td>\n    </tr>\n    <tr>\n      <th>9566</th>\n      <td>24.48</td>\n      <td>69.45</td>\n      <td>1013.86</td>\n      <td>62.39</td>\n      <td>435.74</td>\n    </tr>\n    <tr>\n      <th>9567</th>\n      <td>21.60</td>\n      <td>62.52</td>\n      <td>1017.23</td>\n      <td>67.87</td>\n      <td>453.28</td>\n    </tr>\n  </tbody>\n</table>\n<p>9568 rows × 5 columns</p>\n</div>"
     },
     "execution_count": 101,
     "metadata": {},
     "output_type": "execute_result"
    }
   ],
   "source": [
    "ccpp_df = pd.read_excel(\"./CCPP/Folds5x2_pp.xlsx\")\n",
    "ccpp_df"
   ],
   "metadata": {
    "collapsed": false,
    "ExecuteTime": {
     "end_time": "2024-05-20T14:49:53.791640Z",
     "start_time": "2024-05-20T14:49:52.947846Z"
    }
   },
   "id": "e36f1174b2578075",
   "execution_count": 101
  },
  {
   "cell_type": "code",
   "outputs": [
    {
     "ename": "KeyError",
     "evalue": "\"['PE'] not found in axis\"",
     "output_type": "error",
     "traceback": [
      "\u001B[1;31m---------------------------------------------------------------------------\u001B[0m",
      "\u001B[1;31mKeyError\u001B[0m                                  Traceback (most recent call last)",
      "Cell \u001B[1;32mIn[102], line 1\u001B[0m\n\u001B[1;32m----> 1\u001B[0m X \u001B[38;5;241m=\u001B[39m \u001B[43mccpp_df\u001B[49m\u001B[38;5;241;43m.\u001B[39;49m\u001B[43mdrop\u001B[49m\u001B[43m(\u001B[49m\u001B[38;5;124;43m'\u001B[39;49m\u001B[38;5;124;43mPE\u001B[39;49m\u001B[38;5;124;43m'\u001B[39;49m\u001B[43m)\u001B[49m\n\u001B[0;32m      2\u001B[0m y \u001B[38;5;241m=\u001B[39m ccpp_df[\u001B[38;5;124m'\u001B[39m\u001B[38;5;124mPE\u001B[39m\u001B[38;5;124m'\u001B[39m]\n\u001B[0;32m      3\u001B[0m \u001B[38;5;66;03m# Split for training\u001B[39;00m\n",
      "File \u001B[1;32m~\\AppData\\Local\\pypoetry\\Cache\\virtualenvs\\ml24-wwvZudeH-py3.12\\Lib\\site-packages\\pandas\\core\\frame.py:5568\u001B[0m, in \u001B[0;36mDataFrame.drop\u001B[1;34m(self, labels, axis, index, columns, level, inplace, errors)\u001B[0m\n\u001B[0;32m   5420\u001B[0m \u001B[38;5;28;01mdef\u001B[39;00m \u001B[38;5;21mdrop\u001B[39m(\n\u001B[0;32m   5421\u001B[0m     \u001B[38;5;28mself\u001B[39m,\n\u001B[0;32m   5422\u001B[0m     labels: IndexLabel \u001B[38;5;241m|\u001B[39m \u001B[38;5;28;01mNone\u001B[39;00m \u001B[38;5;241m=\u001B[39m \u001B[38;5;28;01mNone\u001B[39;00m,\n\u001B[1;32m   (...)\u001B[0m\n\u001B[0;32m   5429\u001B[0m     errors: IgnoreRaise \u001B[38;5;241m=\u001B[39m \u001B[38;5;124m\"\u001B[39m\u001B[38;5;124mraise\u001B[39m\u001B[38;5;124m\"\u001B[39m,\n\u001B[0;32m   5430\u001B[0m ) \u001B[38;5;241m-\u001B[39m\u001B[38;5;241m>\u001B[39m DataFrame \u001B[38;5;241m|\u001B[39m \u001B[38;5;28;01mNone\u001B[39;00m:\n\u001B[0;32m   5431\u001B[0m \u001B[38;5;250m    \u001B[39m\u001B[38;5;124;03m\"\"\"\u001B[39;00m\n\u001B[0;32m   5432\u001B[0m \u001B[38;5;124;03m    Drop specified labels from rows or columns.\u001B[39;00m\n\u001B[0;32m   5433\u001B[0m \n\u001B[1;32m   (...)\u001B[0m\n\u001B[0;32m   5566\u001B[0m \u001B[38;5;124;03m            weight  1.0     0.8\u001B[39;00m\n\u001B[0;32m   5567\u001B[0m \u001B[38;5;124;03m    \"\"\"\u001B[39;00m\n\u001B[1;32m-> 5568\u001B[0m     \u001B[38;5;28;01mreturn\u001B[39;00m \u001B[38;5;28;43msuper\u001B[39;49m\u001B[43m(\u001B[49m\u001B[43m)\u001B[49m\u001B[38;5;241;43m.\u001B[39;49m\u001B[43mdrop\u001B[49m\u001B[43m(\u001B[49m\n\u001B[0;32m   5569\u001B[0m \u001B[43m        \u001B[49m\u001B[43mlabels\u001B[49m\u001B[38;5;241;43m=\u001B[39;49m\u001B[43mlabels\u001B[49m\u001B[43m,\u001B[49m\n\u001B[0;32m   5570\u001B[0m \u001B[43m        \u001B[49m\u001B[43maxis\u001B[49m\u001B[38;5;241;43m=\u001B[39;49m\u001B[43maxis\u001B[49m\u001B[43m,\u001B[49m\n\u001B[0;32m   5571\u001B[0m \u001B[43m        \u001B[49m\u001B[43mindex\u001B[49m\u001B[38;5;241;43m=\u001B[39;49m\u001B[43mindex\u001B[49m\u001B[43m,\u001B[49m\n\u001B[0;32m   5572\u001B[0m \u001B[43m        \u001B[49m\u001B[43mcolumns\u001B[49m\u001B[38;5;241;43m=\u001B[39;49m\u001B[43mcolumns\u001B[49m\u001B[43m,\u001B[49m\n\u001B[0;32m   5573\u001B[0m \u001B[43m        \u001B[49m\u001B[43mlevel\u001B[49m\u001B[38;5;241;43m=\u001B[39;49m\u001B[43mlevel\u001B[49m\u001B[43m,\u001B[49m\n\u001B[0;32m   5574\u001B[0m \u001B[43m        \u001B[49m\u001B[43minplace\u001B[49m\u001B[38;5;241;43m=\u001B[39;49m\u001B[43minplace\u001B[49m\u001B[43m,\u001B[49m\n\u001B[0;32m   5575\u001B[0m \u001B[43m        \u001B[49m\u001B[43merrors\u001B[49m\u001B[38;5;241;43m=\u001B[39;49m\u001B[43merrors\u001B[49m\u001B[43m,\u001B[49m\n\u001B[0;32m   5576\u001B[0m \u001B[43m    \u001B[49m\u001B[43m)\u001B[49m\n",
      "File \u001B[1;32m~\\AppData\\Local\\pypoetry\\Cache\\virtualenvs\\ml24-wwvZudeH-py3.12\\Lib\\site-packages\\pandas\\core\\generic.py:4785\u001B[0m, in \u001B[0;36mNDFrame.drop\u001B[1;34m(self, labels, axis, index, columns, level, inplace, errors)\u001B[0m\n\u001B[0;32m   4783\u001B[0m \u001B[38;5;28;01mfor\u001B[39;00m axis, labels \u001B[38;5;129;01min\u001B[39;00m axes\u001B[38;5;241m.\u001B[39mitems():\n\u001B[0;32m   4784\u001B[0m     \u001B[38;5;28;01mif\u001B[39;00m labels \u001B[38;5;129;01mis\u001B[39;00m \u001B[38;5;129;01mnot\u001B[39;00m \u001B[38;5;28;01mNone\u001B[39;00m:\n\u001B[1;32m-> 4785\u001B[0m         obj \u001B[38;5;241m=\u001B[39m \u001B[43mobj\u001B[49m\u001B[38;5;241;43m.\u001B[39;49m\u001B[43m_drop_axis\u001B[49m\u001B[43m(\u001B[49m\u001B[43mlabels\u001B[49m\u001B[43m,\u001B[49m\u001B[43m \u001B[49m\u001B[43maxis\u001B[49m\u001B[43m,\u001B[49m\u001B[43m \u001B[49m\u001B[43mlevel\u001B[49m\u001B[38;5;241;43m=\u001B[39;49m\u001B[43mlevel\u001B[49m\u001B[43m,\u001B[49m\u001B[43m \u001B[49m\u001B[43merrors\u001B[49m\u001B[38;5;241;43m=\u001B[39;49m\u001B[43merrors\u001B[49m\u001B[43m)\u001B[49m\n\u001B[0;32m   4787\u001B[0m \u001B[38;5;28;01mif\u001B[39;00m inplace:\n\u001B[0;32m   4788\u001B[0m     \u001B[38;5;28mself\u001B[39m\u001B[38;5;241m.\u001B[39m_update_inplace(obj)\n",
      "File \u001B[1;32m~\\AppData\\Local\\pypoetry\\Cache\\virtualenvs\\ml24-wwvZudeH-py3.12\\Lib\\site-packages\\pandas\\core\\generic.py:4827\u001B[0m, in \u001B[0;36mNDFrame._drop_axis\u001B[1;34m(self, labels, axis, level, errors, only_slice)\u001B[0m\n\u001B[0;32m   4825\u001B[0m         new_axis \u001B[38;5;241m=\u001B[39m axis\u001B[38;5;241m.\u001B[39mdrop(labels, level\u001B[38;5;241m=\u001B[39mlevel, errors\u001B[38;5;241m=\u001B[39merrors)\n\u001B[0;32m   4826\u001B[0m     \u001B[38;5;28;01melse\u001B[39;00m:\n\u001B[1;32m-> 4827\u001B[0m         new_axis \u001B[38;5;241m=\u001B[39m \u001B[43maxis\u001B[49m\u001B[38;5;241;43m.\u001B[39;49m\u001B[43mdrop\u001B[49m\u001B[43m(\u001B[49m\u001B[43mlabels\u001B[49m\u001B[43m,\u001B[49m\u001B[43m \u001B[49m\u001B[43merrors\u001B[49m\u001B[38;5;241;43m=\u001B[39;49m\u001B[43merrors\u001B[49m\u001B[43m)\u001B[49m\n\u001B[0;32m   4828\u001B[0m     indexer \u001B[38;5;241m=\u001B[39m axis\u001B[38;5;241m.\u001B[39mget_indexer(new_axis)\n\u001B[0;32m   4830\u001B[0m \u001B[38;5;66;03m# Case for non-unique axis\u001B[39;00m\n\u001B[0;32m   4831\u001B[0m \u001B[38;5;28;01melse\u001B[39;00m:\n",
      "File \u001B[1;32m~\\AppData\\Local\\pypoetry\\Cache\\virtualenvs\\ml24-wwvZudeH-py3.12\\Lib\\site-packages\\pandas\\core\\indexes\\base.py:7070\u001B[0m, in \u001B[0;36mIndex.drop\u001B[1;34m(self, labels, errors)\u001B[0m\n\u001B[0;32m   7068\u001B[0m \u001B[38;5;28;01mif\u001B[39;00m mask\u001B[38;5;241m.\u001B[39many():\n\u001B[0;32m   7069\u001B[0m     \u001B[38;5;28;01mif\u001B[39;00m errors \u001B[38;5;241m!=\u001B[39m \u001B[38;5;124m\"\u001B[39m\u001B[38;5;124mignore\u001B[39m\u001B[38;5;124m\"\u001B[39m:\n\u001B[1;32m-> 7070\u001B[0m         \u001B[38;5;28;01mraise\u001B[39;00m \u001B[38;5;167;01mKeyError\u001B[39;00m(\u001B[38;5;124mf\u001B[39m\u001B[38;5;124m\"\u001B[39m\u001B[38;5;132;01m{\u001B[39;00mlabels[mask]\u001B[38;5;241m.\u001B[39mtolist()\u001B[38;5;132;01m}\u001B[39;00m\u001B[38;5;124m not found in axis\u001B[39m\u001B[38;5;124m\"\u001B[39m)\n\u001B[0;32m   7071\u001B[0m     indexer \u001B[38;5;241m=\u001B[39m indexer[\u001B[38;5;241m~\u001B[39mmask]\n\u001B[0;32m   7072\u001B[0m \u001B[38;5;28;01mreturn\u001B[39;00m \u001B[38;5;28mself\u001B[39m\u001B[38;5;241m.\u001B[39mdelete(indexer)\n",
      "\u001B[1;31mKeyError\u001B[0m: \"['PE'] not found in axis\""
     ]
    }
   ],
   "source": [
    "X = ccpp_df.drop('PE')\n",
    "y = ccpp_df['PE']\n",
    "# Split for training\n",
    "ccpp_X_train, ccpp_X_test, ccpp_y_train, ccpp_y_test = train_test_split(X, y, test_size=0.2, random_state=42)"
   ],
   "metadata": {
    "collapsed": false,
    "ExecuteTime": {
     "end_time": "2024-05-20T14:49:53.846291Z",
     "start_time": "2024-05-20T14:49:53.792648Z"
    }
   },
   "id": "7854b4c2a383983",
   "execution_count": 102
  },
  {
   "cell_type": "code",
   "outputs": [
    {
     "data": {
      "text/plain": "array([[3.72521246e-01, 2.91814947e-01, 7.71591190e-01, 6.38203753e-01,\n        4.63260000e+02],\n       [6.62039660e-01, 6.69039146e-01, 6.71863400e-01, 4.49329759e-01,\n        4.44370000e+02],\n       [9.34844193e-02, 2.49822064e-01, 4.76862163e-01, 8.92493298e-01,\n        4.88560000e+02],\n       ...,\n       [8.35977337e-01, 8.71352313e-01, 4.95669389e-01, 1.46380697e-01,\n        4.29570000e+02],\n       [6.42209632e-01, 7.84519573e-01, 5.18930958e-01, 4.93699732e-01,\n        4.35740000e+02],\n       [5.60623229e-01, 6.61209964e-01, 6.02326157e-01, 5.67158177e-01,\n        4.53280000e+02]])"
     },
     "execution_count": 103,
     "metadata": {},
     "output_type": "execute_result"
    }
   ],
   "source": [
    "cols_to_scale = remaining_columns = [col for col in ccpp_df.columns if col != \"PE\"]\n",
    "preprocessor = ColumnTransformer(\n",
    "    transformers=[('scaler', MinMaxScaler(), cols_to_scale)],\n",
    "    remainder='passthrough')\n",
    "\n",
    "ccpp_df_transformed = preprocessor.fit_transform(ccpp_df)\n",
    "ccpp_df_transformed"
   ],
   "metadata": {
    "collapsed": false,
    "ExecuteTime": {
     "end_time": "2024-05-20T14:50:30.608046Z",
     "start_time": "2024-05-20T14:50:30.598077Z"
    }
   },
   "id": "3c0ad6d50eb52a53",
   "execution_count": 103
  }
 ],
 "metadata": {
  "kernelspec": {
   "display_name": "Python 3",
   "language": "python",
   "name": "python3"
  },
  "language_info": {
   "codemirror_mode": {
    "name": "ipython",
    "version": 2
   },
   "file_extension": ".py",
   "mimetype": "text/x-python",
   "name": "python",
   "nbconvert_exporter": "python",
   "pygments_lexer": "ipython2",
   "version": "2.7.6"
  }
 },
 "nbformat": 4,
 "nbformat_minor": 5
}
